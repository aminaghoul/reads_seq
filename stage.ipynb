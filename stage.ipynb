{
 "cells": [
  {
   "cell_type": "code",
   "execution_count": 137,
   "metadata": {},
   "outputs": [],
   "source": [
    "from itertools import chain\n",
    "from functools import partial\n",
    "\n",
    "import scipy\n",
    "from scipy import stats\n",
    "from scipy.optimize import fmin\n",
    "from scipy.stats import norm\n",
    "from scipy.stats import beta\n",
    "from scipy.special import gamma as gammaf\n",
    "\n",
    "import numpy as np\n",
    "import seaborn as sns\n",
    "import pandas as pd\n",
    "import matplotlib.pyplot as plt\n",
    "\n",
    "import random\n",
    "from numpy.random import choice\n",
    "import time\n",
    "import re\n",
    "\n",
    "sns.set(color_codes=True)\n",
    "from math import exp, log"
   ]
  },
  {
   "cell_type": "markdown",
   "metadata": {},
   "source": [
    "# Fitter bâton bêta\n",
    "On découpe aléatoirement un génome en N fragments et on récupère la taille des fragments obtenus.\n",
    "On cherche à vérifier que la distribution de la taille de ces fragments suit une loi bêta(1,N)."
   ]
  },
  {
   "cell_type": "code",
   "execution_count": 2,
   "metadata": {},
   "outputs": [],
   "source": [
    "def get_parts(longueur, nbr_frag):\n",
    "    \"\"\"\n",
    "    découpe aléatoirement un génome \n",
    "    <longueur>: longueur du génome à découper\n",
    "    <nbr_frag>: nombre de fragments souhaités\n",
    "    Return <nll>: liste de taille des fragments obtenus\n",
    "    \"\"\"\n",
    "    cuts = set()\n",
    "    while len(cuts) < nbr_frag - 1:\n",
    "        cuts.add(random.randint(1, longueur - 1))\n",
    "    cuts = [0] + list(sorted(cuts)) + [longueur]\n",
    "    return [cuts[i + 1] - cuts[i] for i in range(len(cuts) - 1)]"
   ]
  },
  {
   "cell_type": "markdown",
   "metadata": {},
   "source": [
    "On affiche l'histogramme de la distribution des tailles desfragments. \n",
    "\n",
    "Ici on a coupé un génome de taille 1 000 000 en N = 60 000 morceaux.\n",
    "\n",
    "On affiche également la densité de la loi bêta de paramètres : 1,N"
   ]
  },
  {
   "cell_type": "code",
   "execution_count": 3,
   "metadata": {},
   "outputs": [
    {
     "data": {
      "image/png": "[encoded data removed]",
      "text/plain": [
       "<Figure size 432x288 with 1 Axes>"
      ]
     },
     "metadata": {
      "needs_background": "light"
     },
     "output_type": "display_data"
    }
   ],
   "source": [
    "a=1\n",
    "b=60000\n",
    "\n",
    "taille = get_parts(1000000, 60000)\n",
    "\n",
    "t = sum(taille)\n",
    "taille = [i / t for i in taille] #normalise les tailles pour qu'elles soient comprises entre 0 et 1\n",
    "\n",
    "x = np.linspace(beta.ppf(0.01, a, b), beta.ppf(0.99, a, b), 60000)\n",
    "plt.plot(x, beta.pdf(x, a, b),'r-', lw=5, alpha=0.6, label='densité bêta(1,60000)')\n",
    "plt.hist(taille)\n",
    "plt.legend(loc='best', frameon=False)\n",
    "plt.title(\"Distribution des tailles des morceaux coupés aléatoirement\")\n",
    "plt.show()"
   ]
  },
  {
   "cell_type": "markdown",
   "metadata": {},
   "source": [
    "On remarque que la courbe de la densité de la loi bêta(1,60000) a la même allure que la distribution des tailles.\n",
    "\n",
    "## Méthodes moments\n",
    "\n",
    "Nous allons ensuite \"fitter\" cette distribution en utilisant la méthode des moments et celle du maximum de vraisemblance afin d'estimer les paramètres de la loi bêta.\n",
    "\n",
    "Soit la moyenne empirique : $m$ = $ \\frac{1}{n} $$\\sum_{i=1}^{n} x_{i}$ \n",
    "\n",
    "et la variance : $v$ = $ \\frac{1}{n} $$\\sum_{i=1}^{n} (x_{i}-m)$\n",
    "\n",
    "D'après la méthode des moments on estime les paramètres de la loi bêta($\\alpha$, $\\beta$) \n",
    "\n",
    "$\\alpha$ = $m$($ \\frac{m(1-m)}{v}$$ - 1)$\n",
    "\n",
    "$\\beta$ = $(1-m)$($ \\frac{m(1-m)}{v}$$-1)$\n"
   ]
  },
  {
   "cell_type": "code",
   "execution_count": 4,
   "metadata": {},
   "outputs": [
    {
     "name": "stdout",
     "output_type": "stream",
     "text": [
      "Les paramètres estimés par la méthode des moments sont : alpha =  1.0755860845764211 , beta =  64534.08948850069\n"
     ]
    }
   ],
   "source": [
    "mean = np.mean(taille)\n",
    "var = np.var(taille, ddof=1)\n",
    "\n",
    "alpha1 = mean ** 2 * (1 - mean) / var - mean\n",
    "beta1 = alpha1 * (1 - mean) / mean\n",
    "\n",
    "print(\"Les paramètres estimés par la méthode des moments sont : alpha = \", alpha1, \", beta = \",beta1)\n"
   ]
  },
  {
   "cell_type": "markdown",
   "metadata": {},
   "source": [
    "## Vraisemblance\n",
    "\n",
    "En utilisant la méthode du maximum de vraisemblance : \n",
    " \n",
    " $l($$\\alpha$, $\\beta$$)$ $=$ $\\sum_{i=1}^{n} $$-$log$f_{(\\alpha, \\beta)}(x_{i})$\n",
    " \n",
    " où $f_{(\\alpha, \\beta)}$ : la fonction densité de la loi bêta($\\alpha$, $\\beta$)\n",
    " \n",
    " L'estimateur du maximum de vraisemblance de $\\alpha$ et $\\beta$ est donné par :\n",
    " \n",
    " $(\\hat{\\alpha}, \\hat{\\beta})$ = $\\underset{\\alpha>0, \\beta>0 }{argmin}$ $l($$\\alpha$, $\\beta$$)$"
   ]
  },
  {
   "cell_type": "code",
   "execution_count": 5,
   "metadata": {},
   "outputs": [],
   "source": [
    "def betaNLL(param, *args):\n",
    "    \"\"\"\n",
    "    log négative vraisemblance pour bêta\n",
    "    <param>: liste des paramètres à \"fitter\"\n",
    "    <args>: données à \"fitter\"\n",
    "    Return <nll>: log négative vraisemblance à minimiser\n",
    "    \"\"\"  \n",
    "    a, b = param\n",
    "    data = args[0]\n",
    "    pdf = beta.pdf(data,a,b,loc=0,scale=1)\n",
    "    lg = np.log(pdf)\n",
    "    nll = -1*np.sum(lg)\n",
    "    return nll"
   ]
  },
  {
   "cell_type": "code",
   "execution_count": 6,
   "metadata": {},
   "outputs": [
    {
     "name": "stdout",
     "output_type": "stream",
     "text": [
      "Optimization terminated successfully.\n",
      "         Current function value: -600643.241549\n",
      "         Iterations: 128\n",
      "         Function evaluations: 256\n",
      "Les paramètres estimés par la méthode de la vraisemblance sont : \n",
      "alpha =  1.18504698795277 , beta =  71101.1087590054\n"
     ]
    }
   ],
   "source": [
    "result = fmin(betaNLL, [1, 1], args=(taille,))\n",
    "alpha2, beta2 = result\n",
    "\n",
    "print(\"Les paramètres estimés par la méthode de la vraisemblance sont : \\nalpha = \", alpha2, \", beta = \",beta2)\n"
   ]
  },
  {
   "cell_type": "markdown",
   "metadata": {},
   "source": [
    "On affiche ensuite les densités des lois bêta dont les paramètres ont été trouvés précedemment."
   ]
  },
  {
   "cell_type": "code",
   "execution_count": 7,
   "metadata": {},
   "outputs": [
    {
     "data": {
      "image/png": "[encoded data removed]",
      "text/plain": [
       "<Figure size 432x288 with 1 Axes>"
      ]
     },
     "metadata": {
      "needs_background": "light"
     },
     "output_type": "display_data"
    }
   ],
   "source": [
    "xx = np.linspace(beta.ppf(0.01, alpha2, beta2), beta.ppf(0.99, alpha2, beta2), 60000)\n",
    "plt.plot(xx, beta.pdf(xx, alpha2, beta2),'r-', lw=5, alpha=0.6, label='densité log vrais')\n",
    "plt.plot(xx, beta.pdf(xx, alpha1, beta1),'g-', lw=5, alpha=0.6, label='densité moments')\n",
    "plt.legend()\n",
    "plt.hist(taille)\n",
    "plt.show()"
   ]
  },
  {
   "cell_type": "markdown",
   "metadata": {},
   "source": [
    "# Fitter données expérimentales"
   ]
  },
  {
   "cell_type": "code",
   "execution_count": 46,
   "metadata": {},
   "outputs": [],
   "source": [
    "def f(x, g, n):\n",
    "    \"\"\"\n",
    "    fonction loi beta qui correspond à la distribution théorique de la taille des reads\n",
    "    :param x: taille des reads\n",
    "    :param g: taille du génome\n",
    "    :param n: nombre de fragments\n",
    "    :return: fonction loi beta\n",
    "    \"\"\"\n",
    "    return  n* (1 - x/g) ** (n - 1)"
   ]
  },
  {
   "cell_type": "markdown",
   "metadata": {},
   "source": [
    "On trace cette fonction pour un génome de taille 1000000 et de nombre de fragments 60 000."
   ]
  },
  {
   "cell_type": "code",
   "execution_count": 24,
   "metadata": {},
   "outputs": [
    {
     "data": {
      "text/plain": [
       "[<matplotlib.lines.Line2D at 0x7f5221af9828>]"
      ]
     },
     "execution_count": 24,
     "metadata": {},
     "output_type": "execute_result"
    },
    {
     "data": {
      "image/png": "[encoded data removed]",
      "text/plain": [
       "<Figure size 432x288 with 1 Axes>"
      ]
     },
     "metadata": {},
     "output_type": "display_data"
    }
   ],
   "source": [
    "a=1\n",
    "b=60000\n",
    "\n",
    "x = np.linspace(beta.ppf(0.01, a, b), beta.ppf(0.99, a, b), 1000)\n",
    "plt.plot(x, f(x,1000000,b))"
   ]
  },
  {
   "cell_type": "code",
   "execution_count": 3,
   "metadata": {},
   "outputs": [],
   "source": [
    "monFichier = open(\"../Documents/Donnees/DRR164913.fastq\", \"r\") #MINION\n",
    "taille = []\n",
    "f = []\n",
    "norm = []\n",
    "\n",
    "for line in monFichier:\n",
    "    fields = line.strip().split()\n",
    "    for idx, word in enumerate(fields):\n",
    "        f.append(word)\n",
    "\n",
    "for i, element in enumerate(f):\n",
    "    if element.endswith(\"/1\") and i + 1 < len(f):\n",
    "        taille.append(len(f[i + 1]))"
   ]
  },
  {
   "cell_type": "code",
   "execution_count": 113,
   "metadata": {},
   "outputs": [
    {
     "data": {
      "image/png": "[encoded data removed]",
      "text/plain": [
       "<Figure size 432x288 with 1 Axes>"
      ]
     },
     "metadata": {},
     "output_type": "display_data"
    },
    {
     "name": "stdout",
     "output_type": "stream",
     "text": [
      "[4.09995000e+05 2.09928387e+05 1.07488822e+05 5.50370266e+04\n",
      " 2.81803347e+04 1.44290207e+04 7.38800351e+03 3.78283026e+03\n",
      " 1.93689528e+03 9.91733428e+02 5.07789001e+02 2.59998685e+02\n",
      " 1.33124668e+02 6.81624908e+01 3.49005194e+01 1.78697244e+01\n",
      " 9.14962603e+00 4.68477091e+00 2.39868323e+00 1.22816570e+00\n",
      " 6.28840572e-01 3.21976125e-01 1.64856590e-01 8.44089461e-02\n",
      " 4.32185478e-02 2.21284700e-02 1.13300579e-02 5.80112732e-03\n",
      " 2.97024443e-03 1.52079792e-03 7.78664460e-04 3.98683923e-04\n",
      " 2.04129897e-04 1.04516302e-04 5.35132074e-05 2.73991729e-05\n",
      " 1.40285715e-05 7.18272055e-06 3.67759598e-06 1.88294913e-06\n",
      " 9.64079139e-07 4.93612681e-07 2.52731547e-07 1.29399360e-07\n",
      " 6.62528137e-08 3.39215783e-08 1.73678996e-08 8.89238125e-09\n",
      " 4.55290275e-09 2.33108548e-09]\n"
     ]
    },
    {
     "data": {
      "image/png": "[encoded data removed]",
      "text/plain": [
       "<Figure size 432x288 with 1 Axes>"
      ]
     },
     "metadata": {},
     "output_type": "display_data"
    }
   ],
   "source": [
    "t = sum(taille)\n",
    "maxi = max(taille)\n",
    "a=1\n",
    "b=len(taille)\n",
    "g = 1000000000\n",
    "norm = [i / t for i in taille]\n",
    "\n",
    "x = np.linspace(beta.ppf(0.01, a, b), beta.ppf(0.99, a, b), 60000)\n",
    "\n",
    "plt.plot(x, beta.pdf(x, a, b),'r-', lw=5, alpha=0.6, label='densité bêta(1,60000)')\n",
    "plt.hist(norm)\n",
    "plt.show()\n",
    "\n",
    "xx = np.linspace(0, 80000)\n",
    "weights = np.ones_like(taille) / float(len(taille))\n",
    "print(f(xx,g,b)) #tester fonction pour déterminer la taille du génome #problème\n",
    "#plt.plot(xx, f(xx,g,b), 'g')\n",
    "plt.hist(taille)\n",
    "plt.show()"
   ]
  },
  {
   "cell_type": "markdown",
   "metadata": {},
   "source": [
    "# Simulation séquençage\n",
    "\n",
    "On écrit un programme permettant de découper un génome en N morceaux où N suit soit une loi normale, uniforme ou de poisson."
   ]
  },
  {
   "cell_type": "markdown",
   "metadata": {},
   "source": [
    "On trace cette fonction pour un génome de taille 1000000 et de nombre de fragments 60 000."
   ]
  },
  {
   "cell_type": "code",
   "execution_count": 133,
   "metadata": {},
   "outputs": [],
   "source": [
    "lois = ['normale', 'uniforme', 'poisson']\n",
    "\n",
    "def fracture(echantillons, taille_genome, loi='normale', parametres=None):\n",
    "    \"\"\"\n",
    "    Fracture une liste d'échantillons en utilisant un nombre de fractures variables de loi n = Norm(N, sigma)\n",
    "    :param sigma:\n",
    "    :param n: Ecart-type\n",
    "    :param echantillons:\n",
    "    :return:\n",
    "    \"\"\"\n",
    "    if loi == 'normale':\n",
    "        n, sigma = parametres\n",
    "        nfrag = n + np.random.randn(len(echantillons)) * sigma\n",
    "        \n",
    "    elif loi == 'uniforme':\n",
    "        nmin, nmax = parametres\n",
    "        nfrag = np.random.uniform(nmin, nmax, len(echantillons))\n",
    "\n",
    "    elif loi == 'poisson':\n",
    "        n = parametres\n",
    "        nfrag = np.random.poisson(n, len(echantillons))\n",
    "        \n",
    "    else:\n",
    "        raise NotImplementedError(loi)\n",
    "    échantillons_fracturés = []\n",
    "    échantillon_fracture = []\n",
    "\n",
    "    # On prends chaque échantillon et lui associe un nombre de fractures, converti en int à la volée\n",
    "    for index, (nombre_fragments, taille_échantillon) in enumerate(zip(map(int, nfrag), echantillons)):\n",
    "\n",
    "        if nombre_fragments > taille_échantillon:\n",
    "            raise ValueError(\n",
    "                '\\n\\n\\n'\n",
    "                'ERREUR: Le nombre de fragments demandé est trop grand, il est impossible de continuer\\n'\n",
    "                'Vous pouvez: \\n'\n",
    "                '\\t- Réduire le nombre de fragments demandé, en jouant sur N et sigma\\n'\n",
    "                '\\t- Augmenter la taille des échantillons à fracturer\\n'\n",
    "            )\n",
    "        # Il y aura n - 1 fractures pour obtenir n elements\n",
    "        nombre_fractures = nombre_fragments - 1\n",
    "\n",
    "        # Une fracture sera placée avant l'index désigné, donc une fracture\n",
    "        #   localisée à l'index 1 donnera un morceau de 1 et un de taille - 1\n",
    "        fractures = set()\n",
    "        while len(fractures) < nombre_fractures:\n",
    "            fractures.update(np.random.randint(1, taille_échantillon - 1, nombre_fractures))\n",
    "        if len(fractures) != nombre_fractures:\n",
    "            if len(fractures) < nombre_fractures:\n",
    "                raise RuntimeError('ERREUR: Une erreur s\\'est produite: pas assez de fragments')\n",
    "            fractures = set(list(fractures)[:nombre_fractures])\n",
    "            \n",
    "        fractures = list(fractures)\n",
    "        \n",
    "        fractures = [0] + list(sorted(fractures)) + [taille_échantillon]\n",
    "        échantillon_fracturé = [\n",
    "            fractures[i + 1] - fractures[i] for i in range(len(fractures) - 1)\n",
    "        ]\n",
    "        if sum(échantillon_fracturé) != taille_échantillon:\n",
    "            raise RuntimeError(\n",
    "                \"ERREUR: Une erreur s'est produite lors de la fragmentation, \\n\"\n",
    "                f\"Nous avons {abs(sum(échantillon_fracturé) - taille_échantillon)}\"\n",
    "                f\" fragments de différence entre ce qu'on attendais et ce qu'on a\"\n",
    "                f\" ({sum(échantillon_fracturé)} contre {taille_échantillon})\"\n",
    "            )\n",
    "        échantillon_fracturé = list(i for i in sorted(échantillon_fracturé))\n",
    "        échantillons_fracturés.append(échantillon_fracturé)\n",
    "        \n",
    "    return échantillons_fracturés"
   ]
  },
  {
   "cell_type": "code",
   "execution_count": 110,
   "metadata": {},
   "outputs": [],
   "source": [
    "def choices(array, weights, k):\n",
    "    \"\"\"\n",
    "    fonction comme random choice sans remplacement\n",
    "    \"\"\"\n",
    "    assert len(array) > k\n",
    "    index, cumulated = 0, []\n",
    "    for w in weights:\n",
    "        cumulated.append(index)\n",
    "        index += w\n",
    "    choi = set()\n",
    "    while len(choi) < k:\n",
    "        i = random.random() * index\n",
    "        j = next(y for y, x in reversed(list(enumerate(cumulated))) if i > x)\n",
    "        choi.add(j)\n",
    "    return [array[k] for k in choi]"
   ]
  },
  {
   "cell_type": "markdown",
   "metadata": {},
   "source": [
    "On tire N morceaux tel que les petit morceaux aient plus de chance d'être tirés grâce à la fonction random.choice  "
   ]
  },
  {
   "cell_type": "code",
   "execution_count": 160,
   "metadata": {},
   "outputs": [
    {
     "name": "stdout",
     "output_type": "stream",
     "text": [
      "99526\n",
      "99526\n"
     ]
    },
    {
     "data": {
      "image/png": "[encoded data removed]",
      "text/plain": [
       "<Figure size 432x288 with 1 Axes>"
      ]
     },
     "metadata": {},
     "output_type": "display_data"
    },
    {
     "name": "stdout",
     "output_type": "stream",
     "text": [
      "148303\n",
      "148303\n"
     ]
    },
    {
     "data": {
      "image/png": "[encoded data removed]",
      "text/plain": [
       "<Figure size 432x288 with 1 Axes>"
      ]
     },
     "metadata": {},
     "output_type": "display_data"
    },
    {
     "name": "stdout",
     "output_type": "stream",
     "text": [
      "10009114\n",
      "10009114\n"
     ]
    },
    {
     "data": {
      "image/png": "[encoded data removed]",
      "text/plain": [
       "<Figure size 432x288 with 1 Axes>"
      ]
     },
     "metadata": {},
     "output_type": "display_data"
    }
   ],
   "source": [
    "taille_genome =1500000\n",
    "nombre_morceaux = 60000\n",
    "\n",
    "def poid(element, tout, maxi, mini):\n",
    "    p = maxi - element + 10\n",
    "    return p\n",
    "\n",
    "for loi, parametres in [\n",
    "    ('normale', (100, 10)),\n",
    "    ('uniforme', (100, 200)),\n",
    "    ('poisson', 10000)\n",
    "]:\n",
    "    fragments = list(chain.from_iterable(fracture([taille_genome] * 1000, taille_genome, loi, parametres)))\n",
    "    print(len(fragments))\n",
    "    maxi, mini = max(fragments), min(fragments)\n",
    "    sumi = sum(fragments)\n",
    "    poids = list(map(partial(poid, mini=mini, maxi=maxi, tout=fragments), fragments))\n",
    "    \n",
    "    \n",
    "    s=sum(poids)\n",
    "    \n",
    "    print(len(fragments))\n",
    "    fragments = choice(fragments, 60000, p=poids/s, replace=False)\n",
    "    #fragments = choices(fragments, poids, k=1000)\n",
    "    \n",
    "    weights = np.ones_like(fragments) / float(len(fragments))\n",
    "    plt.xlabel('taille en bp')\n",
    "    plt.title('N suit une loi %s' %loi)\n",
    "    plt.hist(fragments)\n",
    "    plt.show()\n"
   ]
  },
  {
   "cell_type": "markdown",
   "metadata": {},
   "source": [
    "# Théorie : on calcule les densités des lois composées"
   ]
  },
  {
   "cell_type": "markdown",
   "metadata": {},
   "source": [
    "## Loi bêta - uniforme"
   ]
  },
  {
   "cell_type": "code",
   "execution_count": 139,
   "metadata": {},
   "outputs": [
    {
     "data": {
      "image/png": "[encoded data removed]",
      "text/plain": [
       "<Figure size 432x288 with 1 Axes>"
      ]
     },
     "metadata": {},
     "output_type": "display_data"
    }
   ],
   "source": [
    "x=np.linspace(0.000000000001,0.0003)\n",
    "def f(x, b):\n",
    "    return (1./b)*((b*np.exp((b-1)*np.log(1-x)))/(np.log(1-x))-(np.exp((b-1)*np.log(1-x)))/((np.log(1-x))**2)+(np.exp((-np.log(1-x)))/((np.log(1-x))**2)))\n",
    "b=60000*2\n",
    "\n",
    "plt.title('Densité de la loi composée bêta-uniforme')\n",
    "plt.plot(x, f(x,b))\n",
    "plt.show()\n"
   ]
  },
  {
   "cell_type": "markdown",
   "metadata": {},
   "source": [
    "## Loi bêta-poisson\n",
    "\n",
    "On calcule la densité de la loi composée H de la loi bêta F et de poisson G.\n",
    "\n",
    "$p_{H}(x) = \\int_{0}^{+\\infty} p_{F}(x|\\theta) p_{G}(\\theta)d\\theta$\n",
    "\n",
    "$p_{H}(x) = \\int_{0}^{+\\infty}n(1-x)^{n-1}\\frac{\\lambda^{n}e^{-\\lambda}}{n!}dn$"
   ]
  },
  {
   "cell_type": "code",
   "execution_count": 157,
   "metadata": {},
   "outputs": [
    {
     "data": {
      "image/png": "[encoded data removed]",
      "text/plain": [
       "<Figure size 432x288 with 1 Axes>"
      ]
     },
     "metadata": {},
     "output_type": "display_data"
    }
   ],
   "source": [
    "x=np.linspace(0,0.00005)\n",
    "l=350000\n",
    "\n",
    "def f(x, l):\n",
    "    return l*np.exp(-l*x)+(np.exp(-l)*l*l)/(1-x)\n",
    "\n",
    "plt.title('Densité de la loi composée bêta-poisson')\n",
    "plt.plot(x,f(x,l))\n",
    "#plt.hist(taille) #problème ne coincide pas\n",
    "plt.show()"
   ]
  },
  {
   "cell_type": "code",
   "execution_count": 162,
   "metadata": {},
   "outputs": [
    {
     "data": {
      "text/plain": [
       "[0.05301745465475605,\n",
       " 0.3547353706690936,\n",
       " 0.9027389680122604,\n",
       " 1.6297879418643835,\n",
       " 2.4719339219635903,\n",
       " 3.383300674331003,\n",
       " 4.3345912840842065,\n",
       " 5.308255662827063,\n",
       " 6.2941981634857305,\n",
       " 7.286771669433209,\n",
       " 8.282881543715257,\n",
       " 9.280858297729399,\n",
       " 10.279812354557542,\n",
       " 11.27927443144787,\n",
       " 12.278999004309918,\n",
       " 13.278858506184358,\n",
       " 14.278787047551193,\n",
       " 15.278750768332522,\n",
       " 16.278732344494667,\n",
       " 17.278722946166283,\n",
       " 18.278718087533278,\n",
       " 19.278715495790177,\n",
       " 20.278714021614835,\n",
       " 21.278713084264325,\n",
       " 22.278712389915988,\n",
       " 23.278711789135443,\n",
       " 24.27871120494524,\n",
       " 25.278710596612598,\n",
       " 26.27870994145981,\n",
       " 27.27870922574608,\n",
       " 28.27870844010528,\n",
       " 29.278707577267102,\n",
       " 30.278706630920617,\n",
       " 31.278705595148335,\n",
       " 32.278704464144774,\n",
       " 33.27870323207668,\n",
       " 34.278701893013675,\n",
       " 35.27870044089391,\n",
       " 36.27869886950704,\n",
       " 37.27869717248584,\n",
       " 38.278695343302026,\n",
       " 39.27869337526422,\n",
       " 40.27869126151694,\n",
       " 41.278688995040106,\n",
       " 42.278686568648794,\n",
       " 43.27868397499312,\n",
       " 44.27868120655819,\n",
       " 45.27867825566407,\n",
       " 46.27867511446577]"
      ]
     },
     "execution_count": 162,
     "metadata": {},
     "output_type": "execute_result"
    }
   ],
   "source": [
    "l, c = [], 0\n",
    "for i in range(len(x) - 1):\n",
    "    m = (x[i] + x[i + 1]) / 2\n",
    "    y = m * f(m,60000*2)\n",
    "    c += y\n",
    "    l.append(c)\n",
    "\n",
    "l"
   ]
  },
  {
   "cell_type": "code",
   "execution_count": 161,
   "metadata": {},
   "outputs": [
    {
     "name": "stdout",
     "output_type": "stream",
     "text": [
      "1.6666666666666667e-05\n",
      "1.666638889351844e-05\n"
     ]
    }
   ],
   "source": [
    "x=np.linspace(0,0.0003)\n",
    "N=20000000000000\n",
    "l=60000\n",
    "def f(l, N):\n",
    "    \"\"\"\n",
    "    espérance bêta-poisson\n",
    "    \"\"\"\n",
    "    return  -N*np.exp(-l*N)-(1/l)*np.exp(-l*N)+1/l+l*l*np.exp(-l)*(-N-np.log(np.abs(1-N)))\n",
    "\n",
    "\n",
    "print(f(l,N))\n",
    "\n",
    "print(1/(1+60000)) #espérance loi bêta"
   ]
  },
  {
   "cell_type": "code",
   "execution_count": null,
   "metadata": {},
   "outputs": [],
   "source": []
  }
 ],
 "metadata": {
  "kernelspec": {
   "display_name": "Python 3",
   "language": "python",
   "name": "python3"
  },
  "language_info": {
   "codemirror_mode": {
    "name": "ipython",
    "version": 3
   },
   "file_extension": ".py",
   "mimetype": "text/x-python",
   "name": "python",
   "nbconvert_exporter": "python",
   "pygments_lexer": "ipython3",
   "version": "3.6.7"
  }
 },
 "nbformat": 4,
 "nbformat_minor": 2
}
