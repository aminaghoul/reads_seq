{
 "cells": [
  {
   "cell_type": "code",
   "execution_count": 3,
   "metadata": {},
   "outputs": [],
   "source": [
    "from itertools import chain\n",
    "\n",
    "from scipy.stats import norm\n",
    "import numpy as np\n",
    "import seaborn as sns\n",
    "import pandas as pd\n",
    "from matplotlib import pyplot as plt"
   ]
  },
  {
   "cell_type": "code",
   "execution_count": 86,
   "metadata": {},
   "outputs": [],
   "source": [
    "def frac(taille_échantillon, nombre_fragments):\n",
    "\t# On prends chaque échantillon et lui associe un nombre de fractures, converti en int à la volée\n",
    "\tif nombre_fragments > taille_échantillon:\n",
    "\t\traise ValueError(\n",
    "\t\t\t'\\n\\n\\n'\n",
    "\t\t\t'ERREUR: Le nombre de fragments demandé est trop grand, il est impossible de continuer\\n'\n",
    "\t\t\t'Vous pouvez: \\n'\n",
    "\t\t\t'\\t- Réduire le nombre de fragments demandé, en jouant sur N et sigma\\n'\n",
    "\t\t\t'\\t- Augmenter la taille des échantillons à fracturer\\n'\n",
    "\t\t)\n",
    "\t# Il y aura n - 1 fractures pour obtenir n elements\n",
    "\tnombre_fractures = nombre_fragments - 1\n",
    "\t# Une fracture sera placée avant l'index désigné, donc une fracture\n",
    "\t#   localisée à l'index 1 donnera un morceau de 1 et un de taille - 1\n",
    "\tfractures = set()\n",
    "\twhile len(fractures) < nombre_fractures:\n",
    "\t\tfractures.update(np.random.randint(1, taille_échantillon - 1, nombre_fractures))\n",
    "\tprint(list(sorted(fractures))[:10])\n",
    "\tif len(fractures) != nombre_fractures:\n",
    "\t\tif len(fractures) < nombre_fractures:\n",
    "\t\t\traise RuntimeError('ERREUR: Une erreur s\\'est produite: pas assez de fragments')\n",
    "\t\tfractures = set(list(fractures)[:nombre_fractures])\n",
    "\tfractures = [0] + list(sorted(fractures)) + [taille_échantillon]\n",
    "\tprint(list(sorted(fractures))[-10:])\n",
    "\téchantillon_fracturé = [\n",
    "\t\tfractures[i + 1] - fractures[i] for i in range(nombre_fragments)\n",
    "\t]\n",
    "\tif sum(échantillon_fracturé) != taille_échantillon:\n",
    "\t\traise RuntimeError(\n",
    "\t\t\t\"ERREUR: Une erreur s'est produite lors de la fragmentation, \\n\"\n",
    "\t\t\tf\"Nous avons {abs(sum(échantillon_fracturé) - taille_échantillon)}\"\n",
    "\t\t\tf\" fragments de différence entre ce qu'on attendais et ce qu'on a\"\n",
    "\t\t)\n",
    "\tprint(list(i for i in sorted(échantillon_fracturé))[:10])\n",
    "\treturn échantillon_fracturé"
   ]
  },
  {
   "cell_type": "code",
   "execution_count": 87,
   "metadata": {},
   "outputs": [],
   "source": [
    "def fracture(echantillons, n=65952, sigma=100):\n",
    "\t\"\"\"\n",
    "\tFracture une liste d'échantillons en utilisant un nombre de fractures variables de loi n = Norm(N, sigma)\n",
    "\t:param sigma:\n",
    "\t:param n: Ecart-type\n",
    "\t:param echantillons:\n",
    "\t:return:\n",
    "\t\"\"\"\n",
    "\t#\n",
    "\téchantillons_fracturés = []\n",
    "\n",
    "\t# randn nous donne la loi normale centrée, on la convertis donc avec cette ligne\n",
    "\tn = n + np.random.randn(len(echantillons)) * sigma\n",
    "\t#n = np.random.uniform(0, 131206, len(echantillons))#erreur\n",
    "\t#n = np.random.poisson(65603, len(echantillons))\n",
    "\t#n = np.random.geometric(1./65603, len(echantillons))#erreur\n",
    "\t#n = np.random.exponential(1./65603, len(echantillons))\n",
    "\tfor i in range(len(echantillons)):\n",
    "\t\tn[i]=n[i]/len(echantillons)\n",
    "\t\n",
    "\t# On prends chaque échantillon et lui associe un nombre de fractures, converti en int à la volée\n",
    "\tfor nombre_fragments, taille_échantillon in zip(map(int, n), echantillons):\n",
    "\n",
    "\t\tif nombre_fragments > taille_échantillon:\n",
    "\t\t\traise ValueError(\n",
    "\t\t\t\t'\\n\\n\\n'\n",
    "\t\t\t\t'ERREUR: Le nombre de fragments demandé est trop grand, il est impossible de continuer\\n'\n",
    "\t\t\t\t'Vous pouvez: \\n'\n",
    "\t\t\t\t'\\t- Réduire le nombre de fragments demandé, en jouant sur N et sigma\\n'\n",
    "\t\t\t\t'\\t- Augmenter la taille des échantillons à fracturer\\n'\n",
    "\t\t\t)\n",
    "\t\t# Il y aura n - 1 fractures pour obtenir n elements\n",
    "\t\tnombre_fractures = nombre_fragments - 1\n",
    "\n",
    "\t\t# Une fracture sera placée avant l'index désigné, donc une fracture\n",
    "\t\t#   localisée à l'index 1 donnera un morceau de 1 et un de taille - 1\n",
    "\t\tfractures = set()\n",
    "\t\twhile len(fractures) < nombre_fractures:\n",
    "\t\t\tfractures.update(np.random.randint(1, taille_échantillon - 1, nombre_fractures))\n",
    "\t\tif len(fractures) != nombre_fractures:\n",
    "\t\t\tif len(fractures) < nombre_fractures:\n",
    "\t\t\t\traise RuntimeError('ERREUR: Une erreur s\\'est produite: pas assez de fragments')\n",
    "\t\t\tfractures = set(list(fractures)[:nombre_fractures])\n",
    "\t\tfractures = [0] + list(sorted(fractures)) + [taille_échantillon]\n",
    "\t\téchantillon_fracturé = [\n",
    "\t\t\tfractures[i + 1] - fractures[i] for i in range(nombre_fragments)\n",
    "\t\t]\n",
    "\t\tif sum(échantillon_fracturé) != taille_échantillon:\n",
    "\t\t\traise RuntimeError(\n",
    "\t\t\t\t\"ERREUR: Une erreur s'est produite lors de la fragmentation, \\n\"\n",
    "\t\t\t\tf\"Nous avons {abs(sum(échantillon_fracturé) - taille_échantillon)}\"\n",
    "\t\t\t\tf\" fragments de différence entre ce qu'on attendais et ce qu'on a\"\n",
    "\t\t\t)\n",
    "\t\téchantillon_fracturé = list(i for i in sorted(échantillon_fracturé))\n",
    "\t\téchantillons_fracturés.append(échantillon_fracturé)\n",
    "\n",
    "\treturn échantillons_fracturés"
   ]
  },
  {
   "cell_type": "code",
   "execution_count": 88,
   "metadata": {},
   "outputs": [],
   "source": [
    "taille_genome = 1000000\n",
    "nombre_morceaux = 65603\n",
    "seuil = 80000\n",
    "fragments = list(chain.from_iterable(fracture([taille_genome] * 1000, nombre_morceaux)))\n",
    "#fragments = [x for x in fragments if x < seuil]"
   ]
  },
  {
   "cell_type": "code",
   "execution_count": 89,
   "metadata": {},
   "outputs": [
    {
     "data": {
      "image/png": "[encoded data removed]",
      "text/plain": [
       "<Figure size 432x288 with 1 Axes>"
      ]
     },
     "metadata": {},
     "output_type": "display_data"
    }
   ],
   "source": [
    "sns.set(color_codes=True)\n",
    "#sns.distplot(fragments, kde=False, rug=False)\n",
    "plt.show()\n",
    "if __name__ == '__main__':\n",
    "\tplt.hist(fragments, bins=20)\n",
    "\tplt.show()\n"
   ]
  },
  {
   "cell_type": "code",
   "execution_count": 90,
   "metadata": {},
   "outputs": [
    {
     "data": {
      "image/png": "[encoded data removed]",
      "text/plain": [
       "<Figure size 432x288 with 1 Axes>"
      ]
     },
     "metadata": {},
     "output_type": "display_data"
    },
    {
     "data": {
      "image/png": "[encoded data removed]",
      "text/plain": [
       "<Figure size 432x288 with 1 Axes>"
      ]
     },
     "metadata": {},
     "output_type": "display_data"
    }
   ],
   "source": [
    "taille_genome = 1000000\n",
    "nombre_morceaux = 65719\n",
    "\n",
    "fragments = list(chain.from_iterable(fracture([taille_genome] * 1000, nombre_morceaux)))\n",
    "\n",
    "norm = []\n",
    "sns.set(color_codes=True)\n",
    "sns.distplot(fragments, kde=False, rug=False)\n",
    "plt.show()\n",
    "if __name__ == '__main__':\n",
    "\tplt.hist(fragments)\n",
    "\tplt.show()\n"
   ]
  },
  {
   "cell_type": "code",
   "execution_count": null,
   "metadata": {},
   "outputs": [],
   "source": []
  },
  {
   "cell_type": "code",
   "execution_count": null,
   "metadata": {},
   "outputs": [],
   "source": []
  },
  {
   "cell_type": "code",
   "execution_count": null,
   "metadata": {},
   "outputs": [],
   "source": []
  },
  {
   "cell_type": "code",
   "execution_count": null,
   "metadata": {},
   "outputs": [],
   "source": []
  },
  {
   "cell_type": "code",
   "execution_count": null,
   "metadata": {},
   "outputs": [],
   "source": []
  },
  {
   "cell_type": "code",
   "execution_count": null,
   "metadata": {},
   "outputs": [],
   "source": []
  },
  {
   "cell_type": "code",
   "execution_count": null,
   "metadata": {},
   "outputs": [],
   "source": []
  }
 ],
 "metadata": {
  "kernelspec": {
   "display_name": "Python 3",
   "language": "python",
   "name": "python3"
  },
  "language_info": {
   "codemirror_mode": {
    "name": "ipython",
    "version": 3
   },
   "file_extension": ".py",
   "mimetype": "text/x-python",
   "name": "python",
   "nbconvert_exporter": "python",
   "pygments_lexer": "ipython3",
   "version": "3.6.7"
  }
 },
 "nbformat": 4,
 "nbformat_minor": 2
}
