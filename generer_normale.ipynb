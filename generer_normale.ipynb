{
 "cells": [
  {
   "cell_type": "code",
   "execution_count": 3,
   "metadata": {},
   "outputs": [],
   "source": [
    "from itertools import chain\n",
    "import scipy\n",
    "from scipy.optimize import fmin\n",
    "from scipy.stats import norm\n",
    "from scipy.stats import beta\n",
    "from scipy.special import gamma as gammaf\n",
    "import numpy as np\n",
    "import random\n",
    "import time\n",
    "import seaborn as sns\n",
    "import pandas as pd\n",
    "from matplotlib import pyplot as plt"
   ]
  },
  {
   "cell_type": "markdown",
   "metadata": {},
   "source": [
    "On découpe aléatoirement un génome en N fragments et on récupère la taille des fragments obtenus.\n",
    "On cherche à vérifier que la distribution de la taille de ces fragments suit une loi bêta(1,N)."
   ]
  },
  {
   "cell_type": "code",
   "execution_count": 69,
   "metadata": {},
   "outputs": [],
   "source": [
    "def get_parts(longueur, nbr_frag):\n",
    "    \"\"\"\n",
    "    découpe aléatoirement un génome \n",
    "    <longueur>: longueur du génome à découper\n",
    "    <nbr_frag>: nombre de fragments souhaités\n",
    "    Return <nll>: liste de taille des fragments obtenus\n",
    "    \"\"\"\n",
    "    cuts = set()\n",
    "    while len(cuts) < nbr_frag - 1:\n",
    "        cuts.add(random.randint(1, longueur - 1))\n",
    "    cuts = [0] + list(sorted(cuts)) + [longueur]\n",
    "    return [cuts[i + 1] - cuts[i] for i in range(len(cuts) - 1)]"
   ]
  },
  {
   "cell_type": "markdown",
   "metadata": {},
   "source": [
    "On affiche l'histogramme de la distribution des tailles desfragments. \n",
    "\n",
    "Ici on a coupé un génome de taille 1 000 000 en N = 60 000 morceaux.\n",
    "\n",
    "On affiche également la densité de la loi bêta de paramètres : 1,N"
   ]
  },
  {
   "cell_type": "code",
   "execution_count": 70,
   "metadata": {},
   "outputs": [
    {
     "data": {
      "image/png": "[encoded data removed]",
      "text/plain": [
       "<Figure size 432x288 with 1 Axes>"
      ]
     },
     "metadata": {
      "needs_background": "light"
     },
     "output_type": "display_data"
    }
   ],
   "source": [
    "a=1\n",
    "b=60000\n",
    "taille = get_parts(1000000, 60000)\n",
    "t = sum(taille)\n",
    "taille = [i / t for i in taille]\n",
    "x = np.linspace(beta.ppf(0.01, a, b), beta.ppf(0.99, a, b), 60000)\n",
    "plt.plot(x, beta.pdf(x, a, b),'r-', lw=5, alpha=0.6, label='densité bêta(1,60000)')\n",
    "plt.hist(taille)\n",
    "plt.legend(loc='best', frameon=False)\n",
    "plt.title(\"Distribution des tailles des morceaux coupés aléatoirement\")\n",
    "plt.show()"
   ]
  },
  {
   "cell_type": "markdown",
   "metadata": {},
   "source": [
    "On remarque que la courbe de la densité de la loi bêta(1,60000) a la même allure que la distribution des tailles.\n",
    "\n",
    "Nous allons ensuite \"fitter\" cette distribution en utilisant la méthode des moments et celle du maximum de vraisemblance afin d'estimer les paramètres de la loi bêta.\n",
    "\n"
   ]
  },
  {
   "cell_type": "markdown",
   "metadata": {},
   "source": [
    "Soit la moyenne empirique : $m$ = $ \\frac{1}{n} $$\\sum_{i=1}^{n} x_{i}$ \n",
    "\n",
    "et la variance : $v$ = $ \\frac{1}{n} $$\\sum_{i=1}^{n} (x_{i}-m)$\n",
    "\n",
    "D'après la méthode des moments on estime les paramètres de la loi bêta($\\alpha$, $\\beta$) \n",
    "\n",
    "$\\alpha$ = $m$($ \\frac{m(1-m)}{v}$$ - 1)$\n",
    "\n",
    "$\\beta$ = $(1-m)$($ \\frac{m(1-m)}{v}$$-1)$\n"
   ]
  },
  {
   "cell_type": "code",
   "execution_count": 77,
   "metadata": {},
   "outputs": [
    {
     "name": "stdout",
     "output_type": "stream",
     "text": [
      "Les paramètres estimés par la méthode des moments sont : alpha =  1.0503279302630193 , beta =  63018.62548784105\n"
     ]
    }
   ],
   "source": [
    "mean = np.mean(taille)\n",
    "var = np.var(taille, ddof=1)\n",
    "\n",
    "alpha1 = mean ** 2 * (1 - mean) / var - mean\n",
    "beta1 = alpha1 * (1 - mean) / mean\n",
    "\n",
    "print(\"Les paramètres estimés par la méthode des moments sont : alpha = \", alpha1, \", beta = \",beta1)\n"
   ]
  },
  {
   "cell_type": "code",
   "execution_count": null,
   "metadata": {},
   "outputs": [],
   "source": [
    " "
   ]
  },
  {
   "cell_type": "code",
   "execution_count": 85,
   "metadata": {},
   "outputs": [],
   "source": [
    "def betaNLL(param, *args):\n",
    "    \"\"\"\n",
    "    log négative vraisemblance pour bêta\n",
    "    <param>: liste des paramètres à \"fitter\"\n",
    "    <args>: données à \"fitter\"\n",
    "    Return <nll>: log négative vraisemblance à minimiser\n",
    "    \"\"\"  \n",
    "    a, b = param\n",
    "    data = args[0]\n",
    "    pdf = beta.pdf(data,a,b,loc=0,scale=1)\n",
    "    lg = np.log(pdf)\n",
    "    nll = -1*np.sum(lg)\n",
    "    return nll"
   ]
  },
  {
   "cell_type": "code",
   "execution_count": 84,
   "metadata": {},
   "outputs": [
    {
     "name": "stdout",
     "output_type": "stream",
     "text": [
      "Optimization terminated successfully.\n",
      "         Current function value: -600591.309665\n",
      "         Iterations: 130\n",
      "         Function evaluations: 260\n",
      "Les paramètres estimés par la méthode de la vraisemblance sont : \n",
      "alpha =  1.1743532265928578 , beta =  70459.96364140954\n"
     ]
    }
   ],
   "source": [
    "result = fmin(betaNLL, [1, 1], args=(taille,))\n",
    "alpha2, beta2 = result\n",
    "print(\"Les paramètres estimés par la méthode de la vraisemblance sont : \\nalpha = \", alpha2, \", beta = \",beta2)\n",
    "\n"
   ]
  },
  {
   "cell_type": "code",
   "execution_count": 7,
   "metadata": {},
   "outputs": [
    {
     "name": "stderr",
     "output_type": "stream",
     "text": [
      "/home/aghoul/venv/local/lib/python3.6/site-packages/scipy/stats/_continuous_distns.py:515: RuntimeWarning: invalid value encountered in sqrt\n",
      "  sk = 2*(b-a)*np.sqrt(a + b + 1) / (a + b + 2) / np.sqrt(a*b)\n",
      "/home/aghoul/venv/local/lib/python3.6/site-packages/scipy/optimize/minpack.py:162: RuntimeWarning: The iteration is not making good progress, as measured by the \n",
      "  improvement from the last ten iterations.\n",
      "  warnings.warn(msg, RuntimeWarning)\n"
     ]
    },
    {
     "name": "stdout",
     "output_type": "stream",
     "text": [
      "0.3335626308581823\n",
      "49.32420528189736\n"
     ]
    }
   ],
   "source": []
  },
  {
   "cell_type": "code",
   "execution_count": 8,
   "metadata": {},
   "outputs": [
    {
     "data": {
      "image/png": "[encoded data removed]",
      "text/plain": [
       "<Figure size 432x288 with 1 Axes>"
      ]
     },
     "metadata": {
      "needs_background": "light"
     },
     "output_type": "display_data"
    }
   ],
   "source": [
    "\n",
    "weights = np.ones_like(taille) / float(len(taille))\n",
    "\n",
    "#plt.hist(taille, weights=weights)\n",
    "fitted = lambda x, a, b: gammaf(a + b) / gammaf(a) / gammaf(b) * x ** (a - 1) * (1 - x) ** (b - 1)  # pdf of beta\n",
    "\n",
    "xx = np.linspace(beta.ppf(0.01, alpha2, beta2), beta.ppf(0.99, alpha2, beta2), 60000)\n",
    "plt.plot(xx, beta.pdf(xx, alpha2, beta2),'r-', lw=5, alpha=0.6, label='densité log vrais')\n",
    "plt.plot(xx, beta.pdf(xx, alpha1, beta1),'g-', lw=5, alpha=0.6, label='densité moments')\n",
    "plt.legend()\n",
    "#plt.plot(xx, beta.pdf(xx, alpha3, beta3), lw=5, alpha=0.6, label='densité bêta(1,60000)')\n",
    "#plt.plot(xx, fitted(xx, alpha1, beta1), 'g')\n",
    "#plt.plot(xx, fitted(xx, alpha2, beta2), 'b')\n",
    "#plt.plot(xx, fitted(xx, alpha3, beta3), 'r')\n",
    "\n",
    "\n",
    "plt.hist(taille)\n",
    "\n",
    "plt.show()"
   ]
  },
  {
   "cell_type": "code",
   "execution_count": 9,
   "metadata": {},
   "outputs": [],
   "source": [
    "def frac(taille_échantillon, nombre_fragments):\n",
    "    # On prends chaque échantillon et lui associe un nombre de fractures, converti en int à la volée\n",
    "    échantillons_fracturés = []\n",
    "    if nombre_fragments > taille_échantillon:\n",
    "        raise ValueError(\n",
    "            '\\n\\n\\n'\n",
    "            'ERREUR: Le nombre de fragments demandé est trop grand, il est impossible de continuer\\n'\n",
    "            'Vous pouvez: \\n'\n",
    "            '\\t- Réduire le nombre de fragments demandé, en jouant sur N \\n'\n",
    "            '\\t- Augmenter la taille des échantillons à fracturer\\n'\n",
    "    )\n",
    "    # Il y aura n - 1 fractures pour obtenir n elements\n",
    "    nombre_fractures = nombre_fragments - 1\n",
    "\n",
    "    # Une fracture sera placée avant l'index désigné, donc une fracture\n",
    "    #   localisée à l'index 1 donnera un morceau de 1 et un de taille - 1\n",
    "    fractures = set()\n",
    "    while len(fractures) < nombre_fractures:\n",
    "        fractures.update(np.random.randint(1, taille_échantillon - 1, nombre_fractures))\n",
    "    if len(fractures) != nombre_fractures:\n",
    "        if len(fractures) < nombre_fractures:\n",
    "            raise RuntimeError('ERREUR: Une erreur s\\'est produite: pas assez de fragments')\n",
    "        fractures = set(list(fractures)[:nombre_fractures])\n",
    "    fractures = [0] + list(sorted(fractures)) + [taille_échantillon]\n",
    "    échantillon_fracturé = [\n",
    "        fractures[i + 1] - fractures[i] for i in range(len(fractures) - 1)\n",
    "    ]\n",
    "    if sum(échantillon_fracturé) != taille_échantillon:\n",
    "        raise RuntimeError(\n",
    "            \"ERREUR: Une erreur s'est produite lors de la fragmentation, \\n\"\n",
    "            f\"Nous avons {abs(sum(échantillon_fracturé) - taille_échantillon)}\"\n",
    "            f\" fragments de différence entre ce qu'on attendais et ce qu'on a\"\n",
    "            f\" ({sum(échantillon_fracturé)} contre {taille_échantillon})\"\n",
    "        )\n",
    "    échantillon_fracturé = list(i for i in sorted(échantillon_fracturé))\n",
    "    échantillons_fracturés.append(échantillon_fracturé)\n",
    "\n",
    "    return échantillons_fracturés\n"
   ]
  },
  {
   "cell_type": "code",
   "execution_count": 10,
   "metadata": {},
   "outputs": [
    {
     "name": "stdout",
     "output_type": "stream",
     "text": [
      "(0.9213799567784688, 8.38198147456498, 3.9999999999999996, 15493.535020960178)\n"
     ]
    },
    {
     "data": {
      "image/png": "[encoded data removed]",
      "text/plain": [
       "<Figure size 432x288 with 1 Axes>"
      ]
     },
     "metadata": {
      "needs_background": "light"
     },
     "output_type": "display_data"
    }
   ],
   "source": [
    "g = 1000000\n",
    "n = 650\n",
    "taille = frac(g,n)\n",
    "sns.distplot(taille, kde=False, fit=beta)\n",
    "print(beta.fit(taille))"
   ]
  },
  {
   "cell_type": "code",
   "execution_count": 11,
   "metadata": {},
   "outputs": [],
   "source": [
    "lois = ['normale', 'uniforme', 'poisson']\n",
    "\n",
    "def fracture(echantillons, n=65952, sigma=100, loi='normale'):\n",
    "    \"\"\"\n",
    "    Fracture une liste d'échantillons en utilisant un nombre de fractures variables de loi n = Norm(N, sigma)\n",
    "    :param sigma:\n",
    "    :param n: Ecart-type\n",
    "    :param echantillons:\n",
    "    :return:\n",
    "    \"\"\"\n",
    "    #\n",
    "    échantillons_fracturés = []\n",
    "    \n",
    "    n = dict(\n",
    "        normale = n + np.random.randn(len(echantillons)) * sigma,\n",
    "        uniforme = np.random.uniform(0, 131206, len(echantillons)),\n",
    "        poisson = np.random.poisson(65603, len(echantillons)), #erreur\n",
    "        géométrique = np.random.geometric(1./65603, len(echantillons)),#erreur\n",
    "        exponentielle = np.random.exponential(1./65603, len(echantillons)) \n",
    "    )[loi]\n",
    "\n",
    "    for i in range(len(echantillons)):\n",
    "        n[i]=n[i]/len(echantillons)\n",
    "    \n",
    "    # On prends chaque échantillon et lui associe un nombre de fractures, converti en int à la volée\n",
    "    for index, (nombre_fragments, taille_échantillon) in enumerate(zip(map(int, n), echantillons)):\n",
    "\n",
    "        if nombre_fragments > taille_échantillon:\n",
    "            raise ValueError(\n",
    "                '\\n\\n\\n'\n",
    "                'ERREUR: Le nombre de fragments demandé est trop grand, il est impossible de continuer\\n'\n",
    "                'Vous pouvez: \\n'\n",
    "                '\\t- Réduire le nombre de fragments demandé, en jouant sur N et sigma\\n'\n",
    "                '\\t- Augmenter la taille des échantillons à fracturer\\n'\n",
    "            )\n",
    "        # Il y aura n - 1 fractures pour obtenir n elements\n",
    "        nombre_fractures = nombre_fragments - 1\n",
    "\n",
    "        # Une fracture sera placée avant l'index désigné, donc une fracture\n",
    "        #   localisée à l'index 1 donnera un morceau de 1 et un de taille - 1\n",
    "        fractures = set()\n",
    "        while len(fractures) < nombre_fractures:\n",
    "            fractures.update(np.random.randint(1, taille_échantillon - 1, nombre_fractures))\n",
    "        if len(fractures) != nombre_fractures:\n",
    "            if len(fractures) < nombre_fractures:\n",
    "                raise RuntimeError('ERREUR: Une erreur s\\'est produite: pas assez de fragments')\n",
    "            fractures = set(list(fractures)[:nombre_fractures])\n",
    "        fractures = [0] + list(sorted(fractures)) + [taille_échantillon]\n",
    "        échantillon_fracturé = [\n",
    "            fractures[i + 1] - fractures[i] for i in range(len(fractures) - 1)\n",
    "        ]\n",
    "        if sum(échantillon_fracturé) != taille_échantillon:\n",
    "            raise RuntimeError(\n",
    "                \"ERREUR: Une erreur s'est produite lors de la fragmentation, \\n\"\n",
    "                f\"Nous avons {abs(sum(échantillon_fracturé) - taille_échantillon)}\"\n",
    "                f\" fragments de différence entre ce qu'on attendais et ce qu'on a\"\n",
    "                f\" ({sum(échantillon_fracturé)} contre {taille_échantillon})\"\n",
    "            )\n",
    "        échantillon_fracturé = list(i for i in sorted(échantillon_fracturé))\n",
    "        échantillons_fracturés.append(échantillon_fracturé)\n",
    "\n",
    "    return échantillons_fracturés\n"
   ]
  },
  {
   "cell_type": "code",
   "execution_count": 44,
   "metadata": {},
   "outputs": [
    {
     "data": {
      "image/png": "[encoded data removed]",
      "text/plain": [
       "<Figure size 432x288 with 1 Axes>"
      ]
     },
     "metadata": {},
     "output_type": "display_data"
    },
    {
     "data": {
      "image/png": "[encoded data removed]",
      "text/plain": [
       "<Figure size 432x288 with 1 Axes>"
      ]
     },
     "metadata": {},
     "output_type": "display_data"
    },
    {
     "data": {
      "image/png": "[encoded data removed]",
      "text/plain": [
       "<Figure size 432x288 with 1 Axes>"
      ]
     },
     "metadata": {},
     "output_type": "display_data"
    }
   ],
   "source": [
    "sns.set(color_codes=True)\n",
    "# sns.distplot(fragments, kde=False, rug=False)\n",
    "# plt.show()\n",
    "\n",
    "taille_genome =1500000\n",
    "nombre_morceaux = 65603\n",
    "seuil = 80000\n",
    "\n",
    "for loi in lois:\n",
    "    fragments = list(chain.from_iterable(fracture([taille_genome] * 1000, nombre_morceaux, loi=loi)))\n",
    "    #fragments = [x for x in fragments if x < seuil] \n",
    "    weights = np.ones_like(fragments) / float(len(fragments))\n",
    "    plt.xlabel('taille en bp')\n",
    "    plt.title('N suit une loi %s' %loi)\n",
    "    plt.hist(fragments, bins=20, weights=weights)\n",
    "    plt.show()\n",
    "\n"
   ]
  },
  {
   "cell_type": "code",
   "execution_count": null,
   "metadata": {},
   "outputs": [],
   "source": []
  },
  {
   "cell_type": "code",
   "execution_count": null,
   "metadata": {},
   "outputs": [],
   "source": []
  },
  {
   "cell_type": "code",
   "execution_count": null,
   "metadata": {},
   "outputs": [],
   "source": []
  },
  {
   "cell_type": "code",
   "execution_count": null,
   "metadata": {},
   "outputs": [],
   "source": []
  },
  {
   "cell_type": "code",
   "execution_count": null,
   "metadata": {},
   "outputs": [],
   "source": []
  },
  {
   "cell_type": "code",
   "execution_count": null,
   "metadata": {},
   "outputs": [],
   "source": []
  },
  {
   "cell_type": "code",
   "execution_count": null,
   "metadata": {},
   "outputs": [],
   "source": []
  },
  {
   "cell_type": "code",
   "execution_count": null,
   "metadata": {},
   "outputs": [],
   "source": []
  },
  {
   "cell_type": "code",
   "execution_count": null,
   "metadata": {},
   "outputs": [],
   "source": []
  }
 ],
 "metadata": {
  "kernelspec": {
   "display_name": "Python 3",
   "language": "python",
   "name": "python3"
  },
  "language_info": {
   "codemirror_mode": {
    "name": "ipython",
    "version": 3
   },
   "file_extension": ".py",
   "mimetype": "text/x-python",
   "name": "python",
   "nbconvert_exporter": "python",
   "pygments_lexer": "ipython3",
   "version": "3.6.7"
  }
 },
 "nbformat": 4,
 "nbformat_minor": 2
}
