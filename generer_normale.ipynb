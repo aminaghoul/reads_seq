{
 "cells": [
  {
   "cell_type": "code",
   "execution_count": 1,
   "metadata": {},
   "outputs": [],
   "source": [
    "from itertools import chain\n",
    "import scipy\n",
    "from scipy.optimize import fmin\n",
    "from scipy.stats import norm\n",
    "from scipy.stats import beta\n",
    "from scipy.special import gamma as gammaf\n",
    "import numpy as np\n",
    "import random\n",
    "import time\n",
    "import seaborn as sns\n",
    "import pandas as pd\n",
    "from matplotlib import pyplot as plt"
   ]
  },
  {
   "cell_type": "code",
   "execution_count": 2,
   "metadata": {},
   "outputs": [],
   "source": [
    "def get_parts(length, number_of_chunks):\n",
    "    cuts = set()\n",
    "    while len(cuts) < number_of_chunks - 1:\n",
    "        cuts.add(random.randint(1, length - 1))\n",
    "    cuts = [0] + list(sorted(cuts)) + [length]\n",
    "    return [cuts[i + 1] - cuts[i] for i in range(len(cuts) - 1)]\n",
    "\n",
    "def print_parts(parts):\n",
    "    print('|' + '|'.join(''.join(random.sample('ATCG' * i, i)) for i in parts) + '|')\n",
    "    \n",
    "def show_plot(parts):\n",
    "    # https://matplotlib.org/gallery/lines_bars_and_markers/simple_plot.html\n",
    "    # Data for plotting\n",
    "    t = sorted(set(parts))\n",
    "    s = [parts.count(i) for i in t]\n",
    "\n",
    "    fig, ax = plt.subplots()\n",
    "    ax.plot(t, s)\n",
    "    ax.set(xlabel='Chunk size', ylabel='Number of occurences',\n",
    "           title='%s nucleotide long chain divided into %s chunks' % (sum(parts), len(parts)))\n",
    "    ax.grid()\n",
    "\n",
    "    fig.savefig(\"test.png\")\n",
    "    plt.show()\n",
    "\n",
    "def show_hist(parts):\n",
    "    # Data for plotting\n",
    "    t = sorted(set(parts))\n",
    "    s = [parts.count(i) for i in t]\n",
    "\n",
    "    fig, ax = plt.subplots()\n",
    "    n, bins, patches = ax.hist(s, density=10)\n",
    "\n",
    "    ax.set(xlabel='Chunk size', ylabel='Number of occurences',\n",
    "           title='%s nucleotide long chain divided into %s chunks' % (sum(parts), len(parts)))\n",
    "    ax.grid()\n",
    "\n",
    "    plt.show()"
   ]
  },
  {
   "cell_type": "code",
   "execution_count": 3,
   "metadata": {},
   "outputs": [
    {
     "data": {
      "image/png": "[encoded data removed]",
      "text/plain": [
       "<Figure size 432x288 with 1 Axes>"
      ]
     },
     "metadata": {
      "needs_background": "light"
     },
     "output_type": "display_data"
    }
   ],
   "source": [
    "\"\"\"show_plot(get_parts(1000000, 60000))\n",
    "show_hist(get_parts(1000000, 60000))\n",
    "\n",
    "# print_parts(get_parts(100, 10))\n",
    "def main():\n",
    "    # Data for plotting\n",
    "\n",
    "    fig, ax = plt.subplots()\n",
    "    for i in range(6):\n",
    "        print('Loading %s...' % i)\n",
    "        parts = get_parts(10 ** i, (10 ** i) / 2)\n",
    "        T = time.time()\n",
    "        t = sorted(set(parts))\n",
    "        s = [parts.count(i) for i in t]\n",
    "        s = [i / max(s) for i in s]\n",
    "\n",
    "        ax.plot(t, s)\n",
    "        ax.set(xlabel='Chunk size', ylabel='Number of occurences',\n",
    "               title='%s nucleotide long chain divided into %s chunks' % (sum(parts), len(parts)))\n",
    "        ax.grid()\n",
    "\n",
    "        plt.savefig(\"plot-%s.png\" % i)\n",
    "        print('Loading %s...done in %s' % (i, time.time() - T))\n",
    "\n",
    "    plt.show()\"\"\"\n",
    "a=1\n",
    "b=60000\n",
    "\n",
    "#x= np.linspace(0,1)\n",
    "taille = get_parts(1000000, 60000)\n",
    "plt.hist(taille)\n",
    "plt.title(\"Distribution des tailles des morceaux coupés aléatoirement\")\n",
    "plt.show()\n"
   ]
  },
  {
   "cell_type": "code",
   "execution_count": 4,
   "metadata": {},
   "outputs": [
    {
     "data": {
      "image/png": "[encoded data removed]",
      "text/plain": [
       "<Figure size 432x288 with 1 Axes>"
      ]
     },
     "metadata": {
      "needs_background": "light"
     },
     "output_type": "display_data"
    }
   ],
   "source": [
    "t = sum(taille)\n",
    "norm = [i / t for i in taille]\n",
    "#weights = np.ones_like(taille) / float(len(taille))\n",
    "rv = beta(1, 60000)\n",
    "x = np.linspace(beta.ppf(0.01, a, b), beta.ppf(0.99, a, b), 60000)\n",
    "plt.plot(x, beta.pdf(x, a, b),'r-', lw=5, alpha=0.6, label='densité bêta(1,60000)')\n",
    "plt.hist(norm,label='taille')\n",
    "plt.legend(loc='best', frameon=False)\n",
    "plt.title(\"Distribution des tailles des morceaux coupés aléatoirement\")\n",
    "plt.show()\n",
    "\n",
    "\n"
   ]
  },
  {
   "cell_type": "code",
   "execution_count": 5,
   "metadata": {},
   "outputs": [
    {
     "name": "stdout",
     "output_type": "stream",
     "text": [
      "1.6666666666666667e-05\n",
      "2.614135791152075e-10\n",
      "1.0625645086812705\n",
      "63752.80795636754\n"
     ]
    }
   ],
   "source": [
    "def betaNLL(param, *args):\n",
    "    \"\"\"\n",
    "    Negative log likelihood function for beta\n",
    "    <param>: list for parameters to be fitted.\n",
    "    <args>: 1-element array containing the sample data.\n",
    "    Return <nll>: negative log-likelihood to be minimized.\n",
    "    \"\"\"\n",
    "\n",
    "    \n",
    "    a, b = param\n",
    "    data = args[0]\n",
    "    pdf = beta.pdf(data,a,b,loc=0,scale=1)\n",
    "    lg = np.log(pdf)\n",
    "    #mask = np.isnan(lg)\n",
    "    nll = -1*np.sum(lg)\n",
    "    return nll\n",
    "\n",
    "#----------------Normalize to [0,1]----------------\n",
    "t = sum(taille)\n",
    "taille = [i / t for i in taille]\n",
    "\n",
    "mean = np.mean(taille)\n",
    "print(mean)\n",
    "var = np.var(taille, ddof=1)\n",
    "print(var)\n",
    "alpha1 = mean ** 2 * (1 - mean) / var - mean\n",
    "print(alpha1)\n",
    "beta1 = alpha1 * (1 - mean) / mean\n",
    "print(beta1)\n"
   ]
  },
  {
   "cell_type": "code",
   "execution_count": 6,
   "metadata": {},
   "outputs": [
    {
     "name": "stdout",
     "output_type": "stream",
     "text": [
      "Optimization terminated successfully.\n",
      "         Current function value: -600647.048484\n",
      "         Iterations: 117\n",
      "         Function evaluations: 238\n",
      "1.185813693033058\n",
      "71147.83918063395\n"
     ]
    }
   ],
   "source": [
    "result = fmin(betaNLL, [1, 1], args=(taille,))\n",
    "alpha2, beta2 = result\n",
    "print(alpha2)\n",
    "print(beta2)\n",
    "\n"
   ]
  },
  {
   "cell_type": "code",
   "execution_count": 7,
   "metadata": {},
   "outputs": [
    {
     "name": "stderr",
     "output_type": "stream",
     "text": [
      "/home/aghoul/venv/local/lib/python3.6/site-packages/scipy/stats/_continuous_distns.py:515: RuntimeWarning: invalid value encountered in sqrt\n",
      "  sk = 2*(b-a)*np.sqrt(a + b + 1) / (a + b + 2) / np.sqrt(a*b)\n",
      "/home/aghoul/venv/local/lib/python3.6/site-packages/scipy/optimize/minpack.py:162: RuntimeWarning: The iteration is not making good progress, as measured by the \n",
      "  improvement from the last ten iterations.\n",
      "  warnings.warn(msg, RuntimeWarning)\n"
     ]
    },
    {
     "name": "stdout",
     "output_type": "stream",
     "text": [
      "0.3335626308581823\n",
      "49.32420528189736\n"
     ]
    }
   ],
   "source": [
    "alpha3, beta3, xx, yy = beta.fit(taille)\n",
    "print(alpha3)\n",
    "print(beta3)"
   ]
  },
  {
   "cell_type": "code",
   "execution_count": 8,
   "metadata": {},
   "outputs": [
    {
     "data": {
      "image/png": "[encoded data removed]",
      "text/plain": [
       "<Figure size 432x288 with 1 Axes>"
      ]
     },
     "metadata": {
      "needs_background": "light"
     },
     "output_type": "display_data"
    }
   ],
   "source": [
    "\n",
    "weights = np.ones_like(taille) / float(len(taille))\n",
    "\n",
    "#plt.hist(taille, weights=weights)\n",
    "fitted = lambda x, a, b: gammaf(a + b) / gammaf(a) / gammaf(b) * x ** (a - 1) * (1 - x) ** (b - 1)  # pdf of beta\n",
    "\n",
    "xx = np.linspace(beta.ppf(0.01, alpha2, beta2), beta.ppf(0.99, alpha2, beta2), 60000)\n",
    "plt.plot(xx, beta.pdf(xx, alpha2, beta2),'r-', lw=5, alpha=0.6, label='densité log vrais')\n",
    "plt.plot(xx, beta.pdf(xx, alpha1, beta1),'g-', lw=5, alpha=0.6, label='densité moments')\n",
    "plt.legend()\n",
    "#plt.plot(xx, beta.pdf(xx, alpha3, beta3), lw=5, alpha=0.6, label='densité bêta(1,60000)')\n",
    "#plt.plot(xx, fitted(xx, alpha1, beta1), 'g')\n",
    "#plt.plot(xx, fitted(xx, alpha2, beta2), 'b')\n",
    "#plt.plot(xx, fitted(xx, alpha3, beta3), 'r')\n",
    "\n",
    "\n",
    "plt.hist(taille)\n",
    "\n",
    "plt.show()"
   ]
  },
  {
   "cell_type": "code",
   "execution_count": 9,
   "metadata": {},
   "outputs": [],
   "source": [
    "def frac(taille_échantillon, nombre_fragments):\n",
    "    # On prends chaque échantillon et lui associe un nombre de fractures, converti en int à la volée\n",
    "    échantillons_fracturés = []\n",
    "    if nombre_fragments > taille_échantillon:\n",
    "        raise ValueError(\n",
    "            '\\n\\n\\n'\n",
    "            'ERREUR: Le nombre de fragments demandé est trop grand, il est impossible de continuer\\n'\n",
    "            'Vous pouvez: \\n'\n",
    "            '\\t- Réduire le nombre de fragments demandé, en jouant sur N \\n'\n",
    "            '\\t- Augmenter la taille des échantillons à fracturer\\n'\n",
    "    )\n",
    "    # Il y aura n - 1 fractures pour obtenir n elements\n",
    "    nombre_fractures = nombre_fragments - 1\n",
    "\n",
    "    # Une fracture sera placée avant l'index désigné, donc une fracture\n",
    "    #   localisée à l'index 1 donnera un morceau de 1 et un de taille - 1\n",
    "    fractures = set()\n",
    "    while len(fractures) < nombre_fractures:\n",
    "        fractures.update(np.random.randint(1, taille_échantillon - 1, nombre_fractures))\n",
    "    if len(fractures) != nombre_fractures:\n",
    "        if len(fractures) < nombre_fractures:\n",
    "            raise RuntimeError('ERREUR: Une erreur s\\'est produite: pas assez de fragments')\n",
    "        fractures = set(list(fractures)[:nombre_fractures])\n",
    "    fractures = [0] + list(sorted(fractures)) + [taille_échantillon]\n",
    "    échantillon_fracturé = [\n",
    "        fractures[i + 1] - fractures[i] for i in range(len(fractures) - 1)\n",
    "    ]\n",
    "    if sum(échantillon_fracturé) != taille_échantillon:\n",
    "        raise RuntimeError(\n",
    "            \"ERREUR: Une erreur s'est produite lors de la fragmentation, \\n\"\n",
    "            f\"Nous avons {abs(sum(échantillon_fracturé) - taille_échantillon)}\"\n",
    "            f\" fragments de différence entre ce qu'on attendais et ce qu'on a\"\n",
    "            f\" ({sum(échantillon_fracturé)} contre {taille_échantillon})\"\n",
    "        )\n",
    "    échantillon_fracturé = list(i for i in sorted(échantillon_fracturé))\n",
    "    échantillons_fracturés.append(échantillon_fracturé)\n",
    "\n",
    "    return échantillons_fracturés\n"
   ]
  },
  {
   "cell_type": "code",
   "execution_count": 10,
   "metadata": {},
   "outputs": [
    {
     "name": "stdout",
     "output_type": "stream",
     "text": [
      "(0.9213799567784688, 8.38198147456498, 3.9999999999999996, 15493.535020960178)\n"
     ]
    },
    {
     "data": {
      "image/png": "[encoded data removed]",
      "text/plain": [
       "<Figure size 432x288 with 1 Axes>"
      ]
     },
     "metadata": {
      "needs_background": "light"
     },
     "output_type": "display_data"
    }
   ],
   "source": [
    "g = 1000000\n",
    "n = 650\n",
    "taille = frac(g,n)\n",
    "sns.distplot(taille, kde=False, fit=beta)\n",
    "print(beta.fit(taille))"
   ]
  },
  {
   "cell_type": "code",
   "execution_count": 11,
   "metadata": {},
   "outputs": [],
   "source": [
    "lois = ['normale', 'uniforme', 'poisson']\n",
    "\n",
    "def fracture(echantillons, n=65952, sigma=100, loi='normale'):\n",
    "    \"\"\"\n",
    "    Fracture une liste d'échantillons en utilisant un nombre de fractures variables de loi n = Norm(N, sigma)\n",
    "    :param sigma:\n",
    "    :param n: Ecart-type\n",
    "    :param echantillons:\n",
    "    :return:\n",
    "    \"\"\"\n",
    "    #\n",
    "    échantillons_fracturés = []\n",
    "    \n",
    "    n = dict(\n",
    "        normale = n + np.random.randn(len(echantillons)) * sigma,\n",
    "        uniforme = np.random.uniform(0, 131206, len(echantillons)),\n",
    "        poisson = np.random.poisson(65603, len(echantillons)), #erreur\n",
    "        géométrique = np.random.geometric(1./65603, len(echantillons)),#erreur\n",
    "        exponentielle = np.random.exponential(1./65603, len(echantillons)) \n",
    "    )[loi]\n",
    "\n",
    "    for i in range(len(echantillons)):\n",
    "        n[i]=n[i]/len(echantillons)\n",
    "    \n",
    "    # On prends chaque échantillon et lui associe un nombre de fractures, converti en int à la volée\n",
    "    for index, (nombre_fragments, taille_échantillon) in enumerate(zip(map(int, n), echantillons)):\n",
    "\n",
    "        if nombre_fragments > taille_échantillon:\n",
    "            raise ValueError(\n",
    "                '\\n\\n\\n'\n",
    "                'ERREUR: Le nombre de fragments demandé est trop grand, il est impossible de continuer\\n'\n",
    "                'Vous pouvez: \\n'\n",
    "                '\\t- Réduire le nombre de fragments demandé, en jouant sur N et sigma\\n'\n",
    "                '\\t- Augmenter la taille des échantillons à fracturer\\n'\n",
    "            )\n",
    "        # Il y aura n - 1 fractures pour obtenir n elements\n",
    "        nombre_fractures = nombre_fragments - 1\n",
    "\n",
    "        # Une fracture sera placée avant l'index désigné, donc une fracture\n",
    "        #   localisée à l'index 1 donnera un morceau de 1 et un de taille - 1\n",
    "        fractures = set()\n",
    "        while len(fractures) < nombre_fractures:\n",
    "            fractures.update(np.random.randint(1, taille_échantillon - 1, nombre_fractures))\n",
    "        if len(fractures) != nombre_fractures:\n",
    "            if len(fractures) < nombre_fractures:\n",
    "                raise RuntimeError('ERREUR: Une erreur s\\'est produite: pas assez de fragments')\n",
    "            fractures = set(list(fractures)[:nombre_fractures])\n",
    "        fractures = [0] + list(sorted(fractures)) + [taille_échantillon]\n",
    "        échantillon_fracturé = [\n",
    "            fractures[i + 1] - fractures[i] for i in range(len(fractures) - 1)\n",
    "        ]\n",
    "        if sum(échantillon_fracturé) != taille_échantillon:\n",
    "            raise RuntimeError(\n",
    "                \"ERREUR: Une erreur s'est produite lors de la fragmentation, \\n\"\n",
    "                f\"Nous avons {abs(sum(échantillon_fracturé) - taille_échantillon)}\"\n",
    "                f\" fragments de différence entre ce qu'on attendais et ce qu'on a\"\n",
    "                f\" ({sum(échantillon_fracturé)} contre {taille_échantillon})\"\n",
    "            )\n",
    "        échantillon_fracturé = list(i for i in sorted(échantillon_fracturé))\n",
    "        échantillons_fracturés.append(échantillon_fracturé)\n",
    "\n",
    "    return échantillons_fracturés\n"
   ]
  },
  {
   "cell_type": "code",
   "execution_count": 44,
   "metadata": {},
   "outputs": [
    {
     "data": {
      "image/png": "[encoded data removed]",
      "text/plain": [
       "<Figure size 432x288 with 1 Axes>"
      ]
     },
     "metadata": {},
     "output_type": "display_data"
    },
    {
     "data": {
      "image/png": "[encoded data removed]",
      "text/plain": [
       "<Figure size 432x288 with 1 Axes>"
      ]
     },
     "metadata": {},
     "output_type": "display_data"
    },
    {
     "data": {
      "image/png": "[encoded data removed]",
      "text/plain": [
       "<Figure size 432x288 with 1 Axes>"
      ]
     },
     "metadata": {},
     "output_type": "display_data"
    }
   ],
   "source": [
    "sns.set(color_codes=True)\n",
    "# sns.distplot(fragments, kde=False, rug=False)\n",
    "# plt.show()\n",
    "\n",
    "taille_genome =1500000\n",
    "nombre_morceaux = 65603\n",
    "seuil = 80000\n",
    "\n",
    "for loi in lois:\n",
    "    fragments = list(chain.from_iterable(fracture([taille_genome] * 1000, nombre_morceaux, loi=loi)))\n",
    "    #fragments = [x for x in fragments if x < seuil] \n",
    "    weights = np.ones_like(fragments) / float(len(fragments))\n",
    "    plt.xlabel('taille en bp')\n",
    "    plt.title('N suit une loi %s' %loi)\n",
    "    plt.hist(fragments, bins=20, weights=weights)\n",
    "    plt.show()\n",
    "\n"
   ]
  },
  {
   "cell_type": "code",
   "execution_count": null,
   "metadata": {},
   "outputs": [],
   "source": []
  },
  {
   "cell_type": "code",
   "execution_count": null,
   "metadata": {},
   "outputs": [],
   "source": []
  },
  {
   "cell_type": "code",
   "execution_count": null,
   "metadata": {},
   "outputs": [],
   "source": []
  },
  {
   "cell_type": "code",
   "execution_count": null,
   "metadata": {},
   "outputs": [],
   "source": []
  },
  {
   "cell_type": "code",
   "execution_count": null,
   "metadata": {},
   "outputs": [],
   "source": []
  },
  {
   "cell_type": "code",
   "execution_count": null,
   "metadata": {},
   "outputs": [],
   "source": []
  },
  {
   "cell_type": "code",
   "execution_count": null,
   "metadata": {},
   "outputs": [],
   "source": []
  },
  {
   "cell_type": "code",
   "execution_count": null,
   "metadata": {},
   "outputs": [],
   "source": []
  },
  {
   "cell_type": "code",
   "execution_count": null,
   "metadata": {},
   "outputs": [],
   "source": []
  }
 ],
 "metadata": {
  "kernelspec": {
   "display_name": "Python 3",
   "language": "python",
   "name": "python3"
  },
  "language_info": {
   "codemirror_mode": {
    "name": "ipython",
    "version": 3
   },
   "file_extension": ".py",
   "mimetype": "text/x-python",
   "name": "python",
   "nbconvert_exporter": "python",
   "pygments_lexer": "ipython3",
   "version": "3.6.7"
  }
 },
 "nbformat": 4,
 "nbformat_minor": 2
}
