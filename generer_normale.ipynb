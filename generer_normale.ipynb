{
 "cells": [
  {
   "cell_type": "code",
   "execution_count": 1,
   "metadata": {},
   "outputs": [],
   "source": [
    "from itertools import chain\n",
    "\n",
    "from scipy.stats import norm\n",
    "import numpy as np\n",
    "import seaborn as sns\n",
    "import pandas as pd\n",
    "from matplotlib import pyplot as plt"
   ]
  },
  {
   "cell_type": "code",
   "execution_count": 86,
   "metadata": {},
   "outputs": [],
   "source": [
    "def frac(taille_échantillon, nombre_fragments):\n",
    "\t# On prends chaque échantillon et lui associe un nombre de fractures, converti en int à la volée\n",
    "\tif nombre_fragments > taille_échantillon:\n",
    "\t\traise ValueError(\n",
    "\t\t\t'\\n\\n\\n'\n",
    "\t\t\t'ERREUR: Le nombre de fragments demandé est trop grand, il est impossible de continuer\\n'\n",
    "\t\t\t'Vous pouvez: \\n'\n",
    "\t\t\t'\\t- Réduire le nombre de fragments demandé, en jouant sur N et sigma\\n'\n",
    "\t\t\t'\\t- Augmenter la taille des échantillons à fracturer\\n'\n",
    "\t\t)\n",
    "\t# Il y aura n - 1 fractures pour obtenir n elements\n",
    "\tnombre_fractures = nombre_fragments - 1\n",
    "\t# Une fracture sera placée avant l'index désigné, donc une fracture\n",
    "\t#   localisée à l'index 1 donnera un morceau de 1 et un de taille - 1\n",
    "\tfractures = set()\n",
    "\twhile len(fractures) < nombre_fractures:\n",
    "\t\tfractures.update(np.random.randint(1, taille_échantillon - 1, nombre_fractures))\n",
    "\tprint(list(sorted(fractures))[:10])\n",
    "\tif len(fractures) != nombre_fractures:\n",
    "\t\tif len(fractures) < nombre_fractures:\n",
    "\t\t\traise RuntimeError('ERREUR: Une erreur s\\'est produite: pas assez de fragments')\n",
    "\t\tfractures = set(list(fractures)[:nombre_fractures])\n",
    "\tfractures = [0] + list(sorted(fractures)) + [taille_échantillon]\n",
    "\tprint(list(sorted(fractures))[-10:])\n",
    "\téchantillon_fracturé = [\n",
    "\t\tfractures[i + 1] - fractures[i] for i in range(nombre_fragments)\n",
    "\t]\n",
    "\tif sum(échantillon_fracturé) != taille_échantillon:\n",
    "\t\traise RuntimeError(\n",
    "\t\t\t\"ERREUR: Une erreur s'est produite lors de la fragmentation, \\n\"\n",
    "\t\t\tf\"Nous avons {abs(sum(échantillon_fracturé) - taille_échantillon)}\"\n",
    "\t\t\tf\" fragments de différence entre ce qu'on attendais et ce qu'on a\"\n",
    "\t\t)\n",
    "\tprint(list(i for i in sorted(échantillon_fracturé))[:10])\n",
    "\treturn échantillon_fracturé"
   ]
  },
  {
   "cell_type": "code",
   "execution_count": 124,
   "metadata": {},
   "outputs": [],
   "source": [
    "lois = ['normale', 'exponentielle', 'uniforme', 'poisson', 'géométrique']\n",
    "\n",
    "def fracture(echantillons, n=65952, sigma=100, loi='normale'):\n",
    "    \"\"\"\n",
    "    Fracture une liste d'échantillons en utilisant un nombre de fractures variables de loi n = Norm(N, sigma)\n",
    "    :param sigma:\n",
    "    :param n: Ecart-type\n",
    "    :param echantillons:\n",
    "    :return:\n",
    "    \"\"\"\n",
    "    #\n",
    "    échantillons_fracturés = []\n",
    "    \n",
    "    n = dict(\n",
    "        normale = n + np.random.randn(len(echantillons)) * sigma,\n",
    "        uniforme = np.random.uniform(0, 131206, len(echantillons)),\n",
    "        poisson = np.random.poisson(65603, len(echantillons)), #erreur\n",
    "        géométrique = np.random.geometric(1./65603, len(echantillons)),#erreur\n",
    "        exponentielle = np.random.exponential(1./65603, len(echantillons)) \n",
    "    )[loi]\n",
    "\n",
    "    for i in range(len(echantillons)):\n",
    "        n[i]=n[i]/len(echantillons)\n",
    "    \n",
    "    # On prends chaque échantillon et lui associe un nombre de fractures, converti en int à la volée\n",
    "    for index, (nombre_fragments, taille_échantillon) in enumerate(zip(map(int, n), echantillons)):\n",
    "\n",
    "        if nombre_fragments > taille_échantillon:\n",
    "            raise ValueError(\n",
    "                '\\n\\n\\n'\n",
    "                'ERREUR: Le nombre de fragments demandé est trop grand, il est impossible de continuer\\n'\n",
    "                'Vous pouvez: \\n'\n",
    "                '\\t- Réduire le nombre de fragments demandé, en jouant sur N et sigma\\n'\n",
    "                '\\t- Augmenter la taille des échantillons à fracturer\\n'\n",
    "            )\n",
    "        # Il y aura n - 1 fractures pour obtenir n elements\n",
    "        nombre_fractures = nombre_fragments - 1\n",
    "\n",
    "        # Une fracture sera placée avant l'index désigné, donc une fracture\n",
    "        #   localisée à l'index 1 donnera un morceau de 1 et un de taille - 1\n",
    "        fractures = set()\n",
    "        while len(fractures) < nombre_fractures:\n",
    "            fractures.update(np.random.randint(1, taille_échantillon - 1, nombre_fractures))\n",
    "        if len(fractures) != nombre_fractures:\n",
    "            if len(fractures) < nombre_fractures:\n",
    "                raise RuntimeError('ERREUR: Une erreur s\\'est produite: pas assez de fragments')\n",
    "            fractures = set(list(fractures)[:nombre_fractures])\n",
    "        fractures = [0] + list(sorted(fractures)) + [taille_échantillon]\n",
    "        échantillon_fracturé = [\n",
    "            fractures[i + 1] - fractures[i] for i in range(len(fractures) - 1)\n",
    "        ]\n",
    "        if sum(échantillon_fracturé) != taille_échantillon:\n",
    "            raise RuntimeError(\n",
    "                \"ERREUR: Une erreur s'est produite lors de la fragmentation, \\n\"\n",
    "                f\"Nous avons {abs(sum(échantillon_fracturé) - taille_échantillon)}\"\n",
    "                f\" fragments de différence entre ce qu'on attendais et ce qu'on a\"\n",
    "                f\" ({sum(échantillon_fracturé)} contre {taille_échantillon})\"\n",
    "            )\n",
    "        échantillon_fracturé = list(i for i in sorted(échantillon_fracturé))\n",
    "        échantillons_fracturés.append(échantillon_fracturé)\n",
    "\n",
    "    return échantillons_fracturés"
   ]
  },
  {
   "cell_type": "code",
   "execution_count": 132,
   "metadata": {},
   "outputs": [
    {
     "data": {
      "image/png": "[encoded data removed]",
      "text/plain": [
       "<Figure size 432x288 with 6 Axes>"
      ]
     },
     "metadata": {},
     "output_type": "display_data"
    }
   ],
   "source": [
    "sns.set(color_codes=True)\n",
    "# sns.distplot(fragments, kde=False, rug=False)\n",
    "# plt.show()\n",
    "\n",
    "\n",
    "taille_genome = 1000000\n",
    "nombre_morceaux = 65603\n",
    "seuil = 80000\n",
    "\n",
    "\n",
    "fig, sub = plt.subplots(2, 3)\n",
    "subplots = []\n",
    "for x in sub:\n",
    "    for y in x:\n",
    "        subplots.append(y)\n",
    "for plot, loi in zip(subplots, lois):\n",
    "    fragments = list(chain.from_iterable(fracture([taille_genome] * 1000, nombre_morceaux, loi=loi)))\n",
    "    plot.hist(fragments, bins=20)\n",
    "    plt.show()\n",
    "\n",
    "#fragments = [x for x in fragments if x < seuil]\n"
   ]
  },
  {
   "cell_type": "code",
   "execution_count": 122,
   "metadata": {},
   "outputs": [
    {
     "data": {
      "image/png": "[encoded data removed]",
      "text/plain": [
       "<Figure size 432x288 with 1 Axes>"
      ]
     },
     "metadata": {},
     "output_type": "display_data"
    }
   ],
   "source": []
  },
  {
   "cell_type": "code",
   "execution_count": null,
   "metadata": {},
   "outputs": [],
   "source": []
  },
  {
   "cell_type": "code",
   "execution_count": null,
   "metadata": {},
   "outputs": [],
   "source": []
  },
  {
   "cell_type": "code",
   "execution_count": null,
   "metadata": {},
   "outputs": [],
   "source": []
  },
  {
   "cell_type": "code",
   "execution_count": null,
   "metadata": {},
   "outputs": [],
   "source": []
  },
  {
   "cell_type": "code",
   "execution_count": null,
   "metadata": {},
   "outputs": [],
   "source": []
  },
  {
   "cell_type": "code",
   "execution_count": null,
   "metadata": {},
   "outputs": [],
   "source": []
  },
  {
   "cell_type": "code",
   "execution_count": null,
   "metadata": {},
   "outputs": [],
   "source": []
  },
  {
   "cell_type": "code",
   "execution_count": null,
   "metadata": {},
   "outputs": [],
   "source": []
  }
 ],
 "metadata": {
  "kernelspec": {
   "display_name": "Python 3",
   "language": "python",
   "name": "python3"
  },
  "language_info": {
   "codemirror_mode": {
    "name": "ipython",
    "version": 3
   },
   "file_extension": ".py",
   "mimetype": "text/x-python",
   "name": "python",
   "nbconvert_exporter": "python",
   "pygments_lexer": "ipython3",
   "version": "3.7.1"
  }
 },
 "nbformat": 4,
 "nbformat_minor": 2
}
