{
 "cells": [
  {
   "cell_type": "code",
   "execution_count": 1,
   "metadata": {},
   "outputs": [],
   "source": [
    "from itertools import chain\n",
    "import scipy\n",
    "from scipy.optimize import fmin\n",
    "from scipy.stats import norm\n",
    "from scipy.stats import beta\n",
    "from scipy.special import gamma as gammaf\n",
    "import numpy as np\n",
    "import random\n",
    "import time\n",
    "import seaborn as sns\n",
    "import pandas as pd\n",
    "from matplotlib import pyplot as plt"
   ]
  },
  {
   "cell_type": "markdown",
   "metadata": {},
   "source": [
    "On découpe aléatoirement un génome en N fragments et on récupère la taille des fragments obtenus.\n",
    "On cherche à vérifier que la distribution de la taille de ces fragments suit une loi bêta(1,N)."
   ]
  },
  {
   "cell_type": "code",
   "execution_count": 5,
   "metadata": {},
   "outputs": [],
   "source": [
    "def get_parts(longueur, nbr_frag):\n",
    "    \"\"\"\n",
    "    découpe aléatoirement un génome \n",
    "    <longueur>: longueur du génome à découper\n",
    "    <nbr_frag>: nombre de fragments souhaités\n",
    "    Return <nll>: liste de taille des fragments obtenus\n",
    "    \"\"\"\n",
    "    cuts = set()\n",
    "    while len(cuts) < nbr_frag - 1:\n",
    "        cuts.add(random.randint(1, longueur - 1))\n",
    "    cuts = [0] + list(sorted(cuts)) + [longueur]\n",
    "    return [cuts[i + 1] - cuts[i] for i in range(len(cuts) - 1)]"
   ]
  },
  {
   "cell_type": "markdown",
   "metadata": {},
   "source": [
    "On affiche l'histogramme de la distribution des tailles desfragments. \n",
    "\n",
    "Ici on a coupé un génome de taille 1 000 000 en N = 60 000 morceaux.\n",
    "\n",
    "On affiche également la densité de la loi bêta de paramètres : 1,N"
   ]
  },
  {
   "cell_type": "code",
   "execution_count": 11,
   "metadata": {
    "scrolled": true
   },
   "outputs": [
    {
     "data": {
      "image/png": "[encoded data removed]",
      "text/plain": [
       "<Figure size 432x288 with 1 Axes>"
      ]
     },
     "metadata": {
      "needs_background": "light"
     },
     "output_type": "display_data"
    }
   ],
   "source": [
    "a=1\n",
    "b=60000\n",
    "\n",
    "taille = get_parts(1000000, 60000)\n",
    "\n",
    "t = sum(taille)\n",
    "taille = [i / t for i in taille] #normalise les tailles pour qu'elles soient comprises entre 0 et 1\n",
    "\n",
    "x = np.linspace(beta.ppf(0.01, a, b), beta.ppf(0.99, a, b), 60000)\n",
    "plt.plot(x, beta.pdf(x, a, b),'r-', lw=5, alpha=0.6, label='densité bêta(1,60000)')\n",
    "plt.hist(taille)\n",
    "plt.legend(loc='best', frameon=False)\n",
    "plt.title(\"Distribution des tailles des morceaux coupés aléatoirement\")\n",
    "plt.show()"
   ]
  },
  {
   "cell_type": "markdown",
   "metadata": {},
   "source": [
    "On remarque que la courbe de la densité de la loi bêta(1,60000) a la même allure que la distribution des tailles.\n",
    "\n",
    "Nous allons ensuite \"fitter\" cette distribution en utilisant la méthode des moments et celle du maximum de vraisemblance afin d'estimer les paramètres de la loi bêta.\n",
    "\n"
   ]
  },
  {
   "cell_type": "markdown",
   "metadata": {},
   "source": [
    "Soit la moyenne empirique : $m$ = $ \\frac{1}{n} $$\\sum_{i=1}^{n} x_{i}$ \n",
    "\n",
    "et la variance : $v$ = $ \\frac{1}{n} $$\\sum_{i=1}^{n} (x_{i}-m)$\n",
    "\n",
    "D'après la méthode des moments on estime les paramètres de la loi bêta($\\alpha$, $\\beta$) \n",
    "\n",
    "$\\alpha$ = $m$($ \\frac{m(1-m)}{v}$$ - 1)$\n",
    "\n",
    "$\\beta$ = $(1-m)$($ \\frac{m(1-m)}{v}$$-1)$\n"
   ]
  },
  {
   "cell_type": "code",
   "execution_count": 12,
   "metadata": {},
   "outputs": [
    {
     "name": "stdout",
     "output_type": "stream",
     "text": [
      "Les paramètres estimés par la méthode des moments sont : alpha =  1.074911075297147 , beta =  64493.589606753514\n"
     ]
    }
   ],
   "source": [
    "mean = np.mean(taille)\n",
    "var = np.var(taille, ddof=1)\n",
    "\n",
    "alpha1 = mean ** 2 * (1 - mean) / var - mean\n",
    "beta1 = alpha1 * (1 - mean) / mean\n",
    "\n",
    "print(\"Les paramètres estimés par la méthode des moments sont : alpha = \", alpha1, \", beta = \",beta1)\n"
   ]
  },
  {
   "cell_type": "markdown",
   "metadata": {},
   "source": [
    " En utilisant la méthode du maximum de vraisemblance : \n",
    " \n",
    " $l($$\\alpha$, $\\beta$$)$ $=$ $\\sum_{i=1}^{n} $$-$log$f_{(\\alpha, \\beta)}(x_{i})$\n",
    " \n",
    " où $f_{(\\alpha, \\beta)}$ : la fonction densité de la loi bêta($\\alpha$, $\\beta$)\n",
    " \n",
    " L'estimateur du maximum de vraisemblance de $\\alpha$ et $\\beta$ est donné par :\n",
    " \n",
    " $(\\hat{\\alpha}, \\hat{\\beta})$ = $\\underset{\\alpha>0, \\beta>0 }{argmin}$ $l($$\\alpha$, $\\beta$$)$\n",
    " \n",
    " "
   ]
  },
  {
   "cell_type": "code",
   "execution_count": 13,
   "metadata": {},
   "outputs": [],
   "source": [
    "def betaNLL(param, *args):\n",
    "    \"\"\"\n",
    "    log négative vraisemblance pour bêta\n",
    "    <param>: liste des paramètres à \"fitter\"\n",
    "    <args>: données à \"fitter\"\n",
    "    Return <nll>: log négative vraisemblance à minimiser\n",
    "    \"\"\"  \n",
    "    a, b = param\n",
    "    data = args[0]\n",
    "    pdf = beta.pdf(data,a,b,loc=0,scale=1)\n",
    "    lg = np.log(pdf)\n",
    "    nll = -1*np.sum(lg)\n",
    "    return nll"
   ]
  },
  {
   "cell_type": "code",
   "execution_count": 14,
   "metadata": {},
   "outputs": [
    {
     "name": "stdout",
     "output_type": "stream",
     "text": [
      "Optimization terminated successfully.\n",
      "         Current function value: -600641.643182\n",
      "         Iterations: 121\n",
      "         Function evaluations: 249\n",
      "Les paramètres estimés par la méthode de la vraisemblance sont : \n",
      "alpha =  1.1847209443184674 , beta =  71081.90518272723\n"
     ]
    }
   ],
   "source": [
    "result = fmin(betaNLL, [1, 1], args=(taille,))\n",
    "alpha2, beta2 = result\n",
    "\n",
    "print(\"Les paramètres estimés par la méthode de la vraisemblance sont : \\nalpha = \", alpha2, \", beta = \",beta2)\n",
    "\n"
   ]
  },
  {
   "cell_type": "markdown",
   "metadata": {},
   "source": [
    "On affiche ensuite les densités des lois bêta dont les paramètres ont été trouvés précedemment."
   ]
  },
  {
   "cell_type": "code",
   "execution_count": 15,
   "metadata": {},
   "outputs": [
    {
     "data": {
      "image/png": "[encoded data removed]",
      "text/plain": [
       "<Figure size 432x288 with 1 Axes>"
      ]
     },
     "metadata": {
      "needs_background": "light"
     },
     "output_type": "display_data"
    }
   ],
   "source": [
    "xx = np.linspace(beta.ppf(0.01, alpha2, beta2), beta.ppf(0.99, alpha2, beta2), 60000)\n",
    "plt.plot(xx, beta.pdf(xx, alpha2, beta2),'r-', lw=5, alpha=0.6, label='densité log vrais')\n",
    "plt.plot(xx, beta.pdf(xx, alpha1, beta1),'g-', lw=5, alpha=0.6, label='densité moments')\n",
    "plt.legend()\n",
    "plt.hist(taille)\n",
    "plt.show()"
   ]
  },
  {
   "cell_type": "code",
   "execution_count": 21,
   "metadata": {},
   "outputs": [
    {
     "data": {
      "image/png": "[encoded data removed]",
      "text/plain": [
       "<Figure size 432x288 with 1 Axes>"
      ]
     },
     "metadata": {},
     "output_type": "display_data"
    },
    {
     "name": "stdout",
     "output_type": "stream",
     "text": [
      "409995\n"
     ]
    }
   ],
   "source": [
    "monFichier = open(\"../Documents/Donnees/DRR164913.fastq\", \"r\")\n",
    "taille = []\n",
    "f = []\n",
    "norm = []\n",
    "\n",
    "for line in monFichier:\n",
    "    fields = line.strip().split()\n",
    "    for idx, word in enumerate(fields):\n",
    "        f.append(word)\n",
    "\n",
    "for i, element in enumerate(f):\n",
    "    if element.endswith(\"/1\") and i + 1 < len(f):\n",
    "        taille.append(len(f[i + 1]))\n"
   ]
  },
  {
   "cell_type": "code",
   "execution_count": 26,
   "metadata": {},
   "outputs": [
    {
     "data": {
      "image/png": "[encoded data removed]",
      "text/plain": [
       "<Figure size 432x288 with 1 Axes>"
      ]
     },
     "metadata": {},
     "output_type": "display_data"
    },
    {
     "name": "stdout",
     "output_type": "stream",
     "text": [
      "409995\n"
     ]
    }
   ],
   "source": [
    "t = 4500000\n",
    "\n",
    "norm = [i / t for i in taille]\n",
    "weights = np.ones_like(taille) / float(len(taille))\n",
    "plt.hist(norm, bins=20, weights=weights)\n",
    "plt.show()\n",
    "print(len(taille))"
   ]
  },
  {
   "cell_type": "markdown",
   "metadata": {},
   "source": [
    "On écrit un programme permettant de découper un génome en N morceaux où N suit soit une loi normale, uniforme, de poisson ou binomiale."
   ]
  },
  {
   "cell_type": "code",
   "execution_count": 127,
   "metadata": {},
   "outputs": [],
   "source": [
    "\n",
    "lois = ['normale', 'uniforme', 'poisson', 'binomiale']\n",
    "\n",
    "def fracture(echantillons, taille_genome, n, sigma=100, loi='normale'):\n",
    "    \"\"\"\n",
    "    Fracture une liste d'échantillons en utilisant un nombre de fractures variables de loi n = Norm(N, sigma)\n",
    "    :param sigma:\n",
    "    :param n: Ecart-type\n",
    "    :param echantillons:\n",
    "    :return:\n",
    "    \"\"\"\n",
    "    #\n",
    "    échantillons_fracturés = []\n",
    "    échantillon_fracture = []\n",
    "    nfrag = dict(\n",
    "        normale = n + np.random.randn(len(echantillons)) * sigma,\n",
    "        uniforme = np.random.uniform(0, n*2, len(echantillons)),\n",
    "        poisson = np.random.poisson(n, len(echantillons)), #erreur\n",
    "        géométrique = np.random.geometric(1./n, len(echantillons)),#erreur \n",
    "        binomiale = np.random.binomial(taille_genome, n/taille_genome, len(echantillons))\n",
    "        \n",
    "    )[loi]\n",
    "\n",
    "    for i in range(len(echantillons)):\n",
    "        nfrag[i]=nfrag[i]/(nfrag[i]/100)\n",
    "    \n",
    "    # On prends chaque échantillon et lui associe un nombre de fractures, converti en int à la volée\n",
    "    for index, (nombre_fragments, taille_échantillon) in enumerate(zip(map(int, nfrag), echantillons)):\n",
    "\n",
    "        if nombre_fragments > taille_échantillon:\n",
    "            raise ValueError(\n",
    "                '\\n\\n\\n'\n",
    "                'ERREUR: Le nombre de fragments demandé est trop grand, il est impossible de continuer\\n'\n",
    "                'Vous pouvez: \\n'\n",
    "                '\\t- Réduire le nombre de fragments demandé, en jouant sur N et sigma\\n'\n",
    "                '\\t- Augmenter la taille des échantillons à fracturer\\n'\n",
    "            )\n",
    "        # Il y aura n - 1 fractures pour obtenir n elements\n",
    "        nombre_fractures = nombre_fragments - 1\n",
    "\n",
    "        # Une fracture sera placée avant l'index désigné, donc une fracture\n",
    "        #   localisée à l'index 1 donnera un morceau de 1 et un de taille - 1\n",
    "        fractures = set()\n",
    "        while len(fractures) < nombre_fractures:\n",
    "            fractures.update(np.random.randint(1, taille_échantillon - 1, nombre_fractures))\n",
    "        if len(fractures) != nombre_fractures:\n",
    "            if len(fractures) < nombre_fractures:\n",
    "                raise RuntimeError('ERREUR: Une erreur s\\'est produite: pas assez de fragments')\n",
    "            fractures = set(list(fractures)[:nombre_fractures])\n",
    "            print(fractures, \"n\")\n",
    "        fractures = list[fractures]\n",
    "        print(fractures)\n",
    "        fractures = [0] + list(sorted(fractures)) + [taille_échantillon]\n",
    "        échantillon_fracturé = [\n",
    "            fractures[i + 1] - fractures[i] for i in range(len(fractures) - 1)\n",
    "        ]\n",
    "        if sum(échantillon_fracturé) != taille_échantillon:\n",
    "            raise RuntimeError(\n",
    "                \"ERREUR: Une erreur s'est produite lors de la fragmentation, \\n\"\n",
    "                f\"Nous avons {abs(sum(échantillon_fracturé) - taille_échantillon)}\"\n",
    "                f\" fragments de différence entre ce qu'on attendais et ce qu'on a\"\n",
    "                f\" ({sum(échantillon_fracturé)} contre {taille_échantillon})\"\n",
    "            )\n",
    "        échantillon_fracturé = list(i for i in sorted(échantillon_fracturé))\n",
    "        \n",
    "        #échantillon_fracturé = random.sample(échantillon_fracturé, n)\n",
    "    \n",
    "    \n",
    "    \n",
    "        échantillons_fracturés.append(échantillon_fracture)\n",
    "        \n",
    "      \n",
    "    return échantillons_fracturés"
   ]
  },
  {
   "cell_type": "code",
   "execution_count": 128,
   "metadata": {},
   "outputs": [
    {
     "name": "stdout",
     "output_type": "stream",
     "text": [
      "choosing 3 random items from a list using sample function [5214, 8325, 4475, 778, 7232, 595, 24993, 123, 18339, 21026, 34297, 9526, 20983, 8300, 12956, 3059, 6465, 18109, 33457, 7651, 7809, 3538, 10851, 4427, 30839, 12454, 3673, 666, 6810, 6180, 13131, 8295, 16095, 732, 20347, 10582, 3961, 16009, 7428, 10583, 82584, 1787, 16859, 15658, 2219, 22053, 36972, 9242, 183, 1313]\n"
     ]
    }
   ],
   "source": [
    "list = [666, 13766, 47334, 7651, 13131, 4069, 6180, 12103, 68, 10451, 16859, 732, 6465, 778, 15658, 9526, 8295, 22053, 52444, 10826, 6424, 8325, 36972, 3961, 10583, 50487, 183, 2827, 25102, 7928, 74696, 18339, 1313, 451, 34297, 8300, 34447, 12454, 4475, 10851, 2219, 24505, 17641, 3059, 32688, 10582, 123, 25415, 82584, 11956, 10742, 7384, 24993, 4427, 6810, 33696, 12353, 17312, 1393, 5214, 21026, 5218, 34700, 3673, 7501, 4279, 17525, 7428, 12956, 16095, 20983, 595, 25822, 15302, 3007, 4335, 13462, 18109, 4299, 7199, 7809, 20008, 33457, 5098, 19668, 26500, 7232, 3444, 3538, 28793, 9242, 1787, 34993, 15712, 16009, 15977, 682, 20347, 8785, 30839]\n",
    "print (\"choosing 3 random items from a list using sample function\",random.sample(list,50))"
   ]
  },
  {
   "cell_type": "code",
   "execution_count": 129,
   "metadata": {},
   "outputs": [
    {
     "ename": "TypeError",
     "evalue": "list indices must be integers or slices, not set",
     "output_type": "error",
     "traceback": [
      "\u001b[0;31m---------------------------------------------------------------------------\u001b[0m",
      "\u001b[0;31mTypeError\u001b[0m                                 Traceback (most recent call last)",
      "\u001b[0;32m<ipython-input-129-efedc7d293ca>\u001b[0m in \u001b[0;36m<module>\u001b[0;34m\u001b[0m\n\u001b[1;32m      8\u001b[0m \u001b[0;34m\u001b[0m\u001b[0m\n\u001b[1;32m      9\u001b[0m \u001b[0;32mfor\u001b[0m \u001b[0mloi\u001b[0m \u001b[0;32min\u001b[0m \u001b[0mlois\u001b[0m\u001b[0;34m:\u001b[0m\u001b[0;34m\u001b[0m\u001b[0;34m\u001b[0m\u001b[0m\n\u001b[0;32m---> 10\u001b[0;31m     \u001b[0mfragments\u001b[0m \u001b[0;34m=\u001b[0m \u001b[0mlist\u001b[0m\u001b[0;34m(\u001b[0m\u001b[0mchain\u001b[0m\u001b[0;34m.\u001b[0m\u001b[0mfrom_iterable\u001b[0m\u001b[0;34m(\u001b[0m\u001b[0mfracture\u001b[0m\u001b[0;34m(\u001b[0m\u001b[0;34m[\u001b[0m\u001b[0mtaille_genome\u001b[0m\u001b[0;34m]\u001b[0m \u001b[0;34m*\u001b[0m \u001b[0;36m1000\u001b[0m\u001b[0;34m,\u001b[0m \u001b[0mtaille_genome\u001b[0m\u001b[0;34m,\u001b[0m \u001b[0mnombre_morceaux\u001b[0m\u001b[0;34m,\u001b[0m \u001b[0mloi\u001b[0m\u001b[0;34m=\u001b[0m\u001b[0mloi\u001b[0m\u001b[0;34m)\u001b[0m\u001b[0;34m)\u001b[0m\u001b[0;34m)\u001b[0m\u001b[0;34m\u001b[0m\u001b[0;34m\u001b[0m\u001b[0m\n\u001b[0m\u001b[1;32m     11\u001b[0m     \u001b[0;31m#fragments = [x for x in fragments if x < seuil]\u001b[0m\u001b[0;34m\u001b[0m\u001b[0;34m\u001b[0m\u001b[0;34m\u001b[0m\u001b[0m\n\u001b[1;32m     12\u001b[0m     \u001b[0mprint\u001b[0m\u001b[0;34m(\u001b[0m\u001b[0mfragments\u001b[0m\u001b[0;34m)\u001b[0m\u001b[0;34m\u001b[0m\u001b[0;34m\u001b[0m\u001b[0m\n",
      "\u001b[0;32m<ipython-input-127-54a323a26211>\u001b[0m in \u001b[0;36mfracture\u001b[0;34m(echantillons, taille_genome, n, sigma, loi)\u001b[0m\n\u001b[1;32m     49\u001b[0m             \u001b[0mfractures\u001b[0m \u001b[0;34m=\u001b[0m \u001b[0mset\u001b[0m\u001b[0;34m(\u001b[0m\u001b[0mlist\u001b[0m\u001b[0;34m(\u001b[0m\u001b[0mfractures\u001b[0m\u001b[0;34m)\u001b[0m\u001b[0;34m[\u001b[0m\u001b[0;34m:\u001b[0m\u001b[0mnombre_fractures\u001b[0m\u001b[0;34m]\u001b[0m\u001b[0;34m)\u001b[0m\u001b[0;34m\u001b[0m\u001b[0;34m\u001b[0m\u001b[0m\n\u001b[1;32m     50\u001b[0m             \u001b[0mprint\u001b[0m\u001b[0;34m(\u001b[0m\u001b[0mfractures\u001b[0m\u001b[0;34m,\u001b[0m \u001b[0;34m\"n\"\u001b[0m\u001b[0;34m)\u001b[0m\u001b[0;34m\u001b[0m\u001b[0;34m\u001b[0m\u001b[0m\n\u001b[0;32m---> 51\u001b[0;31m         \u001b[0mfractures\u001b[0m \u001b[0;34m=\u001b[0m \u001b[0mlist\u001b[0m\u001b[0;34m[\u001b[0m\u001b[0mfractures\u001b[0m\u001b[0;34m]\u001b[0m\u001b[0;34m\u001b[0m\u001b[0;34m\u001b[0m\u001b[0m\n\u001b[0m\u001b[1;32m     52\u001b[0m         \u001b[0mprint\u001b[0m\u001b[0;34m(\u001b[0m\u001b[0mfractures\u001b[0m\u001b[0;34m)\u001b[0m\u001b[0;34m\u001b[0m\u001b[0;34m\u001b[0m\u001b[0m\n\u001b[1;32m     53\u001b[0m         \u001b[0mfractures\u001b[0m \u001b[0;34m=\u001b[0m \u001b[0;34m[\u001b[0m\u001b[0;36m0\u001b[0m\u001b[0;34m]\u001b[0m \u001b[0;34m+\u001b[0m \u001b[0mlist\u001b[0m\u001b[0;34m(\u001b[0m\u001b[0msorted\u001b[0m\u001b[0;34m(\u001b[0m\u001b[0mfractures\u001b[0m\u001b[0;34m)\u001b[0m\u001b[0;34m)\u001b[0m \u001b[0;34m+\u001b[0m \u001b[0;34m[\u001b[0m\u001b[0mtaille_échantillon\u001b[0m\u001b[0;34m]\u001b[0m\u001b[0;34m\u001b[0m\u001b[0;34m\u001b[0m\u001b[0m\n",
      "\u001b[0;31mTypeError\u001b[0m: list indices must be integers or slices, not set"
     ]
    }
   ],
   "source": [
    "sns.set(color_codes=True)\n",
    "# sns.distplot(fragments, kde=False, rug=False)\n",
    "# plt.show()\n",
    "\n",
    "taille_genome =1500000\n",
    "nombre_morceaux = 409995\n",
    "seuil = 80000\n",
    "\n",
    "for loi in lois:\n",
    "    fragments = list(chain.from_iterable(fracture([taille_genome] * 1000, taille_genome, nombre_morceaux, loi=loi)))\n",
    "    #fragments = [x for x in fragments if x < seuil] \n",
    "    print(fragments)\n",
    "    weights = np.ones_like(fragments) / float(len(fragments))\n",
    "    print(len(fragments))\n",
    "    plt.xlabel('taille en bp')\n",
    "    plt.title('N suit une loi %s' %loi)\n",
    "    plt.hist(fragments, bins=20, weights=weights)\n",
    "    plt.show()\n",
    "\n"
   ]
  },
  {
   "cell_type": "markdown",
   "metadata": {},
   "source": [
    "On calcule la densité de la loi composée H de la loi bêta F et de poisson G.\n",
    "\n",
    "$p_{H}(x) = \\int_{0}^{+\\infty} p_{F}(x|\\theta) p_{G}(\\theta)d\\theta$\n",
    "\n",
    "$p_{H}(x) = \\int_{0}^{+\\infty}n(1-x)^{n-1}\\frac{\\lambda^{n}e^{-\\lambda}}{n!}dn$\n"
   ]
  },
  {
   "cell_type": "code",
   "execution_count": 65,
   "metadata": {},
   "outputs": [
    {
     "name": "stdout",
     "output_type": "stream",
     "text": [
      "[0.00000000e+00 8.16326531e-06 1.63265306e-05 2.44897959e-05\n",
      " 3.26530612e-05 4.08163265e-05 4.89795918e-05 5.71428571e-05\n",
      " 6.53061224e-05 7.34693878e-05 8.16326531e-05 8.97959184e-05\n",
      " 9.79591837e-05 1.06122449e-04 1.14285714e-04 1.22448980e-04\n",
      " 1.30612245e-04 1.38775510e-04 1.46938776e-04 1.55102041e-04\n",
      " 1.63265306e-04 1.71428571e-04 1.79591837e-04 1.87755102e-04\n",
      " 1.95918367e-04 2.04081633e-04 2.12244898e-04 2.20408163e-04\n",
      " 2.28571429e-04 2.36734694e-04 2.44897959e-04 2.53061224e-04\n",
      " 2.61224490e-04 2.69387755e-04 2.77551020e-04 2.85714286e-04\n",
      " 2.93877551e-04 3.02040816e-04 3.10204082e-04 3.18367347e-04\n",
      " 3.26530612e-04 3.34693878e-04 3.42857143e-04 3.51020408e-04\n",
      " 3.59183673e-04 3.67346939e-04 3.75510204e-04 3.83673469e-04\n",
      " 3.91836735e-04 4.00000000e-04]\n"
     ]
    },
    {
     "name": "stderr",
     "output_type": "stream",
     "text": [
      "/home/aghoul/venv/local/lib/python3.6/site-packages/ipykernel_launcher.py:7: RuntimeWarning: divide by zero encountered in true_divide\n",
      "  import sys\n",
      "/home/aghoul/venv/local/lib/python3.6/site-packages/ipykernel_launcher.py:7: RuntimeWarning: invalid value encountered in multiply\n",
      "  import sys\n"
     ]
    },
    {
     "data": {
      "image/png": "[encoded data removed]",
      "text/plain": [
       "<Figure size 432x288 with 1 Axes>"
      ]
     },
     "metadata": {},
     "output_type": "display_data"
    }
   ],
   "source": [
    "from math import exp, log\n",
    "sns.set(color_codes=True)\n",
    "x=np.linspace(0,0.0004)\n",
    "print(x)\n",
    "b=65000\n",
    "\n",
    "plt.plot(x, b*np.exp(b*np.log(1-x))/np.log(1-x)-(1/(np.log(1-x))**2)*(np.exp(b*np.log(1-x))-1))\n",
    "plt.show()"
   ]
  },
  {
   "cell_type": "code",
   "execution_count": null,
   "metadata": {},
   "outputs": [],
   "source": []
  },
  {
   "cell_type": "code",
   "execution_count": null,
   "metadata": {},
   "outputs": [],
   "source": []
  },
  {
   "cell_type": "code",
   "execution_count": null,
   "metadata": {},
   "outputs": [],
   "source": []
  },
  {
   "cell_type": "code",
   "execution_count": null,
   "metadata": {},
   "outputs": [],
   "source": []
  },
  {
   "cell_type": "code",
   "execution_count": null,
   "metadata": {},
   "outputs": [],
   "source": []
  },
  {
   "cell_type": "code",
   "execution_count": null,
   "metadata": {},
   "outputs": [],
   "source": []
  },
  {
   "cell_type": "code",
   "execution_count": null,
   "metadata": {},
   "outputs": [],
   "source": []
  }
 ],
 "metadata": {
  "kernelspec": {
   "display_name": "Python 3",
   "language": "python",
   "name": "python3"
  },
  "language_info": {
   "codemirror_mode": {
    "name": "ipython",
    "version": 3
   },
   "file_extension": ".py",
   "mimetype": "text/x-python",
   "name": "python",
   "nbconvert_exporter": "python",
   "pygments_lexer": "ipython3",
   "version": "3.6.7"
  }
 },
 "nbformat": 4,
 "nbformat_minor": 2
}
