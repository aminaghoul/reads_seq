{
 "cells": [
  {
   "cell_type": "code",
   "execution_count": 3,
   "metadata": {},
   "outputs": [],
   "source": [
    "from itertools import chain\n",
    "import scipy\n",
    "from scipy.optimize import fmin\n",
    "from scipy.stats import norm\n",
    "from scipy.stats import beta\n",
    "from scipy.special import gamma as gammaf\n",
    "import numpy as np\n",
    "import random\n",
    "import time\n",
    "import seaborn as sns\n",
    "import pandas as pd\n",
    "from matplotlib import pyplot as plt"
   ]
  },
  {
   "cell_type": "markdown",
   "metadata": {},
   "source": [
    "On découpe aléatoirement un génome en N fragments et on récupère la taille des fragments obtenus.\n",
    "On cherche à vérifier que la distribution de la taille de ces fragments suit une loi bêta(1,N)."
   ]
  },
  {
   "cell_type": "code",
   "execution_count": 69,
   "metadata": {},
   "outputs": [],
   "source": [
    "def get_parts(longueur, nbr_frag):\n",
    "    \"\"\"\n",
    "    découpe aléatoirement un génome \n",
    "    <longueur>: longueur du génome à découper\n",
    "    <nbr_frag>: nombre de fragments souhaités\n",
    "    Return <nll>: liste de taille des fragments obtenus\n",
    "    \"\"\"\n",
    "    cuts = set()\n",
    "    while len(cuts) < nbr_frag - 1:\n",
    "        cuts.add(random.randint(1, longueur - 1))\n",
    "    cuts = [0] + list(sorted(cuts)) + [longueur]\n",
    "    return [cuts[i + 1] - cuts[i] for i in range(len(cuts) - 1)]"
   ]
  },
  {
   "cell_type": "markdown",
   "metadata": {},
   "source": [
    "On affiche l'histogramme de la distribution des tailles desfragments. \n",
    "\n",
    "Ici on a coupé un génome de taille 1 000 000 en N = 60 000 morceaux.\n",
    "\n",
    "On affiche également la densité de la loi bêta de paramètres : 1,N"
   ]
  },
  {
   "cell_type": "code",
   "execution_count": 70,
   "metadata": {
    "scrolled": true
   },
   "outputs": [
    {
     "data": {
      "image/png": "[encoded data removed]",
      "text/plain": [
       "<Figure size 432x288 with 1 Axes>"
      ]
     },
     "metadata": {
      "needs_background": "light"
     },
     "output_type": "display_data"
    }
   ],
   "source": [
    "a=1\n",
    "b=60000\n",
    "\n",
    "taille = get_parts(1000000, 60000)\n",
    "\n",
    "t = sum(taille)\n",
    "taille = [i / t for i in taille] #normalise les tailles pour qu'elles soient comprises entre 0 et 1\n",
    "\n",
    "x = np.linspace(beta.ppf(0.01, a, b), beta.ppf(0.99, a, b), 60000)\n",
    "plt.plot(x, beta.pdf(x, a, b),'r-', lw=5, alpha=0.6, label='densité bêta(1,60000)')\n",
    "plt.hist(taille)\n",
    "plt.legend(loc='best', frameon=False)\n",
    "plt.title(\"Distribution des tailles des morceaux coupés aléatoirement\")\n",
    "plt.show()"
   ]
  },
  {
   "cell_type": "markdown",
   "metadata": {},
   "source": [
    "On remarque que la courbe de la densité de la loi bêta(1,60000) a la même allure que la distribution des tailles.\n",
    "\n",
    "Nous allons ensuite \"fitter\" cette distribution en utilisant la méthode des moments et celle du maximum de vraisemblance afin d'estimer les paramètres de la loi bêta.\n",
    "\n"
   ]
  },
  {
   "cell_type": "markdown",
   "metadata": {},
   "source": [
    "Soit la moyenne empirique : $m$ = $ \\frac{1}{n} $$\\sum_{i=1}^{n} x_{i}$ \n",
    "\n",
    "et la variance : $v$ = $ \\frac{1}{n} $$\\sum_{i=1}^{n} (x_{i}-m)$\n",
    "\n",
    "D'après la méthode des moments on estime les paramètres de la loi bêta($\\alpha$, $\\beta$) \n",
    "\n",
    "$\\alpha$ = $m$($ \\frac{m(1-m)}{v}$$ - 1)$\n",
    "\n",
    "$\\beta$ = $(1-m)$($ \\frac{m(1-m)}{v}$$-1)$\n"
   ]
  },
  {
   "cell_type": "code",
   "execution_count": 77,
   "metadata": {},
   "outputs": [
    {
     "name": "stdout",
     "output_type": "stream",
     "text": [
      "Les paramètres estimés par la méthode des moments sont : alpha =  1.0503279302630193 , beta =  63018.62548784105\n"
     ]
    }
   ],
   "source": [
    "mean = np.mean(taille)\n",
    "var = np.var(taille, ddof=1)\n",
    "\n",
    "alpha1 = mean ** 2 * (1 - mean) / var - mean\n",
    "beta1 = alpha1 * (1 - mean) / mean\n",
    "\n",
    "print(\"Les paramètres estimés par la méthode des moments sont : alpha = \", alpha1, \", beta = \",beta1)\n"
   ]
  },
  {
   "cell_type": "markdown",
   "metadata": {},
   "source": [
    " En utilisant la méthode du maximum de vraisemblance : \n",
    " \n",
    " $l($$\\alpha$, $\\beta$$)$ $=$ $\\sum_{i=1}^{n} $$-$log$f_{(\\alpha, \\beta)}(x_{i})$\n",
    " \n",
    " où $f_{(\\alpha, \\beta)}$ : la fonction densité de la loi bêta($\\alpha$, $\\beta$)\n",
    " \n",
    " L'estimateur du maximum de vraisemblance de $\\alpha$ et $\\beta$ est donné par :\n",
    " \n",
    " $(\\hat{\\alpha}, \\hat{\\beta})$ = $\\underset{\\alpha>0, \\beta>0 }{argmin}$ $l($$\\alpha$, $\\beta$$)$\n",
    " \n",
    " "
   ]
  },
  {
   "cell_type": "code",
   "execution_count": null,
   "metadata": {},
   "outputs": [],
   "source": [
    "def betaNLL(param, *args):\n",
    "    \"\"\"\n",
    "    log négative vraisemblance pour bêta\n",
    "    <param>: liste des paramètres à \"fitter\"\n",
    "    <args>: données à \"fitter\"\n",
    "    Return <nll>: log négative vraisemblance à minimiser\n",
    "    \"\"\"  \n",
    "    a, b = param\n",
    "    data = args[0]\n",
    "    pdf = beta.pdf(data,a,b,loc=0,scale=1)\n",
    "    lg = np.log(pdf)\n",
    "    nll = -1*np.sum(lg)\n",
    "    return nll"
   ]
  },
  {
   "cell_type": "code",
   "execution_count": 84,
   "metadata": {},
   "outputs": [
    {
     "name": "stdout",
     "output_type": "stream",
     "text": [
      "Optimization terminated successfully.\n",
      "         Current function value: -600591.309665\n",
      "         Iterations: 130\n",
      "         Function evaluations: 260\n",
      "Les paramètres estimés par la méthode de la vraisemblance sont : \n",
      "alpha =  1.1743532265928578 , beta =  70459.96364140954\n"
     ]
    }
   ],
   "source": [
    "result = fmin(betaNLL, [1, 1], args=(taille,))\n",
    "alpha2, beta2 = result\n",
    "\n",
    "print(\"Les paramètres estimés par la méthode de la vraisemblance sont : \\nalpha = \", alpha2, \", beta = \",beta2)\n",
    "\n"
   ]
  },
  {
   "cell_type": "markdown",
   "metadata": {},
   "source": [
    "On affiche ensuite les densités des lois bêta dont les paramètres ont été trouvés précedemment."
   ]
  },
  {
   "cell_type": "code",
   "execution_count": null,
   "metadata": {},
   "outputs": [],
   "source": [
    "#fitted = lambda x, a, b: gammaf(a + b) / gammaf(a) / gammaf(b) * x ** (a - 1) * (1 - x) ** (b - 1)  # densité de bêta\n",
    "#weights = np.ones_like(taille) / float(len(taille))\n",
    "\n",
    "xx = np.linspace(beta.ppf(0.01, alpha2, beta2), beta.ppf(0.99, alpha2, beta2), 60000)\n",
    "plt.plot(xx, beta.pdf(xx, alpha2, beta2),'r-', lw=5, alpha=0.6, label='densité log vrais')\n",
    "plt.plot(xx, beta.pdf(xx, alpha1, beta1),'g-', lw=5, alpha=0.6, label='densité moments')\n",
    "plt.legend()\n",
    "plt.hist(taille)\n",
    "plt.show()"
   ]
  },
  {
   "cell_type": "code",
   "execution_count": null,
   "metadata": {},
   "outputs": [],
   "source": [
    "monFichier = open(\"../Documents/Donnees/DRR164913.fastq\", \"r\")\n",
    "taille = []\n",
    "f = []\n",
    "norm = []\n",
    "\n",
    "for line in monFichier:\n",
    "    fields = line.strip().split()\n",
    "    for idx, word in enumerate(fields):\n",
    "        f.append(word)\n",
    "\n",
    "for i, element in enumerate(f):\n",
    "    if element.endswith(\"/1\") and i + 1 < len(f):\n",
    "        taille.append(len(f[i + 1]))\n",
    "\n",
    "weights = np.ones_like(taille) / float(len(taille))\n",
    "plt.hist(taille, bins=20, weights=weights)\n",
    "plt.show()\n",
    "print(len(taille))"
   ]
  },
  {
   "cell_type": "markdown",
   "metadata": {},
   "source": [
    "On écrit un programme permettant de découper un génome en N morceaux où N suit soit une loi normale, uniforme, de poisson ou binomiale."
   ]
  },
  {
   "cell_type": "code",
   "execution_count": null,
   "metadata": {},
   "outputs": [],
   "source": [
    "lois = ['normale', 'uniforme', 'poisson', 'binomiale']\n",
    "\n",
    "def fracture(echantillons, taille_genome, n, sigma=100, loi='normale'):\n",
    "    \"\"\"\n",
    "    Fracture une liste d'échantillons en utilisant un nombre de fractures variables de loi n = Norm(N, sigma)\n",
    "    :param sigma:\n",
    "    :param n: Ecart-type\n",
    "    :param echantillons:\n",
    "    :return:\n",
    "    \"\"\"\n",
    "    #\n",
    "    échantillons_fracturés = []\n",
    "    échantillon_fracture = []\n",
    "    nfrag = dict(\n",
    "        normale = n + np.random.randn(len(echantillons)) * sigma,\n",
    "        uniforme = np.random.uniform(0, n*2, len(echantillons)),\n",
    "        poisson = np.random.poisson(n, len(echantillons)), #erreur\n",
    "        géométrique = np.random.geometric(1./n, len(echantillons)),#erreur \n",
    "        binomiale = np.random.binomial(taille_genome, n/taille_genome, len(echantillons))\n",
    "        \n",
    "    )[loi]\n",
    "\n",
    "    for i in range(len(echantillons)):\n",
    "        nfrag[i]=nfrag[i]/(nfrag[i]/100)\n",
    "    \n",
    "    # On prends chaque échantillon et lui associe un nombre de fractures, converti en int à la volée\n",
    "    for index, (nombre_fragments, taille_échantillon) in enumerate(zip(map(int, nfrag), echantillons)):\n",
    "\n",
    "        if nombre_fragments > taille_échantillon:\n",
    "            raise ValueError(\n",
    "                '\\n\\n\\n'\n",
    "                'ERREUR: Le nombre de fragments demandé est trop grand, il est impossible de continuer\\n'\n",
    "                'Vous pouvez: \\n'\n",
    "                '\\t- Réduire le nombre de fragments demandé, en jouant sur N et sigma\\n'\n",
    "                '\\t- Augmenter la taille des échantillons à fracturer\\n'\n",
    "            )\n",
    "        # Il y aura n - 1 fractures pour obtenir n elements\n",
    "        nombre_fractures = nombre_fragments - 1\n",
    "\n",
    "        # Une fracture sera placée avant l'index désigné, donc une fracture\n",
    "        #   localisée à l'index 1 donnera un morceau de 1 et un de taille - 1\n",
    "        fractures = set()\n",
    "        while len(fractures) < nombre_fractures:\n",
    "            fractures.update(np.random.randint(1, taille_échantillon - 1, nombre_fractures))\n",
    "        if len(fractures) != nombre_fractures:\n",
    "            if len(fractures) < nombre_fractures:\n",
    "                raise RuntimeError('ERREUR: Une erreur s\\'est produite: pas assez de fragments')\n",
    "            fractures = set(list(fractures)[:nombre_fractures])\n",
    "        fractures = [0] + list(sorted(fractures)) + [taille_échantillon]\n",
    "        échantillon_fracturé = [\n",
    "            fractures[i + 1] - fractures[i] for i in range(len(fractures) - 1)\n",
    "        ]\n",
    "        if sum(échantillon_fracturé) != taille_échantillon:\n",
    "            raise RuntimeError(\n",
    "                \"ERREUR: Une erreur s'est produite lors de la fragmentation, \\n\"\n",
    "                f\"Nous avons {abs(sum(échantillon_fracturé) - taille_échantillon)}\"\n",
    "                f\" fragments de différence entre ce qu'on attendais et ce qu'on a\"\n",
    "                f\" ({sum(échantillon_fracturé)} contre {taille_échantillon})\"\n",
    "            )\n",
    "        échantillon_fracturé = list(i for i in sorted(échantillon_fracturé))\n",
    "        #nbr = int(100 + np.random.randn(1) * sigma)\n",
    "        #échantillon_fracturé = random.sample(échantillon_fracturé, n)\n",
    "    \n",
    "        \n",
    "    \n",
    "    \n",
    "        for i in sorted(échantillons_fracturés):\n",
    "            if len(échantillon_fracture) < n/len(echantillons):\n",
    "                échantillon_fracture.append(i)\n",
    "    \n",
    "        échantillons_fracturés.append(échantillon_fracture)\n",
    "        \n",
    "      \n",
    "    return échantillons_fracturés\n"
   ]
  },
  {
   "cell_type": "code",
   "execution_count": null,
   "metadata": {},
   "outputs": [],
   "source": [
    "sns.set(color_codes=True)\n",
    "# sns.distplot(fragments, kde=False, rug=False)\n",
    "# plt.show()\n",
    "\n",
    "taille_genome =1500000\n",
    "nombre_morceaux = 409995\n",
    "seuil = 80000\n",
    "\n",
    "for loi in lois:\n",
    "    fragments = list(chain.from_iterable(fracture([taille_genome] * 1000, taille_genome, nombre_morceaux, loi=loi)))\n",
    "    #fragments = [x for x in fragments if x < seuil] \n",
    "    weights = np.ones_like(fragments) / float(len(fragments))\n",
    "    print(len(fragments))\n",
    "    plt.xlabel('taille en bp')\n",
    "    plt.title('N suit une loi %s' %loi)\n",
    "    plt.hist(fragments, bins=20, weights=weights)\n",
    "    plt.show()\n",
    "\n"
   ]
  },
  {
   "cell_type": "markdown",
   "metadata": {},
   "source": [
    "On calcule la densité de la loi composée H de la loi bêta F et de poisson G.\n",
    "\n",
    "$p_{H}(x) = \\int_{0}^{+\\infty} p_{F}(x|\\theta) p_{G}(\\theta)d\\theta$\n",
    "\n",
    "$p_{H}(x) = \\int_{0}^{+\\infty}n(1-x)^{n-1}\\frac{\\lambda^{n}e^{-\\lambda}}{n!}dn$\n"
   ]
  },
  {
   "cell_type": "code",
   "execution_count": null,
   "metadata": {},
   "outputs": [],
   "source": []
  },
  {
   "cell_type": "code",
   "execution_count": null,
   "metadata": {},
   "outputs": [],
   "source": []
  },
  {
   "cell_type": "code",
   "execution_count": null,
   "metadata": {},
   "outputs": [],
   "source": []
  },
  {
   "cell_type": "code",
   "execution_count": null,
   "metadata": {},
   "outputs": [],
   "source": []
  },
  {
   "cell_type": "code",
   "execution_count": null,
   "metadata": {},
   "outputs": [],
   "source": []
  },
  {
   "cell_type": "code",
   "execution_count": null,
   "metadata": {},
   "outputs": [],
   "source": []
  },
  {
   "cell_type": "code",
   "execution_count": null,
   "metadata": {},
   "outputs": [],
   "source": []
  },
  {
   "cell_type": "code",
   "execution_count": null,
   "metadata": {},
   "outputs": [],
   "source": []
  }
 ],
 "metadata": {
  "kernelspec": {
   "display_name": "Python 3",
   "language": "python",
   "name": "python3"
  },
  "language_info": {
   "codemirror_mode": {
    "name": "ipython",
    "version": 3
   },
   "file_extension": ".py",
   "mimetype": "text/x-python",
   "name": "python",
   "nbconvert_exporter": "python",
   "pygments_lexer": "ipython3",
   "version": "3.6.7"
  }
 },
 "nbformat": 4,
 "nbformat_minor": 2
}
