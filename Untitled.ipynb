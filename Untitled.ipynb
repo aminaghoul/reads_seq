{
 "cells": [
  {
   "cell_type": "code",
   "execution_count": 1,
   "metadata": {},
   "outputs": [],
   "source": [
    "import random\n",
    "\n",
    "import scipy.stats\n",
    "\n",
    "from numpy import exp\n",
    "from numpy import pi\n",
    "from numpy import sqrt\n",
    "\n",
    "import numpy as np\n",
    "from matplotlib import pyplot as plt\n",
    "\n",
    "from scipy.optimize import fmin\n",
    "import seaborn as sns\n",
    "sns.set(color_codes=True)\n",
    "from functools import partial\n",
    "from itertools import chain\n",
    "from numpy.random import choice"
   ]
  },
  {
   "cell_type": "code",
   "execution_count": 75,
   "metadata": {},
   "outputs": [
    {
     "data": {
      "text/plain": [
       "(array([2.80094e+05, 3.84210e+04, 8.59700e+03, 2.98700e+03, 1.37900e+03,\n",
       "        6.00000e+02, 3.18000e+02, 1.60000e+02, 1.10000e+02, 5.10000e+01,\n",
       "        2.40000e+01, 1.60000e+01, 1.10000e+01, 7.00000e+00, 4.00000e+00,\n",
       "        5.00000e+00, 1.00000e+00, 2.00000e+00, 1.00000e+00, 1.00000e+00]),\n",
       " array([3.23354262e-06, 9.62450486e-04, 1.92166743e-03, 2.88088437e-03,\n",
       "        3.84010132e-03, 4.79931826e-03, 5.75853521e-03, 6.71775215e-03,\n",
       "        7.67696909e-03, 8.63618604e-03, 9.59540298e-03, 1.05546199e-02,\n",
       "        1.15138369e-02, 1.24730538e-02, 1.34322708e-02, 1.43914877e-02,\n",
       "        1.53507046e-02, 1.63099216e-02, 1.72691385e-02, 1.82283555e-02,\n",
       "        1.91875724e-02]),\n",
       " <a list of 20 Patch objects>)"
      ]
     },
     "execution_count": 75,
     "metadata": {},
     "output_type": "execute_result"
    },
    {
     "data": {
      "image/png": "[encoded data removed]",
      "text/plain": [
       "<Figure size 432x288 with 1 Axes>"
      ]
     },
     "metadata": {
      "needs_background": "light"
     },
     "output_type": "display_data"
    }
   ],
   "source": [
    "monFichier = open(\"../Documents/Donnees/DRR164914.fastq\", \"r\") #MINION\n",
    "taille = []\n",
    "f = []\n",
    "norm = []\n",
    "\n",
    "for line in monFichier:\n",
    "    fields = line.strip().split()\n",
    "    for idx, word in enumerate(fields):\n",
    "        f.append(word)\n",
    "\n",
    "for i, element in enumerate(f):\n",
    "    if element.endswith(\"/1\") and i + 1 < len(f):\n",
    "        taille.append(len(f[i + 1]))\n",
    "g = sum(taille)\n",
    "norm = [i / 3711100 for i in taille]\n",
    "plt.title(\"Distribution de la longueur des lectures\")\n",
    "plt.xlabel(\"taille en bp\")\n",
    "plt.hist(norm,bins =20)"
   ]
  },
  {
   "cell_type": "code",
   "execution_count": 105,
   "metadata": {},
   "outputs": [],
   "source": [
    "def integrale_trapeze(f, x_min, x_max, nb_x):\n",
    "    pas = (x_max - x_min) / (nb_x * 2)\n",
    "    # On prend en compte un décalage, car l'intégrale sera sur un intervalle, par conséquent il est plus judicieux\n",
    "    #    de l'associer au milieu des segments de l'axe\n",
    "    x = np.linspace(x_min + pas, x_max - pas, nb_x)\n",
    "    return sum(map(f, x)) * (x[1] - x[0])\n",
    "\n",
    "def beta_normale_f(mu, sigma, x):\n",
    "        if isinstance(x, (int, float)):            \n",
    "            def g(y):\n",
    "                if x == 1: return 0\n",
    "                if y == 1: return 0\n",
    "                _a = y*(1-x)**(y-1)\n",
    "                _b = exp(- ((y-mu)**2) / (2*(sigma**2)))\n",
    "                _c = sqrt(2*pi)\n",
    "                return _a * (_b / _c)\n",
    "\n",
    "            a = (1 / (1 - scipy.stats.norm(mu, sigma).cdf(0)))\n",
    "            b = integrale_trapeze(g, 0, 1000, 1000)\n",
    "            return a * b\n",
    "        else:\n",
    "            return list(map(partial(beta_normale_f, mu, sigma), x))\n",
    "        \n",
    "def beta_uniforme_f(a, b, x):\n",
    "    return np.exp(-np.log(1-x))/(b-a)*((b*np.exp(b*np.log(1-x)) - a*np.exp(a*np.log(1-x)))/(np.log(1-x)) +\n",
    "                                           (np.exp(a*np.log(1-x)) - np.exp(b*np.log(1-x)))/((np.log(1-x))**2))\n",
    "\n",
    "\n",
    "def beta_poisson_f(x, l):\n",
    "    return (l*np.exp(-l*x))\n",
    "\n",
    "\n",
    "def normalize(array):\n",
    "    mini, maxi = min(array), max(array)\n",
    "    if mini == maxi:\n",
    "        return [1 / len(array) for i in array]\n",
    "    return [(i - mini) / (maxi - mini) for i in array]\n",
    "\n",
    "def erreur(echantillon, fonction_densite, parametres):\n",
    "    \"\"\"Retourne l'erreur, par la méthode des moindres carrés permettant de noter un couple mu, sigma\"\"\"\n",
    "    mini, maxi = min(echantillon), max(echantillon)\n",
    "    histogramme, _, _ = plt.hist(echantillon, bins=20)\n",
    "    # histogramme, _, _ = histogramme\n",
    "    precision = len(histogramme)\n",
    "    pas = (maxi - mini) / precision\n",
    "    x = np.linspace(mini + (pas / 2), maxi - (pas / 2), precision - 1)\n",
    "    y = fonction_densite(*list(parametres), x)\n",
    "    histogramme, y = map(normalize, (histogramme, y))\n",
    "    err = sum( (i-j)**2 for i, j in zip(histogramme, y))\n",
    "    return err\n",
    "\n",
    "def loi_optimale(sample):\n",
    "    \"\"\"\n",
    "    Prend une liste de tailles de gènes et tente de trouver une loi optimale pouvant définir l'échantillon\n",
    "\n",
    "    :param x: Une liste de nombres (tailles).\n",
    "    :return: La loi, caractérisée par un nom et des paramètres.\n",
    "    \"\"\"\n",
    "    fonctions = dict(\n",
    "        normale=beta_normale_f,\n",
    "        uniforme=beta_uniforme_f)\n",
    "    erreurs = []\n",
    "    \n",
    "    for nom, f, initial in [\n",
    "        ('normale', beta_normale_f, [850, 10]),\n",
    "        ('uniforme', beta_uniforme_f, [800, 900]),\n",
    "        ('poisson', beta_poisson_f, [800])\n",
    "    ]:\n",
    "        opt = fmin(partial(erreur, sample, f), initial,) \n",
    "        plt.show()\n",
    "        err = erreur(sample, f, opt)\n",
    "        erreurs.append((nom, err, opt))\n",
    "        print(f'Fonction {nom} optimale pour les parametres {tuple(opt)} (erreur de {err})')\n",
    "        fragments = (fracture([3711100] * 1000, nom, opt))\n",
    "        maxi, mini = max(fragments), min(fragments)\n",
    "        sumi = sum(fragments)\n",
    "        poids = list(map(partial(poid, mini=mini, maxi=maxi, tout=fragments), fragments))\n",
    "        s=sum(poids)\n",
    "   \n",
    "        fragments = choice(fragments, 172138, p=poids/s, replace=False)\n",
    "        plt.hist(fragments, range=(0,100000),bins=20)\n",
    "        plt.show()\n",
    "    \n",
    "    return min(erreurs, key=lambda i: i[1])"
   ]
  },
  {
   "cell_type": "code",
   "execution_count": 81,
   "metadata": {},
   "outputs": [
    {
     "data": {
      "image/png": "[encoded data removed]",
      "text/plain": [
       "<Figure size 432x288 with 1 Axes>"
      ]
     },
     "metadata": {
      "needs_background": "light"
     },
     "output_type": "display_data"
    }
   ],
   "source": [
    "from matplotlib.legend_handler import HandlerLine2D\n",
    "x = np.linspace(0,0.95)\n",
    "plt.title('Densité de la loi composée bêta-normale')\n",
    "\n",
    "line1, =plt.plot(x,beta_normale_f(5, 1, x) , label=\"$\\mu$= 10 $\\sigma$ = 15\")\n",
    "line2,=plt.plot(x,(beta_normale_f(2, 1, x)),label=\"$\\mu$= 20 $\\sigma$ = 30\")\n",
    "plt.plot(x,(beta_normale_f(10, 1, x)),label=\"$\\mu$= 5 $\\sigma$ = 1\")\n",
    "plt.legend(handler_map={line1: HandlerLine2D(numpoints=4)})\n",
    "\n",
    "plt.show()\n",
    "\n"
   ]
  },
  {
   "cell_type": "code",
   "execution_count": 106,
   "metadata": {},
   "outputs": [],
   "source": [
    "lois = ['normale', 'uniforme', 'poisson']\n",
    "\n",
    "\n",
    "def poid(element, tout, maxi, mini):\n",
    "    \"\"\"Les petites valeurs sont privilégiées.\"\"\"\n",
    "    return maxi - element + 100\n",
    "\n",
    "\n",
    "def get_parts(longueur, nbr_frag):\n",
    "    \"\"\"\n",
    "    découpe aléatoirement un génome \n",
    "    <longueur>: longueur du génome à découper\n",
    "    <nbr_frag>: nombre de fragments souhaités\n",
    "    Return <nll>: liste de taille des fragments obtenus\n",
    "    \"\"\"\n",
    "    cuts = set()\n",
    "    while len(cuts) < nbr_frag - 1:\n",
    "        cuts.add(random.randint(1, longueur - 1))\n",
    "    cuts = [0] + list(sorted(cuts)) + [longueur]\n",
    "    return [cuts[i + 1] - cuts[i] for i in range(len(cuts) - 1)]\n",
    "\n",
    "\n",
    "def fracture(echantillons, loi='normale', parametres=None, source=None):\n",
    "    \"\"\"\n",
    "    Fracture une liste d'échantillons en utilisant un nombre de fractures variables de loi n = Norm(N, sigma)\n",
    "    :param sigma:\n",
    "    :param n: Ecart-type\n",
    "    :param echantillons:\n",
    "    :return:\n",
    "    \"\"\"\n",
    "    if loi == 'normale':\n",
    "        n, sigma = parametres\n",
    "        nfrag = n + np.random.randn(len(echantillons)) * sigma\n",
    "        \n",
    "    elif loi == 'uniforme':\n",
    "        nmin, nmax = parametres\n",
    "        nfrag = np.random.uniform(nmin, nmax, len(echantillons))\n",
    "\n",
    "    elif loi == 'poisson':\n",
    "        n = parametres\n",
    "        nfrag = np.random.poisson(n, len(echantillons))\n",
    "        \n",
    "    else:\n",
    "        raise NotImplementedError(loi)\n",
    "    échantillons_fracturés = []\n",
    "    échantillon_fracture = []\n",
    "\n",
    "    # On prends chaque échantillon et lui associe un nombre de fractures, converti en int à la volée\n",
    "    for index, (nombre_fragments, taille_échantillon) in enumerate(zip(map(int, nfrag), echantillons)):\n",
    "\n",
    "        if nombre_fragments > taille_échantillon:\n",
    "            raise ValueError(\n",
    "                '\\n\\n\\n'\n",
    "                'ERREUR: Le nombre de fragments demandé est trop grand, il est impossible de continuer\\n'\n",
    "                'Vous pouvez: \\n'\n",
    "                '\\t- Réduire le nombre de fragments demandé, en jouant sur N et sigma\\n'\n",
    "                '\\t- Augmenter la taille des échantillons à fracturer\\n'\n",
    "            )\n",
    "        # Il y aura n - 1 fractures pour obtenir n elements\n",
    "        nombre_fractures = nombre_fragments - 1\n",
    "\n",
    "        # Une fracture sera placée avant l'index désigné, donc une fracture\n",
    "        #   localisée à l'index 1 donnera un morceau de 1 et un de taille - 1\n",
    "        fractures = set()\n",
    "        while len(fractures) < nombre_fractures:\n",
    "            fractures.update(np.random.randint(1, taille_échantillon - 1, nombre_fractures))\n",
    "        if len(fractures) != nombre_fractures:\n",
    "            if len(fractures) < nombre_fractures:\n",
    "                raise RuntimeError('ERREUR: Une erreur s\\'est produite: pas assez de fragments')\n",
    "            fractures = set(list(fractures)[:nombre_fractures])\n",
    "            \n",
    "        fractures = list(fractures)\n",
    "        \n",
    "        fractures = [0] + list(sorted(fractures)) + [taille_échantillon]\n",
    "        échantillon_fracturé = [\n",
    "            fractures[i + 1] - fractures[i] for i in range(len(fractures) - 1)\n",
    "        ]\n",
    "        if sum(échantillon_fracturé) != taille_échantillon:\n",
    "            raise RuntimeError(\n",
    "                \"ERREUR: Une erreur s'est produite lors de la fragmentation, \\n\"\n",
    "                f\"Nous avons {abs(sum(échantillon_fracturé) - taille_échantillon)}\"\n",
    "                f\" fragments de différence entre ce qu'on attendais et ce qu'on a\"\n",
    "                f\" ({sum(échantillon_fracturé)} contre {taille_échantillon})\"\n",
    "            )\n",
    "        échantillon_fracturé = list(i for i in sorted(échantillon_fracturé))\n",
    "        échantillons_fracturés.append(échantillon_fracturé)\n",
    "        \n",
    "    fragments = list(chain.from_iterable(échantillons_fracturés))\n",
    "    if source is None:\n",
    "        return fragments\n",
    "    if source.upper() == 'MINION':\n",
    "        maxi, mini = max(fragments), min(fragments)\n",
    "        poids = list(map(partial(poid, mini=mini, maxi=maxi, tout=fragments), fragments))\n",
    "        # s=sum(poids) #172138\n",
    "        s = 0\n",
    "        for i in poids: s += i\n",
    "        \n",
    "        print([i for i in poids if i < 0])\n",
    "        print(s)\n",
    "        fragments = choice(fragments, 100, p=poids/s, replace=False)\n",
    "    elif source.upper() == 'PACBIO':\n",
    "        fragments = [i  for i in fragments if i >= 10000]\n",
    "        ok, ko = [], []\n",
    "        for i in fragments:\n",
    "            (ok if i < 35000 else ko).append(i)\n",
    "        length = len(ko)\n",
    "\n",
    "        for i in ko:\n",
    "            ok.extend(get_parts(i,5))\n",
    "\n",
    "\n",
    "        maxi, mini = max(ok), min(ok)\n",
    "        sumi = sum(ok)\n",
    "\n",
    "        poids = list(map(partial(poid, mini=mini, maxi=maxi, tout=ok), ok))\n",
    "        s=sum(poids)# 35065\n",
    "        fragments = choice(ok, 100, p=poids/s, replace=False)\n",
    "    else:\n",
    "        raise NotImplementedError(source, source.upper())\n",
    "    return fragments\n"
   ]
  },
  {
   "cell_type": "code",
   "execution_count": 94,
   "metadata": {},
   "outputs": [
    {
     "data": {
      "image/png": "[encoded data removed]",
      "text/plain": [
       "<Figure size 432x288 with 1 Axes>"
      ]
     },
     "metadata": {
      "needs_background": "light"
     },
     "output_type": "display_data"
    }
   ],
   "source": [
    "def func(x):\n",
    "    l=3055.732650756836\n",
    "    return (l*np.exp(-l*x))\n",
    "# x = np.linspace(0,1,10)\n",
    "# plt.plot(x, func(x))\n",
    "def randomvariate(pdf,n=1000,xmin=0,xmax=1): \n",
    "    x=np.linspace(xmin,xmax,10)  \n",
    "    y=pdf(x)  \n",
    "    pmin=0.  \n",
    "    pmax=y.max()  \n",
    "   \n",
    "  # Counters  \n",
    "    naccept=0  \n",
    "    ntrial=0  \n",
    "   \n",
    "  # Keeps generating numbers until we achieve the desired n  \n",
    "    ran=[] # output list of random numbers  \n",
    "    while naccept<n:  \n",
    "        x=np.random.uniform(xmin,xmax) # x'  \n",
    "        y=np.random.uniform(pmin,pmax) # y'  \n",
    "   \n",
    "        if y<pdf(x):  \n",
    "            ran.append(x)  \n",
    "            naccept=naccept+1  \n",
    "        ntrial=ntrial+1  \n",
    "    \n",
    "    ran=np.asarray(ran)  \n",
    "    \n",
    "    return ran\n",
    "ran = randomvariate(func,170,0,1)\n",
    "plt.hist(ran)\n",
    "_ = plt.hist(ran)\n"
   ]
  },
  {
   "cell_type": "code",
   "execution_count": 107,
   "metadata": {},
   "outputs": [
    {
     "name": "stdout",
     "output_type": "stream",
     "text": [
      "Optimization terminated successfully.\n",
      "         Current function value: 0.063044\n",
      "         Iterations: 52\n",
      "         Function evaluations: 126\n"
     ]
    },
    {
     "data": {
      "image/png": "[encoded data removed]",
      "text/plain": [
       "<Figure size 432x288 with 1 Axes>"
      ]
     },
     "metadata": {
      "needs_background": "light"
     },
     "output_type": "display_data"
    },
    {
     "name": "stdout",
     "output_type": "stream",
     "text": [
      "Fonction normale optimale pour les parametres (1002.529125213623, 0.2902984619140625) (erreur de 0.0630444368194632)\n"
     ]
    },
    {
     "data": {
      "image/png": "[encoded data removed]",
      "text/plain": [
       "<Figure size 432x288 with 1 Axes>"
      ]
     },
     "metadata": {
      "needs_background": "light"
     },
     "output_type": "display_data"
    },
    {
     "name": "stdout",
     "output_type": "stream",
     "text": [
      "Optimization terminated successfully.\n",
      "         Current function value: 0.000007\n",
      "         Iterations: 73\n",
      "         Function evaluations: 139\n"
     ]
    },
    {
     "data": {
      "image/png": "[encoded data removed]",
      "text/plain": [
       "<Figure size 432x288 with 1 Axes>"
      ]
     },
     "metadata": {
      "needs_background": "light"
     },
     "output_type": "display_data"
    },
    {
     "name": "stdout",
     "output_type": "stream",
     "text": [
      "Fonction uniforme optimale pour les parametres (735.1597494703371, 3945.793172890805) (erreur de 6.7855352231058885e-06)\n"
     ]
    },
    {
     "data": {
      "image/png": "[encoded data removed]",
      "text/plain": [
       "<Figure size 432x288 with 1 Axes>"
      ]
     },
     "metadata": {
      "needs_background": "light"
     },
     "output_type": "display_data"
    },
    {
     "name": "stdout",
     "output_type": "stream",
     "text": [
      "Optimization terminated successfully.\n",
      "         Current function value: 0.000541\n",
      "         Iterations: 30\n",
      "         Function evaluations: 60\n"
     ]
    },
    {
     "data": {
      "image/png": "[encoded data removed]",
      "text/plain": [
       "<Figure size 432x288 with 1 Axes>"
      ]
     },
     "metadata": {
      "needs_background": "light"
     },
     "output_type": "display_data"
    },
    {
     "name": "stdout",
     "output_type": "stream",
     "text": [
      "Fonction poisson optimale pour les parametres (3055.732650756836,) (erreur de 0.000540849822529836)\n"
     ]
    },
    {
     "data": {
      "image/png": "[encoded data removed]",
      "text/plain": [
       "<Figure size 432x288 with 1 Axes>"
      ]
     },
     "metadata": {
      "needs_background": "light"
     },
     "output_type": "display_data"
    }
   ],
   "source": [
    "\n",
    "\n",
    "nom, erreur, parametres = loi_optimale(norm)\n",
    "\n"
   ]
  },
  {
   "cell_type": "code",
   "execution_count": 99,
   "metadata": {},
   "outputs": [
    {
     "name": "stdout",
     "output_type": "stream",
     "text": [
      "La méthode optimale est uniforme(735.1597494703371, 3945.793172890805)\n"
     ]
    }
   ],
   "source": [
    "\n",
    "print(f'La méthode optimale est {nom}{tuple(parametres)}')\n",
    "\n"
   ]
  },
  {
   "cell_type": "code",
   "execution_count": 101,
   "metadata": {},
   "outputs": [
    {
     "name": "stdout",
     "output_type": "stream",
     "text": [
      "[]\n",
      "118354401792\n"
     ]
    },
    {
     "data": {
      "text/plain": [
       "(array([59., 19., 11.,  1.,  2.,  2.,  2.,  1.,  1.,  0.,  0.,  1.,  0.,\n",
       "         0.,  0.,  0.,  0.,  0.,  0.,  1.]),\n",
       " array([5.00000e+00, 8.73100e+02, 1.74120e+03, 2.60930e+03, 3.47740e+03,\n",
       "        4.34550e+03, 5.21360e+03, 6.08170e+03, 6.94980e+03, 7.81790e+03,\n",
       "        8.68600e+03, 9.55410e+03, 1.04222e+04, 1.12903e+04, 1.21584e+04,\n",
       "        1.30265e+04, 1.38946e+04, 1.47627e+04, 1.56308e+04, 1.64989e+04,\n",
       "        1.73670e+04]),\n",
       " <a list of 20 Patch objects>)"
      ]
     },
     "execution_count": 101,
     "metadata": {},
     "output_type": "execute_result"
    },
    {
     "data": {
      "image/png": "[encoded data removed]",
      "text/plain": [
       "<Figure size 432x288 with 1 Axes>"
      ]
     },
     "metadata": {
      "needs_background": "light"
     },
     "output_type": "display_data"
    }
   ],
   "source": [
    "plt.hist(fracture([3000000]*1000, nom, parametres, source='MINION'), bins=20)"
   ]
  },
  {
   "cell_type": "code",
   "execution_count": null,
   "metadata": {},
   "outputs": [],
   "source": []
  }
 ],
 "metadata": {
  "kernelspec": {
   "display_name": "Python 3",
   "language": "python",
   "name": "python3"
  },
  "language_info": {
   "codemirror_mode": {
    "name": "ipython",
    "version": 3
   },
   "file_extension": ".py",
   "mimetype": "text/x-python",
   "name": "python",
   "nbconvert_exporter": "python",
   "pygments_lexer": "ipython3",
   "version": "3.6.7"
  }
 },
 "nbformat": 4,
 "nbformat_minor": 2
}
