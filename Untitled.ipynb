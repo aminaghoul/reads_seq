{
 "cells": [
  {
   "cell_type": "code",
   "execution_count": 1,
   "metadata": {},
   "outputs": [],
   "source": [
    "import random\n",
    "\n",
    "import scipy.stats\n",
    "\n",
    "from numpy import exp\n",
    "from numpy import pi\n",
    "from numpy import sqrt\n",
    "\n",
    "import numpy as np\n",
    "from matplotlib import pyplot as plt\n",
    "\n",
    "from scipy.optimize import fmin\n",
    "from scipy.stats import geom,  expon , beta\n",
    "import seaborn as sns\n",
    "sns.set(color_codes=True)\n",
    "from functools import partial\n",
    "from itertools import chain\n",
    "from numpy.random import choice"
   ]
  },
  {
   "cell_type": "code",
   "execution_count": 208,
   "metadata": {},
   "outputs": [
    {
     "name": "stdout",
     "output_type": "stream",
     "text": [
      "69700\n"
     ]
    },
    {
     "data": {
      "image/png": "[encoded data removed]",
      "text/plain": [
       "<Figure size 432x288 with 1 Axes>"
      ]
     },
     "metadata": {
      "needs_background": "light"
     },
     "output_type": "display_data"
    }
   ],
   "source": [
    "monFichier = open(\"../Documents/PACBIO/pacbiors2/DRR070681_subreads.fastq\", \"r\") #MINION\n",
    "taille = []\n",
    "f = []\n",
    "norm = []\n",
    "\n",
    "for line in monFichier:\n",
    "    fields = line.strip().split()\n",
    "    for idx, word in enumerate(fields):\n",
    "        f.append(word)\n",
    "\n",
    "for i, element in enumerate(f):\n",
    "    if element.endswith(\"/1\") and i + 1 < len(f):\n",
    "        taille.append(len(f[i + 1]))\n",
    "g = sum(taille)\n",
    "norm = [i / 3711100 for i in taille]\n",
    "plt.title(\"Distribution de la longueur des lectures\")\n",
    "plt.xlabel(\"taille en bp\")\n",
    "plt.hist(taille,range = (0, 20000),bins =40)\n",
    "print(len(taille))\n"
   ]
  },
  {
   "cell_type": "code",
   "execution_count": 209,
   "metadata": {},
   "outputs": [],
   "source": [
    "NomFichier = 'pacbio10.txt'\n",
    "# création et ouverture du fichier test.txt en mode write 'w' (écriture)\n",
    "# si le fichier test.txt existe déjà, il est écrasé\n",
    "Fichier = open(NomFichier,'w')      # instanciation de l'objet Fichier de la classe file\n",
    "\n",
    "# écriture dans le fichier avec la méthode write()\n",
    "for i in taille:\n",
    "    Fichier.write(str(i))\n",
    "    Fichier.write(' ')\n",
    "\n",
    "# fermeture du fichier avec la méthode close()\n",
    "Fichier.close()"
   ]
  },
  {
   "cell_type": "code",
   "execution_count": 3,
   "metadata": {},
   "outputs": [],
   "source": [
    "def integrale_trapeze(f, x_min, x_max, nb_x):\n",
    "    pas = (x_max - x_min) / (nb_x * 2)\n",
    "    # On prend en compte un décalage, car l'intégrale sera sur un intervalle, par conséquent il est plus judicieux\n",
    "    #    de l'associer au milieu des segments de l'axe\n",
    "    x = np.linspace(x_min + pas, x_max - pas, nb_x)\n",
    "    return sum(map(f, x)) * (x[1] - x[0])\n",
    "\n",
    "def beta_normale_f(mu, sigma, x):\n",
    "        if isinstance(x, (int, float)):            \n",
    "            def g(y):\n",
    "                if x == 1: return 0\n",
    "                if y == 1: return 0\n",
    "                _a = y*(1-x)**(y-1)\n",
    "                _b = exp(- ((y-mu)**2) / (2*(sigma**2)))\n",
    "                _c = sqrt(2*pi)\n",
    "                return _a * (_b / _c)\n",
    "\n",
    "            a = (1 / (1 - scipy.stats.norm(mu, sigma).cdf(0)))\n",
    "            b = integrale_trapeze(g, 0, 1000, 1000)\n",
    "            return a * b\n",
    "        else:\n",
    "            return list(map(partial(beta_normale_f, mu, sigma), x))\n",
    "        \n",
    "def beta_uniforme_f(a, b, x):\n",
    "    return np.exp(-np.log(1-x))/(b-a)*((b*np.exp(b*np.log(1-x)) - a*np.exp(a*np.log(1-x)))/(np.log(1-x)) +\n",
    "                                           (np.exp(a*np.log(1-x)) - np.exp(b*np.log(1-x)))/((np.log(1-x))**2))\n",
    "\n",
    "\n",
    "def beta_poisson_f(x, l):\n",
    "    return (l*np.exp(-l*x))\n",
    "\n",
    "\n",
    "def normalize(array):\n",
    "    mini, maxi = min(array), max(array)\n",
    "    if mini == maxi:\n",
    "        return [1 / len(array) for i in array]\n",
    "    return [(i - mini) / (maxi - mini) for i in array]\n",
    "\n",
    "def erreur(echantillon, fonction_densite, parametres):\n",
    "    \"\"\"Retourne l'erreur, par la méthode des moindres carrés permettant de noter un couple mu, sigma\"\"\"\n",
    "    mini, maxi = min(echantillon), max(echantillon)\n",
    "    histogramme, _, _ = plt.hist(echantillon, bins=20)\n",
    "    # histogramme, _, _ = histogramme\n",
    "    precision = len(histogramme)\n",
    "    pas = (maxi - mini) / precision\n",
    "    x = np.linspace(mini + (pas / 2), maxi - (pas / 2), precision - 1)\n",
    "    y = fonction_densite(*list(parametres), x)\n",
    "    histogramme, y = map(normalize, (histogramme, y))\n",
    "    err = sum( (i-j)**2 for i, j in zip(histogramme, y))\n",
    "    return err\n",
    "\n",
    "def loi_optimale(sample):\n",
    "    \"\"\"\n",
    "    Prend une liste de tailles de gènes et tente de trouver une loi optimale pouvant définir l'échantillon\n",
    "\n",
    "    :param x: Une liste de nombres (tailles).\n",
    "    :return: La loi, caractérisée par un nom et des paramètres.\n",
    "    \"\"\"\n",
    "    fonctions = dict(\n",
    "        normale=beta_normale_f,\n",
    "        uniforme=beta_uniforme_f)\n",
    "    erreurs = []\n",
    "    \n",
    "    for nom, f, initial in [\n",
    "        ('normale', beta_normale_f, [850, 10]),\n",
    "        ('uniforme', beta_uniforme_f, [800, 900]),\n",
    "        ('poisson', beta_poisson_f, [800])\n",
    "    ]:\n",
    "        opt = fmin(partial(erreur, sample, f), initial,) \n",
    "        plt.show()\n",
    "        err = erreur(sample, f, opt)\n",
    "        erreurs.append((nom, err, opt))\n",
    "        print(f'Fonction {nom} optimale pour les parametres {tuple(opt)} (erreur de {err})')\n",
    "        fragments = (fracture([3711100] * 1000, nom, opt))\n",
    "        maxi, mini = max(fragments), min(fragments)\n",
    "        sumi = sum(fragments)\n",
    "        poids = list(map(partial(poid, mini=mini, maxi=maxi, tout=fragments), fragments))\n",
    "        s=sum(poids)\n",
    "   \n",
    "        fragments = choice(fragments, 35000, p=poids/s, replace=False)\n",
    "        plt.hist(fragments, range=(0,100000),bins=20)\n",
    "        plt.show()\n",
    "    \n",
    "    return min(erreurs, key=lambda i: i[1])"
   ]
  },
  {
   "cell_type": "code",
   "execution_count": 81,
   "metadata": {},
   "outputs": [
    {
     "data": {
      "image/png": "[encoded data removed]",
      "text/plain": [
       "<Figure size 432x288 with 1 Axes>"
      ]
     },
     "metadata": {
      "needs_background": "light"
     },
     "output_type": "display_data"
    }
   ],
   "source": [
    "from matplotlib.legend_handler import HandlerLine2D\n",
    "x = np.linspace(0,0.95)\n",
    "plt.title('Densité de la loi composée bêta-normale')\n",
    "\n",
    "line1, =plt.plot(x,beta_normale_f(5, 1, x) , label=\"$\\mu$= 10 $\\sigma$ = 15\")\n",
    "line2,=plt.plot(x,(beta_normale_f(2, 1, x)),label=\"$\\mu$= 20 $\\sigma$ = 30\")\n",
    "plt.plot(x,(beta_normale_f(10, 1, x)),label=\"$\\mu$= 5 $\\sigma$ = 1\")\n",
    "plt.legend(handler_map={line1: HandlerLine2D(numpoints=4)})\n",
    "\n",
    "plt.show()\n",
    "\n"
   ]
  },
  {
   "cell_type": "code",
   "execution_count": 4,
   "metadata": {},
   "outputs": [],
   "source": [
    "lois = ['normale', 'uniforme', 'poisson']\n",
    "\n",
    "\n",
    "def poid(element, tout, maxi, mini):\n",
    "    \"\"\"Les petites valeurs sont privilégiées.\"\"\"\n",
    "    return maxi - element + 100\n",
    "\n",
    "\n",
    "def get_parts(longueur, nbr_frag):\n",
    "    \"\"\"\n",
    "    découpe aléatoirement un génome \n",
    "    <longueur>: longueur du génome à découper\n",
    "    <nbr_frag>: nombre de fragments souhaités\n",
    "    Return <nll>: liste de taille des fragments obtenus\n",
    "    \"\"\"\n",
    "    cuts = set()\n",
    "    while len(cuts) < nbr_frag - 1:\n",
    "        cuts.add(random.randint(1, longueur - 1))\n",
    "    cuts = [0] + list(sorted(cuts)) + [longueur]\n",
    "    return [cuts[i + 1] - cuts[i] for i in range(len(cuts) - 1)]\n",
    "\n",
    "\n",
    "def fracture(echantillons, loi='normale', parametres=None, source=None):\n",
    "    \"\"\"\n",
    "    Fracture une liste d'échantillons en utilisant un nombre de fractures variables de loi n = Norm(N, sigma)\n",
    "    :param sigma:\n",
    "    :param n: Ecart-type\n",
    "    :param echantillons:\n",
    "    :return:\n",
    "    \"\"\"\n",
    "    if loi == 'normale':\n",
    "        n, sigma = parametres\n",
    "        nfrag = n + np.random.randn(len(echantillons)) * sigma\n",
    "        \n",
    "    elif loi == 'uniforme':\n",
    "        nmin, nmax = parametres\n",
    "        nfrag = np.random.uniform(nmin, nmax, len(echantillons))\n",
    "\n",
    "    elif loi == 'poisson':\n",
    "        n = parametres\n",
    "        nfrag = np.random.poisson(n, len(echantillons))\n",
    "        \n",
    "    else:\n",
    "        raise NotImplementedError(loi)\n",
    "    échantillons_fracturés = []\n",
    "    échantillon_fracture = []\n",
    "\n",
    "    # On prends chaque échantillon et lui associe un nombre de fractures, converti en int à la volée\n",
    "    for index, (nombre_fragments, taille_échantillon) in enumerate(zip(map(int, nfrag), echantillons)):\n",
    "\n",
    "        if nombre_fragments > taille_échantillon:\n",
    "            raise ValueError(\n",
    "                '\\n\\n\\n'\n",
    "                'ERREUR: Le nombre de fragments demandé est trop grand, il est impossible de continuer\\n'\n",
    "                'Vous pouvez: \\n'\n",
    "                '\\t- Réduire le nombre de fragments demandé, en jouant sur N et sigma\\n'\n",
    "                '\\t- Augmenter la taille des échantillons à fracturer\\n'\n",
    "            )\n",
    "        # Il y aura n - 1 fractures pour obtenir n elements\n",
    "        nombre_fractures = nombre_fragments - 1\n",
    "\n",
    "        # Une fracture sera placée avant l'index désigné, donc une fracture\n",
    "        #   localisée à l'index 1 donnera un morceau de 1 et un de taille - 1\n",
    "        fractures = set()\n",
    "        while len(fractures) < nombre_fractures:\n",
    "            fractures.update(np.random.randint(1, taille_échantillon - 1, nombre_fractures))\n",
    "        if len(fractures) != nombre_fractures:\n",
    "            if len(fractures) < nombre_fractures:\n",
    "                raise RuntimeError('ERREUR: Une erreur s\\'est produite: pas assez de fragments')\n",
    "            fractures = set(list(fractures)[:nombre_fractures])\n",
    "            \n",
    "        fractures = list(fractures)\n",
    "        \n",
    "        fractures = [0] + list(sorted(fractures)) + [taille_échantillon]\n",
    "        échantillon_fracturé = [\n",
    "            fractures[i + 1] - fractures[i] for i in range(len(fractures) - 1)\n",
    "        ]\n",
    "        if sum(échantillon_fracturé) != taille_échantillon:\n",
    "            raise RuntimeError(\n",
    "                \"ERREUR: Une erreur s'est produite lors de la fragmentation, \\n\"\n",
    "                f\"Nous avons {abs(sum(échantillon_fracturé) - taille_échantillon)}\"\n",
    "                f\" fragments de différence entre ce qu'on attendais et ce qu'on a\"\n",
    "                f\" ({sum(échantillon_fracturé)} contre {taille_échantillon})\"\n",
    "            )\n",
    "        échantillon_fracturé = list(i for i in sorted(échantillon_fracturé))\n",
    "        échantillons_fracturés.append(échantillon_fracturé)\n",
    "        \n",
    "    fragments = list(chain.from_iterable(échantillons_fracturés))\n",
    "    if source is None:\n",
    "        return fragments\n",
    "    if source.upper() == 'MINION':\n",
    "        maxi, mini = max(fragments), min(fragments)\n",
    "        poids = list(map(partial(poid, mini=mini, maxi=maxi, tout=fragments), fragments))\n",
    "        # s=sum(poids) #172138\n",
    "        s = 0\n",
    "        for i in poids: s += i\n",
    "        \n",
    "        print([i for i in poids if i < 0])\n",
    "        print(s)\n",
    "        fragments = choice(fragments, 100, p=poids/s, replace=False)\n",
    "    elif source.upper() == 'PACBIO':\n",
    "        fragments = [i  for i in fragments if i >= 10000]\n",
    "        ok, ko = [], []\n",
    "        for i in fragments:\n",
    "            (ok if i < 35000 else ko).append(i)\n",
    "        length = len(ko)\n",
    "\n",
    "        for i in ko:\n",
    "            ok.extend(get_parts(i,5))\n",
    "\n",
    "\n",
    "        maxi, mini = max(ok), min(ok)\n",
    "        sumi = sum(ok)\n",
    "\n",
    "        poids = list(map(partial(poid, mini=mini, maxi=maxi, tout=ok), ok))\n",
    "        s=sum(poids)# 35065\n",
    "        fragments = choice(ok, 100, p=poids/s, replace=False)\n",
    "    else:\n",
    "        raise NotImplementedError(source, source.upper())\n",
    "    return fragments\n"
   ]
  },
  {
   "cell_type": "code",
   "execution_count": 94,
   "metadata": {},
   "outputs": [
    {
     "data": {
      "image/png": "[encoded data removed]",
      "text/plain": [
       "<Figure size 432x288 with 1 Axes>"
      ]
     },
     "metadata": {
      "needs_background": "light"
     },
     "output_type": "display_data"
    }
   ],
   "source": [
    "def func(x):\n",
    "    l=3055.732650756836\n",
    "    return (l*np.exp(-l*x))\n",
    "# x = np.linspace(0,1,10)\n",
    "# plt.plot(x, func(x))\n",
    "def randomvariate(pdf,n=1000,xmin=0,xmax=1): \n",
    "    x=np.linspace(xmin,xmax,10)  \n",
    "    y=pdf(x)  \n",
    "    pmin=0.  \n",
    "    pmax=y.max()  \n",
    "   \n",
    "  # Counters  \n",
    "    naccept=0  \n",
    "    ntrial=0  \n",
    "   \n",
    "  # Keeps generating numbers until we achieve the desired n  \n",
    "    ran=[] # output list of random numbers  \n",
    "    while naccept<n:  \n",
    "        x=np.random.uniform(xmin,xmax) # x'  \n",
    "        y=np.random.uniform(pmin,pmax) # y'  \n",
    "   \n",
    "        if y<pdf(x):  \n",
    "            ran.append(x)  \n",
    "            naccept=naccept+1  \n",
    "        ntrial=ntrial+1  \n",
    "    \n",
    "    ran=np.asarray(ran)  \n",
    "    \n",
    "    return ran\n",
    "ran = randomvariate(func,170,0,1)\n",
    "plt.hist(ran)\n",
    "_ = plt.hist(ran)\n"
   ]
  },
  {
   "cell_type": "code",
   "execution_count": 116,
   "metadata": {},
   "outputs": [
    {
     "name": "stdout",
     "output_type": "stream",
     "text": [
      "Optimization terminated successfully.\n",
      "         Current function value: 0.353537\n",
      "         Iterations: 53\n",
      "         Function evaluations: 125\n"
     ]
    },
    {
     "data": {
      "image/png": "[encoded data removed]",
      "text/plain": [
       "<Figure size 432x288 with 1 Axes>"
      ]
     },
     "metadata": {
      "needs_background": "light"
     },
     "output_type": "display_data"
    },
    {
     "name": "stdout",
     "output_type": "stream",
     "text": [
      "Fonction normale optimale pour les parametres (393.7956843192981, 0.03702048315241768) (erreur de 0.35353682213226784)\n"
     ]
    },
    {
     "data": {
      "image/png": "[encoded data removed]",
      "text/plain": [
       "<Figure size 432x288 with 1 Axes>"
      ]
     },
     "metadata": {
      "needs_background": "light"
     },
     "output_type": "display_data"
    },
    {
     "name": "stdout",
     "output_type": "stream",
     "text": [
      "Optimization terminated successfully.\n",
      "         Current function value: 0.353530\n",
      "         Iterations: 61\n",
      "         Function evaluations: 129\n"
     ]
    },
    {
     "data": {
      "image/png": "[encoded data removed]",
      "text/plain": [
       "<Figure size 432x288 with 1 Axes>"
      ]
     },
     "metadata": {
      "needs_background": "light"
     },
     "output_type": "display_data"
    },
    {
     "name": "stdout",
     "output_type": "stream",
     "text": [
      "Fonction uniforme optimale pour les parametres (392.4051285783849, 392.4057906487204) (erreur de 0.3535301709917836)\n"
     ]
    },
    {
     "data": {
      "image/png": "[encoded data removed]",
      "text/plain": [
       "<Figure size 432x288 with 1 Axes>"
      ]
     },
     "metadata": {
      "needs_background": "light"
     },
     "output_type": "display_data"
    },
    {
     "name": "stdout",
     "output_type": "stream",
     "text": [
      "Optimization terminated successfully.\n",
      "         Current function value: 0.065903\n",
      "         Iterations: 23\n",
      "         Function evaluations: 46\n"
     ]
    },
    {
     "data": {
      "image/png": "[encoded data removed]",
      "text/plain": [
       "<Figure size 432x288 with 1 Axes>"
      ]
     },
     "metadata": {
      "needs_background": "light"
     },
     "output_type": "display_data"
    },
    {
     "name": "stdout",
     "output_type": "stream",
     "text": [
      "Fonction poisson optimale pour les parametres (1001.5024566650391,) (erreur de 0.06590269856779443)\n"
     ]
    },
    {
     "data": {
      "image/png": "[encoded data removed]",
      "text/plain": [
       "<Figure size 432x288 with 1 Axes>"
      ]
     },
     "metadata": {
      "needs_background": "light"
     },
     "output_type": "display_data"
    }
   ],
   "source": [
    "nom, erreur, parametres = loi_optimale(norm)\n",
    "\n"
   ]
  },
  {
   "cell_type": "code",
   "execution_count": 117,
   "metadata": {},
   "outputs": [
    {
     "name": "stdout",
     "output_type": "stream",
     "text": [
      "La méthode optimale est poisson(1001.5024566650391,)\n"
     ]
    }
   ],
   "source": [
    "\n",
    "print(f'La méthode optimale est {nom}{tuple(parametres)}')\n",
    "\n"
   ]
  },
  {
   "cell_type": "code",
   "execution_count": 101,
   "metadata": {},
   "outputs": [
    {
     "name": "stdout",
     "output_type": "stream",
     "text": [
      "[]\n",
      "118354401792\n"
     ]
    },
    {
     "data": {
      "text/plain": [
       "(array([59., 19., 11.,  1.,  2.,  2.,  2.,  1.,  1.,  0.,  0.,  1.,  0.,\n",
       "         0.,  0.,  0.,  0.,  0.,  0.,  1.]),\n",
       " array([5.00000e+00, 8.73100e+02, 1.74120e+03, 2.60930e+03, 3.47740e+03,\n",
       "        4.34550e+03, 5.21360e+03, 6.08170e+03, 6.94980e+03, 7.81790e+03,\n",
       "        8.68600e+03, 9.55410e+03, 1.04222e+04, 1.12903e+04, 1.21584e+04,\n",
       "        1.30265e+04, 1.38946e+04, 1.47627e+04, 1.56308e+04, 1.64989e+04,\n",
       "        1.73670e+04]),\n",
       " <a list of 20 Patch objects>)"
      ]
     },
     "execution_count": 101,
     "metadata": {},
     "output_type": "execute_result"
    },
    {
     "data": {
      "image/png": "[encoded data removed]",
      "text/plain": [
       "<Figure size 432x288 with 1 Axes>"
      ]
     },
     "metadata": {
      "needs_background": "light"
     },
     "output_type": "display_data"
    }
   ],
   "source": [
    "plt.hist(fracture([3000000]*1000, nom, parametres, source='MINION'), bins=20)"
   ]
  },
  {
   "cell_type": "code",
   "execution_count": 178,
   "metadata": {},
   "outputs": [
    {
     "name": "stdout",
     "output_type": "stream",
     "text": [
      "100\n",
      "0.99\n",
      "69700\n"
     ]
    },
    {
     "data": {
      "image/png": "[encoded data removed]",
      "text/plain": [
       "<Figure size 432x288 with 1 Axes>"
      ]
     },
     "metadata": {
      "needs_background": "light"
     },
     "output_type": "display_data"
    }
   ],
   "source": [
    "from math import *\n",
    "def weib(x,n,a):\n",
    "    return (a / n) * (x / n)**(a - 1) * np.exp(-(x / n)**a)\n",
    "\n",
    "from matplotlib.legend_handler import HandlerLine2D\n",
    "x=np.linspace(0,20000,100)\n",
    "\n",
    "plt.title('Densité de la loi composée * g')\n",
    "\n",
    "def geome(x,p):    \n",
    "    return (1-p)*p**x\n",
    "\n",
    "l= 100\n",
    "p=0.99\n",
    "\n",
    "print(l)\n",
    "print(p)\n",
    "\n",
    "f=beta_poisson_f(x,l)\n",
    "def fweib(x, mu,k, l):\n",
    "    g=1000000\n",
    "    a = (mu*k)\n",
    "    b= (mu*x)**(k-1)\n",
    "    c= np.exp(-((mu*x))**k)\n",
    "    d= np.exp(-l*x)-np.exp(-l*g)\n",
    "    return a*b*c*d\n",
    "\n",
    "k=1.25\n",
    "norme = [i**k for i in norm]\n",
    "mu = (len(norm)/(sum(norme)))**(1/k)\n",
    "line1, =plt.plot(x,fweib(x/1000000, 165.18352890572584,1.3886195498863754,1.9364251414314578e-05))\n",
    "#line2, =plt.plot(x,f*(geome(x,p)+(1-geome(x,p))/x))\n",
    "t =[0.002,0.002,0.002,0.03,0.1,0.1]\n",
    "#plt.hist(norm,bins=30)\n",
    "print(len(norm))\n",
    "plt.show()\n",
    "\n"
   ]
  },
  {
   "cell_type": "code",
   "execution_count": 148,
   "metadata": {},
   "outputs": [
    {
     "name": "stdout",
     "output_type": "stream",
     "text": [
      "357429.980187639\n",
      "-396800.86304906395\n",
      "-1198730.3786489903\n",
      "-2026447.1296937263\n",
      "-2875211.4320072075\n"
     ]
    },
    {
     "ename": "KeyboardInterrupt",
     "evalue": "",
     "output_type": "error",
     "traceback": [
      "\u001b[0;31m---------------------------------------------------------------------------\u001b[0m",
      "\u001b[0;31mKeyboardInterrupt\u001b[0m                         Traceback (most recent call last)",
      "\u001b[0;32m<ipython-input-148-aa26d849dbc1>\u001b[0m in \u001b[0;36m<module>\u001b[0;34m\u001b[0m\n\u001b[1;32m     16\u001b[0m     \u001b[0mmu\u001b[0m \u001b[0;34m=\u001b[0m \u001b[0;34m(\u001b[0m\u001b[0mlen\u001b[0m\u001b[0;34m(\u001b[0m\u001b[0mnorm\u001b[0m\u001b[0;34m)\u001b[0m\u001b[0;34m/\u001b[0m\u001b[0;34m(\u001b[0m\u001b[0msum\u001b[0m\u001b[0;34m(\u001b[0m\u001b[0mnorme\u001b[0m\u001b[0;34m)\u001b[0m\u001b[0;34m)\u001b[0m\u001b[0;34m)\u001b[0m\u001b[0;34m**\u001b[0m\u001b[0;34m(\u001b[0m\u001b[0;36m1\u001b[0m\u001b[0;34m/\u001b[0m\u001b[0mk\u001b[0m\u001b[0;34m)\u001b[0m\u001b[0;34m\u001b[0m\u001b[0;34m\u001b[0m\u001b[0m\n\u001b[1;32m     17\u001b[0m     \u001b[0my\u001b[0m\u001b[0;34m.\u001b[0m\u001b[0mappend\u001b[0m\u001b[0;34m(\u001b[0m\u001b[0mlog_vraissemblancep\u001b[0m\u001b[0;34m(\u001b[0m\u001b[0mdata\u001b[0m\u001b[0;34m,\u001b[0m \u001b[0mmu\u001b[0m\u001b[0;34m,\u001b[0m\u001b[0mk\u001b[0m\u001b[0;34m,\u001b[0m\u001b[0;36m1\u001b[0m\u001b[0;34m)\u001b[0m\u001b[0;34m)\u001b[0m\u001b[0;34m\u001b[0m\u001b[0;34m\u001b[0m\u001b[0m\n\u001b[0;32m---> 18\u001b[0;31m     \u001b[0mprint\u001b[0m\u001b[0;34m(\u001b[0m\u001b[0mlog_vraissemblancep\u001b[0m\u001b[0;34m(\u001b[0m\u001b[0mdata\u001b[0m\u001b[0;34m,\u001b[0m \u001b[0mmu\u001b[0m\u001b[0;34m,\u001b[0m\u001b[0mk\u001b[0m\u001b[0;34m,\u001b[0m\u001b[0;36m1\u001b[0m\u001b[0;34m)\u001b[0m\u001b[0;34m)\u001b[0m\u001b[0;34m\u001b[0m\u001b[0;34m\u001b[0m\u001b[0m\n\u001b[0m\u001b[1;32m     19\u001b[0m \u001b[0mplt\u001b[0m\u001b[0;34m.\u001b[0m\u001b[0mplot\u001b[0m\u001b[0;34m(\u001b[0m\u001b[0mx\u001b[0m\u001b[0;34m,\u001b[0m\u001b[0my\u001b[0m\u001b[0;34m)\u001b[0m\u001b[0;34m\u001b[0m\u001b[0;34m\u001b[0m\u001b[0m\n",
      "\u001b[0;32m<ipython-input-148-aa26d849dbc1>\u001b[0m in \u001b[0;36mlog_vraissemblancep\u001b[0;34m(data, mu, k, l)\u001b[0m\n\u001b[1;32m      2\u001b[0m     \u001b[0mL\u001b[0m \u001b[0;34m=\u001b[0m \u001b[0;34m[\u001b[0m\u001b[0;34m]\u001b[0m\u001b[0;34m\u001b[0m\u001b[0;34m\u001b[0m\u001b[0m\n\u001b[1;32m      3\u001b[0m     \u001b[0;32mfor\u001b[0m \u001b[0mx\u001b[0m \u001b[0;32min\u001b[0m \u001b[0mdata\u001b[0m\u001b[0;34m:\u001b[0m\u001b[0;34m\u001b[0m\u001b[0;34m\u001b[0m\u001b[0m\n\u001b[0;32m----> 4\u001b[0;31m         \u001b[0my\u001b[0m \u001b[0;34m=\u001b[0m  \u001b[0mfweib\u001b[0m\u001b[0;34m(\u001b[0m\u001b[0mx\u001b[0m\u001b[0;34m/\u001b[0m\u001b[0;36m1000000\u001b[0m\u001b[0;34m,\u001b[0m\u001b[0mmu\u001b[0m\u001b[0;34m,\u001b[0m\u001b[0mk\u001b[0m\u001b[0;34m,\u001b[0m\u001b[0ml\u001b[0m\u001b[0;34m)\u001b[0m\u001b[0;34m\u001b[0m\u001b[0;34m\u001b[0m\u001b[0m\n\u001b[0m\u001b[1;32m      5\u001b[0m         \u001b[0mL\u001b[0m\u001b[0;34m.\u001b[0m\u001b[0mappend\u001b[0m\u001b[0;34m(\u001b[0m\u001b[0mnp\u001b[0m\u001b[0;34m.\u001b[0m\u001b[0mlog\u001b[0m\u001b[0;34m(\u001b[0m\u001b[0my\u001b[0m\u001b[0;34m)\u001b[0m\u001b[0;34m)\u001b[0m\u001b[0;34m\u001b[0m\u001b[0;34m\u001b[0m\u001b[0m\n\u001b[1;32m      6\u001b[0m \u001b[0;34m\u001b[0m\u001b[0m\n",
      "\u001b[0;32m<ipython-input-135-6a2c5579831c>\u001b[0m in \u001b[0;36mfweib\u001b[0;34m(x, mu, k, l)\u001b[0m\n\u001b[1;32m     23\u001b[0m     \u001b[0mb\u001b[0m\u001b[0;34m=\u001b[0m \u001b[0;34m(\u001b[0m\u001b[0mmu\u001b[0m\u001b[0;34m*\u001b[0m\u001b[0mx\u001b[0m\u001b[0;34m)\u001b[0m\u001b[0;34m**\u001b[0m\u001b[0;34m(\u001b[0m\u001b[0mk\u001b[0m\u001b[0;34m-\u001b[0m\u001b[0;36m1\u001b[0m\u001b[0;34m)\u001b[0m\u001b[0;34m\u001b[0m\u001b[0;34m\u001b[0m\u001b[0m\n\u001b[1;32m     24\u001b[0m     \u001b[0mc\u001b[0m\u001b[0;34m=\u001b[0m \u001b[0mnp\u001b[0m\u001b[0;34m.\u001b[0m\u001b[0mexp\u001b[0m\u001b[0;34m(\u001b[0m\u001b[0;34m-\u001b[0m\u001b[0;34m(\u001b[0m\u001b[0;34m(\u001b[0m\u001b[0mmu\u001b[0m\u001b[0;34m*\u001b[0m\u001b[0mx\u001b[0m\u001b[0;34m)\u001b[0m\u001b[0;34m)\u001b[0m\u001b[0;34m**\u001b[0m\u001b[0mk\u001b[0m\u001b[0;34m)\u001b[0m\u001b[0;34m\u001b[0m\u001b[0;34m\u001b[0m\u001b[0m\n\u001b[0;32m---> 25\u001b[0;31m     \u001b[0md\u001b[0m\u001b[0;34m=\u001b[0m \u001b[0mnp\u001b[0m\u001b[0;34m.\u001b[0m\u001b[0mexp\u001b[0m\u001b[0;34m(\u001b[0m\u001b[0;34m-\u001b[0m\u001b[0ml\u001b[0m\u001b[0;34m*\u001b[0m\u001b[0mx\u001b[0m\u001b[0;34m)\u001b[0m\u001b[0;34m-\u001b[0m\u001b[0mnp\u001b[0m\u001b[0;34m.\u001b[0m\u001b[0mexp\u001b[0m\u001b[0;34m(\u001b[0m\u001b[0;34m-\u001b[0m\u001b[0ml\u001b[0m\u001b[0;34m*\u001b[0m\u001b[0mg\u001b[0m\u001b[0;34m)\u001b[0m\u001b[0;34m\u001b[0m\u001b[0;34m\u001b[0m\u001b[0m\n\u001b[0m\u001b[1;32m     26\u001b[0m     \u001b[0;32mreturn\u001b[0m \u001b[0ma\u001b[0m\u001b[0;34m*\u001b[0m\u001b[0mb\u001b[0m\u001b[0;34m*\u001b[0m\u001b[0mc\u001b[0m\u001b[0;34m*\u001b[0m\u001b[0md\u001b[0m\u001b[0;34m\u001b[0m\u001b[0;34m\u001b[0m\u001b[0m\n\u001b[1;32m     27\u001b[0m \u001b[0;34m\u001b[0m\u001b[0m\n",
      "\u001b[0;31mKeyboardInterrupt\u001b[0m: "
     ]
    }
   ],
   "source": [
    "def log_vraissemblancep(data,  mu,k,l ):\n",
    "    L = []\n",
    "    for x in data:\n",
    "        y =  fweib(x/1000000,mu,k,l)\n",
    "        L.append(np.log(y))\n",
    "    \n",
    "    return np.sum(L) \n",
    "\n",
    "norme = [i**k for i in norm]\n",
    "mu = (len(norm)/(sum(norme)))**(1/k)\n",
    "x = np.arange(1,10,1)\n",
    "y = []\n",
    "data = norm\n",
    "for k in x: \n",
    "    norme = [i**k for i in norm]\n",
    "    mu = (len(norm)/(sum(norme)))**(1/k)\n",
    "    y.append(log_vraissemblancep(data, mu,k,1))\n",
    "    print(log_vraissemblancep(data, mu,k,1))\n",
    "plt.plot(x,y)"
   ]
  },
  {
   "cell_type": "code",
   "execution_count": null,
   "metadata": {},
   "outputs": [],
   "source": []
  },
  {
   "cell_type": "code",
   "execution_count": 137,
   "metadata": {},
   "outputs": [
    {
     "data": {
      "text/plain": [
       "x         1.000000\n",
       "y    357429.980188\n",
       "Name: 0, dtype: float64"
      ]
     },
     "execution_count": 137,
     "metadata": {},
     "output_type": "execute_result"
    }
   ],
   "source": [
    "import pandas as pd\n",
    "df=  pd.DataFrame({\"x\":x,\"y\":y})\n",
    "# Liste des valeur x et y\n",
    "# 1.0 -3110.531663\n",
    "# 1.1 -2825.482705\n",
    "# 1.2 -2623.199764\n",
    "# 1.3 -2478.103466\n",
    "# 1.4 -2373.570530\n",
    "# 1.5 -2298.445032\n",
    "# 1.6 -2245.033229\n",
    "# 1.7 -2207.903507\n",
    "# 1.8 -2183.142831\n",
    "# 1.9 -2167.881929\n",
    "# 2.0 -2159.983996\n",
    "# 2.1 -2157.835771  &lt;=\n",
    "# 2.2 -2160.204391\n",
    "# 2.3 -2166.137473\n",
    "# 2.4 -2174.892189\n",
    "# 2.5 -2185.884166\n",
    "\n",
    "# Ou plus simplement avec idxmax\n",
    "df.iloc[df[\"y\"].idxmax()]\n",
    "#x       2.1\n",
    "#y   -2157.835771\n"
   ]
  },
  {
   "cell_type": "code",
   "execution_count": null,
   "metadata": {},
   "outputs": [],
   "source": [
    "from sympy import symbols, solve\n",
    "\n",
    "n=len(norm)\n",
    "norme = [i**k for i in norm]\n",
    "mu = (len(norm)/(sum(norme)))**(1/k)\n",
    "x=norm  \n",
    "print(x[1])\n",
    "k = symbols('k')\n",
    "expr = sum(np.log(mu*x)*(mu*x)**k)-(n/k)-n*np.log(mu)+sum(np.log(x))\n",
    "\n",
    "\n",
    "sol = solve(expr)\n",
    "\n",
    "print(sol)"
   ]
  },
  {
   "cell_type": "code",
   "execution_count": 167,
   "metadata": {},
   "outputs": [
    {
     "name": "stderr",
     "output_type": "stream",
     "text": [
      "/home/aghoul/venv/local/lib/python3.6/site-packages/ipykernel_launcher.py:7: RuntimeWarning: invalid value encountered in log\n",
      "  import sys\n",
      "/home/aghoul/venv/local/lib/python3.6/site-packages/ipykernel_launcher.py:25: RuntimeWarning: overflow encountered in exp\n"
     ]
    },
    {
     "name": "stdout",
     "output_type": "stream",
     "text": [
      "Warning: Maximum number of function evaluations has been exceeded.\n",
      "Les paramètres estimés par la méthode de la vraisemblance sont : \n",
      "alpha =  165.18352890572584 , beta =  1.3886195498863754 , beta =  1.9364251414314578e-05\n"
     ]
    }
   ],
   "source": [
    "def log_vraissemblance(param, *args):\n",
    "    mu,k, l = param\n",
    "    data = args[0]\n",
    "    L = []\n",
    "    for x in data:\n",
    "        y =  fweib(x/1000000,mu,k,l)\n",
    "        L.append(np.log(y))  \n",
    "    return -1*sum(L) \n",
    "  \n",
    "\n",
    "\n",
    "result = fmin(log_vraissemblance, [1, 1.2,0.1],args=(taille,))\n",
    "alpha2, beta2, c = result\n",
    "\n",
    "print(\"Les paramètres estimés par la méthode de la vraisemblance sont : \\nalpha = \", alpha2, \", beta = \",beta2,\", beta = \",c)\n"
   ]
  },
  {
   "cell_type": "code",
   "execution_count": 16,
   "metadata": {},
   "outputs": [
    {
     "ename": "SyntaxError",
     "evalue": "invalid syntax (<ipython-input-16-80b611333a54>, line 1)",
     "output_type": "error",
     "traceback": [
      "\u001b[0;36m  File \u001b[0;32m\"<ipython-input-16-80b611333a54>\"\u001b[0;36m, line \u001b[0;32m1\u001b[0m\n\u001b[0;31m    logL=function(theta){\u001b[0m\n\u001b[0m                        ^\u001b[0m\n\u001b[0;31mSyntaxError\u001b[0m\u001b[0;31m:\u001b[0m invalid syntax\n"
     ]
    }
   ],
   "source": [
    "logL=function(theta){\n",
    "    p=theta[1]\n",
    "    m1=theta[2]\n",
    "    s1=theta[3]\n",
    "    m2=theta[4]\n",
    "    s2=theta[5]\n",
    "    logL=-sum(log(p*dnorm(X,m1,s1)+(1-p)*dnorm(X,m2,s2)))\n",
    "return(logL)\n",
    "}"
   ]
  },
  {
   "cell_type": "code",
   "execution_count": 186,
   "metadata": {},
   "outputs": [
    {
     "data": {
      "image/png": "[encoded data removed]",
      "text/plain": [
       "<Figure size 432x288 with 1 Axes>"
      ]
     },
     "metadata": {
      "needs_background": "light"
     },
     "output_type": "display_data"
    }
   ],
   "source": [
    "x=np.arange(500,30000,0.5)\n",
    "\n",
    "def f(x, l,b,g,seuil):\n",
    "    t = []\n",
    "    for i in x :\n",
    "        if i > seuil:\n",
    "            t.append(beta_poisson_f(i/g,l)*beta.pdf(i/g,1,b))\n",
    "        else: \n",
    "            t.append(beta_poisson_f(i/g,l))\n",
    "        \n",
    "    return t\n",
    "    \n",
    "line1, =plt.plot(x,f(x,200,2,1000000,5000))\n",
    "line2, =plt.plot(x,f(x,200,2,1000000,5000))\n",
    "#plt.hist(taille,bins=30)\n",
    "plt.show()\n"
   ]
  },
  {
   "cell_type": "code",
   "execution_count": 163,
   "metadata": {},
   "outputs": [
    {
     "data": {
      "image/png": "[encoded data removed]",
      "text/plain": [
       "<Figure size 432x288 with 1 Axes>"
      ]
     },
     "metadata": {
      "needs_background": "light"
     },
     "output_type": "display_data"
    }
   ],
   "source": [
    "p = 0.5\n",
    "mean, var, skew, kurt = geom.stats(p, moments='mvsk')\n",
    "x = np.arange(geom.ppf(0.01, p),\n",
    "              geom.ppf(0.99, p))\n",
    "fig, ax = plt.subplots(1, 1)\n",
    "ax.plot(x, geom.pmf(x, p), 'bo', ms=8, label='geom pmf')\n",
    "ax.vlines(x, 0, geom.pmf(x, p), colors='b', lw=5, alpha=0.5)\n",
    "rv = geom(p)\n",
    "ax.vlines(x, 0, rv.pmf(x), colors='k', linestyles='-', lw=1,\n",
    "        label='frozen pmf')\n",
    "ax.legend(loc='best', frameon=False)\n",
    "plt.show()\n",
    "prob = geom.cdf(x, p)\n",
    "np.allclose(x, geom.ppf(prob, p))\n",
    "r = geom.rvs(p, size=1000)\n"
   ]
  },
  {
   "cell_type": "code",
   "execution_count": 164,
   "metadata": {},
   "outputs": [
    {
     "data": {
      "image/png": "[encoded data removed]",
      "text/plain": [
       "<Figure size 432x288 with 1 Axes>"
      ]
     },
     "metadata": {
      "needs_background": "light"
     },
     "output_type": "display_data"
    }
   ],
   "source": [
    "def f(x, p, l):\n",
    "    g=1000000\n",
    "    return ((1-p)*l*((np.exp(g*(np.log(p)-l))-np.exp(x*(np.log(p)-l)))/(np.log(p)-l)))\n",
    "\n",
    "x=np.linspace(0,0.06,1000)\n",
    "line1, =plt.plot(x,f(x,0.99,100)*1000000)\n",
    "\n",
    "#plt.hist(taille,bins=30)\n",
    "plt.show()"
   ]
  },
  {
   "cell_type": "code",
   "execution_count": 165,
   "metadata": {},
   "outputs": [
    {
     "data": {
      "image/png": "[encoded data removed]",
      "text/plain": [
       "<Figure size 432x288 with 1 Axes>"
      ]
     },
     "metadata": {
      "needs_background": "light"
     },
     "output_type": "display_data"
    }
   ],
   "source": [
    "def fg(x, p, l):\n",
    "    g=1000000\n",
    "    return (-(1-p)*p**x)*(np.exp(-l*g)-np.exp(-l*x))\n",
    "x=np.linspace(0,0.06,10000)\n",
    "line1, =plt.plot(x,fg(x,0.99,100)*1000000)\n",
    "#line2, =plt.plot(x,10000*np.exp(-10000*x))\n",
    "#plt.hist(taille,bins=30)\n",
    "plt.show()"
   ]
  },
  {
   "cell_type": "code",
   "execution_count": null,
   "metadata": {},
   "outputs": [],
   "source": []
  },
  {
   "cell_type": "code",
   "execution_count": null,
   "metadata": {},
   "outputs": [],
   "source": []
  }
 ],
 "metadata": {
  "kernelspec": {
   "display_name": "Python 3",
   "language": "python",
   "name": "python3"
  },
  "language_info": {
   "codemirror_mode": {
    "name": "ipython",
    "version": 3
   },
   "file_extension": ".py",
   "mimetype": "text/x-python",
   "name": "python",
   "nbconvert_exporter": "python",
   "pygments_lexer": "ipython3",
   "version": "3.6.7"
  }
 },
 "nbformat": 4,
 "nbformat_minor": 2
}
