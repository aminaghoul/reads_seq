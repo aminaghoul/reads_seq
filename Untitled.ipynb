{
 "cells": [
  {
   "cell_type": "code",
   "execution_count": 83,
   "metadata": {},
   "outputs": [],
   "source": [
    "import scipy.stats\n",
    "\n",
    "from numpy import exp\n",
    "from numpy import pi\n",
    "from numpy import sqrt\n",
    "\n",
    "import numpy as np\n",
    "from matplotlib import pyplot as plt\n"
   ]
  },
  {
   "cell_type": "code",
   "execution_count": 18,
   "metadata": {},
   "outputs": [
    {
     "data": {
      "text/plain": [
       "7.61985302416047e-24"
      ]
     },
     "execution_count": 18,
     "metadata": {},
     "output_type": "execute_result"
    }
   ],
   "source": [
    "def p_norm(loc, scale, x): return scipy.stats.norm(loc, scale).cdf(x)\n",
    "p_norm(10, 1, 0)"
   ]
  },
  {
   "cell_type": "code",
   "execution_count": 152,
   "metadata": {},
   "outputs": [],
   "source": [
    "def function(f, x_min, x_max, nb_x):\n",
    "    \"\"\"Prend comme paramètre une fonction densité, qui devra prendre en compte un ensemble x\n",
    "    comme paramètre.\n",
    "    \"\"\"\n",
    "    \n",
    "    pas = (x_max - x_min) / (nb_x * 2)\n",
    "    # On prend en compte un décalage, car l'intégrale sera sur un intervalle, par conséquent il est plus judicieux\n",
    "    #    de l'associer au milieu des segments de l'axe\n",
    "    x = np.linspace(x_min + pas, x_max - pas, nb_x)\n",
    "    return sum(map(f, x)) * (x[1] - x[0])"
   ]
  },
  {
   "cell_type": "code",
   "execution_count": 112,
   "metadata": {},
   "outputs": [
    {
     "data": {
      "text/plain": [
       "0.5"
      ]
     },
     "execution_count": 112,
     "metadata": {},
     "output_type": "execute_result"
    }
   ],
   "source": [
    "np.linspace(1, 2, 3)[1] - np.linspace(1, 2, 3)[0]"
   ]
  },
  {
   "cell_type": "code",
   "execution_count": 218,
   "metadata": {},
   "outputs": [
    {
     "name": "stdout",
     "output_type": "stream",
     "text": [
      "[array([   0.,    0.,    0.,    0.,    0., 1000.,    0.,    0.,    0.,\n",
      "          0.]), array([ 999.5,  999.6,  999.7,  999.8,  999.9, 1000. , 1000.1, 1000.2,\n",
      "       1000.3, 1000.4, 1000.5]), <a list of 10 Patch objects>]\n"
     ]
    },
    {
     "name": "stderr",
     "output_type": "stream",
     "text": [
      "c:\\users\\ghoul nadir\\.env\\lib\\site-packages\\ipykernel_launcher.py:12: DeprecationWarning: object of type <class 'float'> cannot be safely interpreted as an integer.\n",
      "  if sys.path[0] == '':\n"
     ]
    },
    {
     "ename": "ValueError",
     "evalue": "operands could not be broadcast together with shapes (11,) (10,) ",
     "output_type": "error",
     "traceback": [
      "\u001b[1;31m---------------------------------------------------------------------------\u001b[0m",
      "\u001b[1;31mValueError\u001b[0m                                Traceback (most recent call last)",
      "\u001b[1;32m<ipython-input-218-d9bade662046>\u001b[0m in \u001b[0;36m<module>\u001b[1;34m\u001b[0m\n\u001b[0;32m     16\u001b[0m erreur(\n\u001b[0;32m     17\u001b[0m     \u001b[1;33m[\u001b[0m\u001b[1;36m1000\u001b[0m\u001b[1;33m]\u001b[0m\u001b[1;33m*\u001b[0m\u001b[1;36m1000\u001b[0m\u001b[1;33m,\u001b[0m\u001b[1;33m\u001b[0m\u001b[0m\n\u001b[1;32m---> 18\u001b[1;33m     \u001b[1;36m1\u001b[0m\u001b[1;33m,\u001b[0m \u001b[1;36m11\u001b[0m\u001b[1;33m\u001b[0m\u001b[0m\n\u001b[0m\u001b[0;32m     19\u001b[0m )\n",
      "\u001b[1;32m<ipython-input-218-d9bade662046>\u001b[0m in \u001b[0;36merreur\u001b[1;34m(echantillon, mu, sigma)\u001b[0m\n\u001b[0;32m     12\u001b[0m     \u001b[0mx\u001b[0m \u001b[1;33m=\u001b[0m \u001b[0mnp\u001b[0m\u001b[1;33m.\u001b[0m\u001b[0mlinspace\u001b[0m\u001b[1;33m(\u001b[0m\u001b[0mmini\u001b[0m \u001b[1;33m+\u001b[0m \u001b[1;33m(\u001b[0m\u001b[0mpas\u001b[0m \u001b[1;33m/\u001b[0m \u001b[1;36m2\u001b[0m\u001b[1;33m)\u001b[0m\u001b[1;33m,\u001b[0m \u001b[0mmaxi\u001b[0m \u001b[1;33m-\u001b[0m \u001b[1;33m(\u001b[0m\u001b[0mpas\u001b[0m \u001b[1;33m/\u001b[0m \u001b[1;36m2\u001b[0m\u001b[1;33m)\u001b[0m\u001b[1;33m,\u001b[0m \u001b[0mpas\u001b[0m\u001b[1;33m)\u001b[0m\u001b[1;33m\u001b[0m\u001b[0m\n\u001b[0;32m     13\u001b[0m     \u001b[0my\u001b[0m \u001b[1;33m=\u001b[0m \u001b[0mBetaNormale\u001b[0m\u001b[1;33m(\u001b[0m\u001b[0mmu\u001b[0m\u001b[1;33m,\u001b[0m \u001b[0msigma\u001b[0m\u001b[1;33m)\u001b[0m\u001b[1;33m.\u001b[0m\u001b[0mf\u001b[0m\u001b[1;33m(\u001b[0m\u001b[0mx\u001b[0m\u001b[1;33m)\u001b[0m\u001b[1;33m\u001b[0m\u001b[0m\n\u001b[1;32m---> 14\u001b[1;33m     \u001b[0mhistogramme\u001b[0m\u001b[1;33m,\u001b[0m \u001b[0my\u001b[0m \u001b[1;33m=\u001b[0m \u001b[0mmap\u001b[0m\u001b[1;33m(\u001b[0m\u001b[0mnormalize\u001b[0m\u001b[1;33m,\u001b[0m \u001b[1;33m(\u001b[0m\u001b[0mhistogramme\u001b[0m\u001b[1;33m,\u001b[0m \u001b[0my\u001b[0m\u001b[1;33m)\u001b[0m\u001b[1;33m)\u001b[0m\u001b[1;33m\u001b[0m\u001b[0m\n\u001b[0m\u001b[0;32m     15\u001b[0m \u001b[1;33m\u001b[0m\u001b[0m\n\u001b[0;32m     16\u001b[0m erreur(\n",
      "\u001b[1;32m<ipython-input-218-d9bade662046>\u001b[0m in \u001b[0;36mnormalize\u001b[1;34m(array)\u001b[0m\n\u001b[0;32m      2\u001b[0m     \u001b[0marray\u001b[0m \u001b[1;33m=\u001b[0m \u001b[0mlist\u001b[0m\u001b[1;33m(\u001b[0m\u001b[0marray\u001b[0m\u001b[1;33m)\u001b[0m\u001b[1;33m\u001b[0m\u001b[0m\n\u001b[0;32m      3\u001b[0m     \u001b[0mprint\u001b[0m\u001b[1;33m(\u001b[0m\u001b[0marray\u001b[0m\u001b[1;33m)\u001b[0m\u001b[1;33m\u001b[0m\u001b[0m\n\u001b[1;32m----> 4\u001b[1;33m     \u001b[0mmini\u001b[0m\u001b[1;33m,\u001b[0m \u001b[0mmaxi\u001b[0m \u001b[1;33m=\u001b[0m \u001b[0mmin\u001b[0m\u001b[1;33m(\u001b[0m\u001b[0marray\u001b[0m\u001b[1;33m)\u001b[0m\u001b[1;33m,\u001b[0m \u001b[0mmax\u001b[0m\u001b[1;33m(\u001b[0m\u001b[0marray\u001b[0m\u001b[1;33m)\u001b[0m\u001b[1;33m\u001b[0m\u001b[0m\n\u001b[0m\u001b[0;32m      5\u001b[0m     \u001b[1;32mreturn\u001b[0m \u001b[1;33m[\u001b[0m\u001b[1;33m(\u001b[0m\u001b[0mi\u001b[0m \u001b[1;33m-\u001b[0m \u001b[0mmini\u001b[0m\u001b[1;33m)\u001b[0m \u001b[1;33m/\u001b[0m \u001b[1;33m(\u001b[0m\u001b[0mmaxi\u001b[0m \u001b[1;33m-\u001b[0m \u001b[0mmini\u001b[0m\u001b[1;33m)\u001b[0m \u001b[1;32mfor\u001b[0m \u001b[0mi\u001b[0m \u001b[1;32min\u001b[0m \u001b[0marray\u001b[0m\u001b[1;33m]\u001b[0m\u001b[1;33m\u001b[0m\u001b[0m\n\u001b[0;32m      6\u001b[0m \u001b[1;33m\u001b[0m\u001b[0m\n",
      "\u001b[1;31mValueError\u001b[0m: operands could not be broadcast together with shapes (11,) (10,) "
     ]
    },
    {
     "data": {
      "image/png": "[encoded data removed]",
      "text/plain": [
       "<Figure size 432x288 with 1 Axes>"
      ]
     },
     "metadata": {
      "needs_background": "light"
     },
     "output_type": "display_data"
    }
   ],
   "source": [
    "def normalize(array):\n",
    "    array = list(array)\n",
    "    print(array)\n",
    "    mini, maxi = min(array), max(array)\n",
    "    return [(i - mini) / (maxi - mini) for i in array]\n",
    "\n",
    "def erreur(echantillon, mu, sigma):\n",
    "    mini, maxi = min(echantillon), max(echantillon)\n",
    "    histogramme = list(plt.hist(echantillon))\n",
    "    precision = len(histogramme)\n",
    "    pas = (maxi - mini) / precision\n",
    "    x = np.linspace(mini + (pas / 2), maxi - (pas / 2), pas)\n",
    "    y = BetaNormale(mu, sigma).f(x)\n",
    "    histogramme, y = map(normalize, (histogramme, y))\n",
    "\n",
    "erreur(\n",
    "    [1000]*1000,\n",
    "    1, 11\n",
    ")"
   ]
  },
  {
   "cell_type": "code",
   "execution_count": 219,
   "metadata": {},
   "outputs": [
    {
     "data": {
      "text/plain": [
       "array([9.0000e+00, 4.7000e+01, 2.0800e+02, 7.4900e+02, 2.2530e+03,\n",
       "       5.4110e+03, 1.0413e+04, 1.5708e+04, 1.8971e+04, 1.8134e+04,\n",
       "       1.3667e+04, 8.2020e+03, 4.0040e+03, 1.5940e+03, 5.0400e+02,\n",
       "       9.7000e+01, 2.2000e+01, 6.0000e+00, 0.0000e+00, 1.0000e+00])"
      ]
     },
     "execution_count": 219,
     "metadata": {},
     "output_type": "execute_result"
    },
    {
     "data": {
      "image/png": "[encoded data removed]",
      "text/plain": [
       "<Figure size 432x288 with 2 Axes>"
      ]
     },
     "metadata": {
      "needs_background": "light"
     },
     "output_type": "display_data"
    }
   ],
   "source": [
    "N_points = 100000\n",
    "n_bins = 20\n",
    "\n",
    "# Generate a normal distribution, center at x=0 and y=5\n",
    "x = np.random.randn(N_points)\n",
    "y = .4 * x + np.random.randn(100000) + 5\n",
    "\n",
    "fig, axs = plt.subplots(1, 2, sharey=True, tight_layout=True)\n",
    "\n",
    "# We can set the number of bins with the `bins` kwarg\n",
    "axs[0].hist(x, bins=n_bins)\n",
    "axs[1].hist(y, bins=n_bins)[0]"
   ]
  },
  {
   "cell_type": "code",
   "execution_count": 220,
   "metadata": {},
   "outputs": [],
   "source": [
    "class BetaNormale:\n",
    "    def __init__(self, mu, sigma):\n",
    "        self.mu, self.sigma = mu, sigma\n",
    "        \n",
    "    def f(self, x):\n",
    "        if isinstance(x, (int, float)):            \n",
    "            def g(y):\n",
    "                if x == 1: return 0\n",
    "                if y == 1: return 0\n",
    "                _a = y*(1-x)**(y-1)\n",
    "                _b = exp(- ((y-mu)**2) / (2*(sigma**2)))\n",
    "                _c = sqrt(2*pi)\n",
    "                return _a * (_b / _c)\n",
    "\n",
    "            mu, sigma = self.mu, self.sigma\n",
    "            a = (1 / (1 - scipy.stats.norm(mu, sigma).cdf(0)))\n",
    "            b = function(g, 0, 1000, 1000)\n",
    "            # print('B', x, b)\n",
    "            return a * b\n",
    "        else:\n",
    "            return list(map(self.f, x))"
   ]
  },
  {
   "cell_type": "code",
   "execution_count": 221,
   "metadata": {},
   "outputs": [
    {
     "data": {
      "text/plain": [
       "1.3119212440265172e-17"
      ]
     },
     "execution_count": 221,
     "metadata": {},
     "output_type": "execute_result"
    },
    {
     "data": {
      "image/png": "[encoded data removed]",
      "text/plain": [
       "<Figure size 432x288 with 1 Axes>"
      ]
     },
     "metadata": {
      "needs_background": "light"
     },
     "output_type": "display_data"
    }
   ],
   "source": [
    "loi = BetaNormale(100, 10)\n",
    "\n",
    "x = np.linspace(0, 0.2, 1000)\n",
    "plt.plot(x, loi.f(x))\n",
    "loi.f(0.5)"
   ]
  },
  {
   "cell_type": "code",
   "execution_count": 222,
   "metadata": {},
   "outputs": [],
   "source": [
    "x_min = 0\n",
    "x_max = 1000\n",
    "nb_val = 1001\n",
    "\n",
    "mu, sigma = 0, 1\n",
    "\n",
    "def g(y):\n",
    "    _a = y*(1-x)**(y-1)\n",
    "    _b = exp(- ((y-mu)**2) / (2*(sigma**2)))\n",
    "    _c = sqrt(2*pi)\n",
    "    return _a * (_b / _c)\n",
    "\n",
    "x = np.linspace(x_min, x_max, nb_val)"
   ]
  },
  {
   "cell_type": "code",
   "execution_count": 223,
   "metadata": {},
   "outputs": [],
   "source": [
    "def loi_optimale(sample):\n",
    "    \"\"\"\n",
    "    Prend une liste de tailles de gènes et tente de trouver une loi optimale pouvant définir l'échantillon\n",
    "\n",
    "    :param x: Une liste de nombres (tailles).\n",
    "    :return: La loi, caractérisée par un nom et des paramètres.\n",
    "    \"\"\"\n",
    "    pass"
   ]
  },
  {
   "cell_type": "code",
   "execution_count": null,
   "metadata": {},
   "outputs": [],
   "source": []
  },
  {
   "cell_type": "code",
   "execution_count": null,
   "metadata": {},
   "outputs": [],
   "source": []
  }
 ],
 "metadata": {
  "kernelspec": {
   "display_name": "Python 3",
   "language": "python",
   "name": "python3"
  },
  "language_info": {
   "codemirror_mode": {
    "name": "ipython",
    "version": 3
   },
   "file_extension": ".py",
   "mimetype": "text/x-python",
   "name": "python",
   "nbconvert_exporter": "python",
   "pygments_lexer": "ipython3",
   "version": "3.7.0"
  }
 },
 "nbformat": 4,
 "nbformat_minor": 2
}
