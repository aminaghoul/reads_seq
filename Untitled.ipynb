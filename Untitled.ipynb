{
 "cells": [
  {
   "cell_type": "code",
   "execution_count": 149,
   "metadata": {},
   "outputs": [],
   "source": [
    "import random\n",
    "\n",
    "import scipy.stats\n",
    "\n",
    "from numpy import exp\n",
    "from numpy import pi\n",
    "from numpy import sqrt\n",
    "\n",
    "import numpy as np\n",
    "from matplotlib import pyplot as plt\n",
    "\n",
    "from scipy.optimize import fmin\n",
    "\n",
    "from functools import partial\n",
    "from itertools import chain\n",
    "from numpy.random import choice"
   ]
  },
  {
   "cell_type": "code",
   "execution_count": null,
   "metadata": {},
   "outputs": [],
   "source": []
  },
  {
   "cell_type": "code",
   "execution_count": 123,
   "metadata": {},
   "outputs": [],
   "source": [
    "def integrale_trapeze(f, x_min, x_max, nb_x):\n",
    "    pas = (x_max - x_min) / (nb_x * 2)\n",
    "    # On prend en compte un décalage, car l'intégrale sera sur un intervalle, par conséquent il est plus judicieux\n",
    "    #    de l'associer au milieu des segments de l'axe\n",
    "    x = np.linspace(x_min + pas, x_max - pas, nb_x)\n",
    "    return sum(map(f, x)) * (x[1] - x[0])\n",
    "\n",
    "def beta_normale_f(mu, sigma, x):\n",
    "        if isinstance(x, (int, float)):            \n",
    "            def g(y):\n",
    "                if x == 1: return 0\n",
    "                if y == 1: return 0\n",
    "                _a = y*(1-x)**(y-1)\n",
    "                _b = exp(- ((y-mu)**2) / (2*(sigma**2)))\n",
    "                _c = sqrt(2*pi)\n",
    "                return _a * (_b / _c)\n",
    "\n",
    "            a = (1 / (1 - scipy.stats.norm(mu, sigma).cdf(0)))\n",
    "            b = integrale_trapeze(g, 0, 1000, 1000)\n",
    "            return a * b\n",
    "        else:\n",
    "            return list(map(partial(beta_normale_f, mu, sigma), x))\n",
    "        \n",
    "def beta_uniforme_f(a, b, x):\n",
    "    return 1./((b-a)*np.exp(np.log(1-x)))*(b*np.exp(b*np.log(1-x))/np.log(1-x) - \n",
    "                                           a*np.exp(a*np.log(1-x))/np.log(1-x) -\n",
    "                                           np.exp(b*np.log(1-x))/((np.log(1-x))**2) + \n",
    "                                           np.exp(a*np.log(1-x))/((np.log(1-x))**2))\n",
    "\n",
    "\n",
    "def beta_poisson_f(x, l):\n",
    "    return (l*np.exp(-l*x))\n",
    "\n",
    "\n",
    "def normalize(array):\n",
    "    mini, maxi = min(array), max(array)\n",
    "    if mini == maxi:\n",
    "        return [1 / len(array) for i in array]\n",
    "    return [(i - mini) / (maxi - mini) for i in array]\n",
    "\n",
    "def erreur(echantillon, fonction_densite, parametres):\n",
    "    \"\"\"Retourne l'erreur, par la méthode des moindres carrés permettant de noter un couple mu, sigma\"\"\"\n",
    "    mini, maxi = min(echantillon), max(echantillon)\n",
    "    histogramme, _, _ = plt.hist(echantillon, bins=10)\n",
    "    # histogramme, _, _ = histogramme\n",
    "    precision = len(histogramme)\n",
    "    pas = (maxi - mini) / precision\n",
    "    x = np.linspace(mini + (pas / 2), maxi - (pas / 2), precision - 1)\n",
    "    y = fonction_densite(*list(parametres), x)\n",
    "    histogramme, y = map(normalize, (histogramme, y))\n",
    "    err = sum( (i-j)**2 for i, j in zip(histogramme, y))\n",
    "    return err\n",
    "\n",
    "def loi_optimale(sample):\n",
    "    \"\"\"\n",
    "    Prend une liste de tailles de gènes et tente de trouver une loi optimale pouvant définir l'échantillon\n",
    "\n",
    "    :param x: Une liste de nombres (tailles).\n",
    "    :return: La loi, caractérisée par un nom et des paramètres.\n",
    "    \"\"\"\n",
    "    fonctions = dict(\n",
    "        normale=beta_normale_f,\n",
    "        uniforme=beta_uniforme_f)\n",
    "    erreurs = []\n",
    "    \n",
    "    for nom, f, initial in [\n",
    "        ('normale', beta_normale_f, [100, 10]),\n",
    "        ('uniforme', beta_uniforme_f, [100, 200]),\n",
    "        ('poisson', beta_poisson_f, [100])\n",
    "    ]:\n",
    "        opt = fmin(partial(erreur, sample, f), initial,) \n",
    "        plt.show()\n",
    "        err = erreur(sample, f, opt)\n",
    "        erreurs.append((nom, err, opt))\n",
    "        print(f'Fonction {nom} optimale pour les parametres {tuple(opt)} (erreur de {err})')\n",
    "        _ = plt.hist(fracture([1000000]*10, nom, opt), bins=10)\n",
    "        plt.show()\n",
    "    \n",
    "    return min(erreurs, key=lambda i: i[1])\n",
    "    "
   ]
  },
  {
   "cell_type": "markdown",
   "metadata": {},
   "source": [
    "# Vérification visuelle, via régénération d'échantillons à partir des paramètres optimaux"
   ]
  },
  {
   "cell_type": "code",
   "execution_count": 172,
   "metadata": {},
   "outputs": [],
   "source": [
    "lois = ['normale', 'uniforme', 'poisson']\n",
    "\n",
    "\n",
    "def poid(element, tout, maxi, mini):\n",
    "    \"\"\"Les petites valeurs sont privilégiées.\"\"\"\n",
    "    return maxi - element + 100\n",
    "\n",
    "\n",
    "def get_parts(longueur, nbr_frag):\n",
    "    \"\"\"\n",
    "    découpe aléatoirement un génome \n",
    "    <longueur>: longueur du génome à découper\n",
    "    <nbr_frag>: nombre de fragments souhaités\n",
    "    Return <nll>: liste de taille des fragments obtenus\n",
    "    \"\"\"\n",
    "    cuts = set()\n",
    "    while len(cuts) < nbr_frag - 1:\n",
    "        cuts.add(random.randint(1, longueur - 1))\n",
    "    cuts = [0] + list(sorted(cuts)) + [longueur]\n",
    "    return [cuts[i + 1] - cuts[i] for i in range(len(cuts) - 1)]\n",
    "\n",
    "\n",
    "def fracture(echantillons, loi='normale', parametres=None, source=None):\n",
    "    \"\"\"\n",
    "    Fracture une liste d'échantillons en utilisant un nombre de fractures variables de loi n = Norm(N, sigma)\n",
    "    :param sigma:\n",
    "    :param n: Ecart-type\n",
    "    :param echantillons:\n",
    "    :return:\n",
    "    \"\"\"\n",
    "    if loi == 'normale':\n",
    "        n, sigma = parametres\n",
    "        nfrag = n + np.random.randn(len(echantillons)) * sigma\n",
    "        \n",
    "    elif loi == 'uniforme':\n",
    "        nmin, nmax = parametres\n",
    "        nfrag = np.random.uniform(nmin, nmax, len(echantillons))\n",
    "\n",
    "    elif loi == 'poisson':\n",
    "        n = parametres\n",
    "        nfrag = np.random.poisson(n, len(echantillons))\n",
    "        \n",
    "    else:\n",
    "        raise NotImplementedError(loi)\n",
    "    échantillons_fracturés = []\n",
    "    échantillon_fracture = []\n",
    "\n",
    "    # On prends chaque échantillon et lui associe un nombre de fractures, converti en int à la volée\n",
    "    for index, (nombre_fragments, taille_échantillon) in enumerate(zip(map(int, nfrag), echantillons)):\n",
    "\n",
    "        if nombre_fragments > taille_échantillon:\n",
    "            raise ValueError(\n",
    "                '\\n\\n\\n'\n",
    "                'ERREUR: Le nombre de fragments demandé est trop grand, il est impossible de continuer\\n'\n",
    "                'Vous pouvez: \\n'\n",
    "                '\\t- Réduire le nombre de fragments demandé, en jouant sur N et sigma\\n'\n",
    "                '\\t- Augmenter la taille des échantillons à fracturer\\n'\n",
    "            )\n",
    "        # Il y aura n - 1 fractures pour obtenir n elements\n",
    "        nombre_fractures = nombre_fragments - 1\n",
    "\n",
    "        # Une fracture sera placée avant l'index désigné, donc une fracture\n",
    "        #   localisée à l'index 1 donnera un morceau de 1 et un de taille - 1\n",
    "        fractures = set()\n",
    "        while len(fractures) < nombre_fractures:\n",
    "            fractures.update(np.random.randint(1, taille_échantillon - 1, nombre_fractures))\n",
    "        if len(fractures) != nombre_fractures:\n",
    "            if len(fractures) < nombre_fractures:\n",
    "                raise RuntimeError('ERREUR: Une erreur s\\'est produite: pas assez de fragments')\n",
    "            fractures = set(list(fractures)[:nombre_fractures])\n",
    "            \n",
    "        fractures = list(fractures)\n",
    "        \n",
    "        fractures = [0] + list(sorted(fractures)) + [taille_échantillon]\n",
    "        échantillon_fracturé = [\n",
    "            fractures[i + 1] - fractures[i] for i in range(len(fractures) - 1)\n",
    "        ]\n",
    "        if sum(échantillon_fracturé) != taille_échantillon:\n",
    "            raise RuntimeError(\n",
    "                \"ERREUR: Une erreur s'est produite lors de la fragmentation, \\n\"\n",
    "                f\"Nous avons {abs(sum(échantillon_fracturé) - taille_échantillon)}\"\n",
    "                f\" fragments de différence entre ce qu'on attendais et ce qu'on a\"\n",
    "                f\" ({sum(échantillon_fracturé)} contre {taille_échantillon})\"\n",
    "            )\n",
    "        échantillon_fracturé = list(i for i in sorted(échantillon_fracturé))\n",
    "        échantillons_fracturés.append(échantillon_fracturé)\n",
    "        \n",
    "    fragments = list(chain.from_iterable(échantillons_fracturés))\n",
    "    if source is None:\n",
    "        return fragments\n",
    "    if source.upper() == 'MINION':\n",
    "        maxi, mini = max(fragments), min(fragments)\n",
    "        poids = list(map(partial(poid, mini=mini, maxi=maxi, tout=fragments), fragments))\n",
    "        # s=sum(poids) #172138\n",
    "        s = 0\n",
    "        for i in poids: s += i\n",
    "        \n",
    "        print([i for i in poids if i < 0])\n",
    "        print(s)\n",
    "        fragments = choice(fragments, 100, p=poids/s, replace=False)\n",
    "    elif source.upper() == 'PACBIO':\n",
    "        fragments = [i  for i in fragments if i >= 10000]\n",
    "        ok, ko = [], []\n",
    "        for i in fragments:\n",
    "            (ok if i < 35000 else ko).append(i)\n",
    "        length = len(ko)\n",
    "\n",
    "        for i in ko:\n",
    "            ok.extend(get_parts(i,5))\n",
    "\n",
    "\n",
    "        maxi, mini = max(ok), min(ok)\n",
    "        sumi = sum(ok)\n",
    "\n",
    "        poids = list(map(partial(poid, mini=mini, maxi=maxi, tout=ok), ok))\n",
    "        s=sum(poids)# 35065\n",
    "        fragments = choice(ok, 100, p=poids/s, replace=False)\n",
    "    else:\n",
    "        raise NotImplementedError(source, source.upper())\n",
    "    return fragments"
   ]
  },
  {
   "cell_type": "markdown",
   "metadata": {},
   "source": [
    "# Exemple: "
   ]
  },
  {
   "cell_type": "markdown",
   "metadata": {},
   "source": [
    "## Etape 1: On génère des données"
   ]
  },
  {
   "cell_type": "code",
   "execution_count": 16,
   "metadata": {},
   "outputs": [],
   "source": [
    "def func(x):\n",
    "    l=100\n",
    "    return (l*np.exp(-l*x))\n",
    "# x = np.linspace(0,1,10)\n",
    "# plt.plot(x, func(x))\n",
    "def randomvariate(pdf,n=1000,xmin=0,xmax=1): \n",
    "    x=np.linspace(xmin,xmax,10)  \n",
    "    y=pdf(x)  \n",
    "    pmin=0.  \n",
    "    pmax=y.max()  \n",
    "   \n",
    "  # Counters  \n",
    "    naccept=0  \n",
    "    ntrial=0  \n",
    "   \n",
    "  # Keeps generating numbers until we achieve the desired n  \n",
    "    ran=[] # output list of random numbers  \n",
    "    while naccept<n:  \n",
    "        x=np.random.uniform(xmin,xmax) # x'  \n",
    "        y=np.random.uniform(pmin,pmax) # y'  \n",
    "   \n",
    "        if y<pdf(x):  \n",
    "            ran.append(x)  \n",
    "            naccept=naccept+1  \n",
    "        ntrial=ntrial+1  \n",
    "    \n",
    "    ran=np.asarray(ran)  \n",
    "    \n",
    "    return ran\n",
    "ran = randomvariate(func,987,0,1)\n",
    "plt.hist(ran)\n",
    "_ = plt.hist(ran)"
   ]
  },
  {
   "cell_type": "markdown",
   "metadata": {},
   "source": [
    "## Etape 2: On cherche la loi optimale, ainsi que ses paramètres optimaux"
   ]
  },
  {
   "cell_type": "code",
   "execution_count": 124,
   "metadata": {},
   "outputs": [
    {
     "name": "stdout",
     "output_type": "stream",
     "text": [
      "Optimization terminated successfully.\n",
      "         Current function value: 0.002221\n",
      "         Iterations: 63\n",
      "         Function evaluations: 119\n"
     ]
    },
    {
     "data": {
      "image/png": "[encoded data removed]",
      "text/plain": [
       "<Figure size 432x288 with 1 Axes>"
      ]
     },
     "metadata": {
      "needs_background": "light"
     },
     "output_type": "display_data"
    },
    {
     "name": "stdout",
     "output_type": "stream",
     "text": [
      "Fonction normale optimale pour les parametres (89.26342843166634, 37.11605860518772) (erreur de 0.0022208051785986495)\n"
     ]
    },
    {
     "data": {
      "image/png": "[encoded data removed]",
      "text/plain": [
       "<Figure size 432x288 with 1 Axes>"
      ]
     },
     "metadata": {
      "needs_background": "light"
     },
     "output_type": "display_data"
    },
    {
     "name": "stdout",
     "output_type": "stream",
     "text": [
      "Optimization terminated successfully.\n",
      "         Current function value: 0.002231\n",
      "         Iterations: 58\n",
      "         Function evaluations: 112\n"
     ]
    },
    {
     "data": {
      "image/png": "[encoded data removed]",
      "text/plain": [
       "<Figure size 432x288 with 1 Axes>"
      ]
     },
     "metadata": {
      "needs_background": "light"
     },
     "output_type": "display_data"
    },
    {
     "name": "stdout",
     "output_type": "stream",
     "text": [
      "Fonction uniforme optimale pour les parametres (147.53922867276464, 36.20281878210951) (erreur de 0.00223069431738658)\n"
     ]
    },
    {
     "data": {
      "image/png": "[encoded data removed]",
      "text/plain": [
       "<Figure size 432x288 with 1 Axes>"
      ]
     },
     "metadata": {
      "needs_background": "light"
     },
     "output_type": "display_data"
    },
    {
     "name": "stdout",
     "output_type": "stream",
     "text": [
      "Optimization terminated successfully.\n",
      "         Current function value: 0.019535\n",
      "         Iterations: 24\n",
      "         Function evaluations: 48\n"
     ]
    },
    {
     "data": {
      "image/png": "[encoded data removed]",
      "text/plain": [
       "<Figure size 432x288 with 1 Axes>"
      ]
     },
     "metadata": {
      "needs_background": "light"
     },
     "output_type": "display_data"
    },
    {
     "name": "stdout",
     "output_type": "stream",
     "text": [
      "Fonction poisson optimale pour les parametres (211.35826110839844,) (erreur de 0.01953529956899616)\n"
     ]
    },
    {
     "data": {
      "image/png": "[encoded data removed]",
      "text/plain": [
       "<Figure size 432x288 with 1 Axes>"
      ]
     },
     "metadata": {
      "needs_background": "light"
     },
     "output_type": "display_data"
    }
   ],
   "source": [
    "nom, erreur, parametres = loi_optimale(ran)"
   ]
  },
  {
   "cell_type": "code",
   "execution_count": null,
   "metadata": {},
   "outputs": [],
   "source": [
    "parametres = 100.14865322,  40.44395603"
   ]
  },
  {
   "cell_type": "code",
   "execution_count": 33,
   "metadata": {},
   "outputs": [
    {
     "name": "stdout",
     "output_type": "stream",
     "text": [
      "La méthode optimale est normale(89.26342843166634, 37.11605860518772)\n"
     ]
    }
   ],
   "source": [
    "print(f'La méthode optimale est {nom}{tuple(parametres)}')"
   ]
  },
  {
   "cell_type": "markdown",
   "metadata": {},
   "source": [
    "## Etape 3: On vérifie "
   ]
  },
  {
   "cell_type": "code",
   "execution_count": 223,
   "metadata": {},
   "outputs": [
    {
     "name": "stdout",
     "output_type": "stream",
     "text": [
      "[]\n",
      "2041072289\n"
     ]
    },
    {
     "data": {
      "image/png": "[encoded data removed]",
      "text/plain": [
       "<Figure size 432x288 with 1 Axes>"
      ]
     },
     "metadata": {
      "needs_background": "light"
     },
     "output_type": "display_data"
    }
   ],
   "source": [
    "_ = plt.hist(fracture([1000000]*100, nom, parametres, source='MINION'), bins=10)"
   ]
  }
 ],
 "metadata": {
  "kernelspec": {
   "display_name": "Python 3",
   "language": "python",
   "name": "python3"
  },
  "language_info": {
   "codemirror_mode": {
    "name": "ipython",
    "version": 3
   },
   "file_extension": ".py",
   "mimetype": "text/x-python",
   "name": "python",
   "nbconvert_exporter": "python",
   "pygments_lexer": "ipython3",
   "version": "3.7.1"
  }
 },
 "nbformat": 4,
 "nbformat_minor": 2
}
